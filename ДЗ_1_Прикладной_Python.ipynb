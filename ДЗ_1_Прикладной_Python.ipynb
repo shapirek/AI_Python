{
  "nbformat": 4,
  "nbformat_minor": 0,
  "metadata": {
    "colab": {
      "provenance": []
    },
    "kernelspec": {
      "name": "python3",
      "display_name": "Python 3"
    },
    "language_info": {
      "name": "python"
    }
  },
  "cells": [
    {
      "cell_type": "markdown",
      "source": [
        "*Ссылка на Colab: https://colab.research.google.com/drive/1U2KqKFCMJm-IfCgNpTl8iC5fIdUj-VlY?usp=sharing* (там можно посмотреть интерактивные графики)"
      ],
      "metadata": {
        "id": "mB00gMa71KiQ"
      }
    },
    {
      "cell_type": "markdown",
      "source": [
        "## ДЗ 1 (ОБЯЗАТЕЛЬНОЕ): Анализ температурных данных и мониторинг текущей температуры через OpenWeatherMap API\n",
        "\n",
        "**Описание задания:**  \n",
        "Вы аналитик в компании, занимающейся изучением климатических изменений и мониторингом температур в разных городах. Вам нужно провести анализ исторических данных о температуре для выявления сезонных закономерностей и аномалий. Также необходимо подключить API OpenWeatherMap для получения текущей температуры в выбранных городах и сравнить её с историческими данными.\n",
        "\n",
        "\n",
        "### Цели задания:\n",
        "1. Провести **анализ временных рядов**, включая:\n",
        "   - Вычисление скользящего среднего и стандартного отклонения для сглаживания температурных колебаний.\n",
        "   - Определение аномалий на основе отклонений температуры от $ \\text{скользящее среднее} \\pm 2\\sigma $.\n",
        "   - Построение долгосрочных трендов изменения температуры.\n",
        "   - Любые дополнительные исследования будут вам в плюс.\n",
        "\n",
        "2. Осуществить **мониторинг текущей температуры**:\n",
        "   - Получить текущую температуру через OpenWeatherMap API.\n",
        "   - Сравнить её с историческим нормальным диапазоном для текущего сезона.\n",
        "\n",
        "3. Разработать **интерактивное приложение**:\n",
        "   - Дать пользователю возможность выбрать город.\n",
        "   - Отобразить результаты анализа температур, включая временные ряды, сезонные профили и аномалии.\n",
        "   - Провести анализ текущей температуры в контексте исторических данных.\n",
        "\n",
        "\n",
        "### Описание данных\n",
        "Исторические данные о температуре содержатся в файле `temperature_data.csv`, включают:\n",
        "  - `city`: Название города.\n",
        "  - `timestamp`: Дата (с шагом в 1 день).\n",
        "  - `temperature`: Среднесуточная температура (в °C).\n",
        "  - `season`: Сезон года (зима, весна, лето, осень).\n",
        "\n",
        "Код для генерации файла вы найдете ниже.\n",
        "\n",
        "### Этапы выполнения\n",
        "\n",
        "1. **Анализ исторических данных**:\n",
        "   - Вычислить **скользящее среднее** температуры с окном в 30 дней для сглаживания краткосрочных колебаний.\n",
        "   - Рассчитать среднюю температуру и стандартное отклонение для каждого сезона в каждом городе.\n",
        "   - Выявить аномалии, где температура выходит за пределы $ \\text{среднее} \\pm 2\\sigma $.\n",
        "   - Попробуйте распараллелить проведение этого анализа. Сравните скорость выполнения анализа с распараллеливанием и без него.\n",
        "\n",
        "2. **Мониторинг текущей температуры**:\n",
        "   - Подключить OpenWeatherMap API для получения текущей температуры города. Для получения API Key (бесплатно) надо зарегистрироваться на сайте. Обратите внимание, что API Key может активироваться только через 2-3 часа, это нормально. Посему получите ключ заранее.\n",
        "   - Получить текущую температуру для выбранного города через OpenWeatherMap API.\n",
        "   - Определить, является ли текущая температура нормальной, исходя из исторических данных для текущего сезона.\n",
        "   - Данные на самом деле не совсем реальные (сюрпрайз). Поэтому на момент эксперимента погода в Берлине, Каире и Дубае была в рамках нормы, а в Пекине и Москве аномальная. Протестируйте свое решение для разных городов.\n",
        "   - Попробуйте для получения текущей температуры использовать синхронные и асинхронные методы. Что здесь лучше использовать?\n",
        "\n",
        "3. **Создание приложения на Streamlit**:\n",
        "   - Добавить интерфейс для загрузки файла с историческими данными.\n",
        "   - Добавить интерфейс для выбора города (из выпадающего списка).\n",
        "   - Добавить форму для ввода API-ключа OpenWeatherMap. Когда он не введен, данные для текущей погоды не показываются. Если ключ некорректный, выведите на экран ошибку (должно приходить `{\"cod\":401, \"message\": \"Invalid API key. Please see https://openweathermap.org/faq#error401 for more info.\"}`).\n",
        "   - Отобразить:\n",
        "     - Описательную статистику по историческим данным для города, можно добавить визуализации.\n",
        "     - Временной ряд температур с выделением аномалий (например, точками другого цвета).\n",
        "     - Сезонные профили с указанием среднего и стандартного отклонения.\n",
        "   - Вывести текущую температуру через API и указать, нормальна ли она для сезона.\n",
        "\n",
        "### Критерии оценивания\n",
        "\n",
        "- Корректное проведение анализа данных – 1 балл.\n",
        "- Исследование распараллеливания анализа – 1 балл.\n",
        "- Корректный поиск аномалий – 1 балл.\n",
        "- Подключение к API и корректность выполнения запроса – 1 балл.\n",
        "- Проведение эксперимента с синхронным и асинхронным способом запроса к API – 1 балл.\n",
        "- Создание интерфейса приложения streamlit в соответствии с описанием – 3 балла.\n",
        "- Корректное отображение графиков и статистик, а также сезонных профилей – 1 балл.\n",
        "- Корректный вывод текущей температуры в выбранном городе и проведение проверки на ее аномальность – 1 балл.\n",
        "- Любая дополнительная функциональность приветствуется и оценивается бонусными баллами (не более 2 в сумме) на усмотрение проверяющего.\n",
        "\n",
        "### Формат сдачи домашнего задания\n",
        "\n",
        "Решение нужно развернуть в Streamlit Cloud (бесплатно)\n",
        "\n",
        "*   Создаем новый репозиторий на GitHub.  \n",
        "*   Загружаем проект.\n",
        "*   Создаем аккаунт в [Streamlit Cloud](https://streamlit.io/cloud).\n",
        "*   Авторизуемся в Streamlit Cloud.\n",
        "*   Создаем новое приложение в Streamlit Cloud и подключаем GitHub-репозиторий.\n",
        "*   Deploy!\n",
        "\n",
        "Сдать в форму необходимо:\n",
        "1. Ссылку на развернутое в Streamlit Cloud приложение.\n",
        "2. Ссылку на код. Все выводы про, например, использование параллельности/асинхронности опишите в комментариях.\n",
        "\n",
        "Не забудьте удалить ключ API и иную чувствительную информацию.\n",
        "\n",
        "### Полезные ссылки\n",
        "*   [Оформление задачи Титаник на Streamlit](https://github.com/evgpat/streamlit_demo)\n",
        "*   [Документация Streamlit](https://docs.streamlit.io/)\n",
        "*   [Блог о Streamlit](https://blog.streamlit.io/)"
      ],
      "metadata": {
        "id": "bVbHQbDDjw9i"
      }
    },
    {
      "cell_type": "code",
      "source": [
        "pip install joblib"
      ],
      "metadata": {
        "colab": {
          "base_uri": "https://localhost:8080/"
        },
        "id": "Z4uuxemtd4Gx",
        "outputId": "cc5bbfb0-ab79-41f0-b769-b4397e01d666"
      },
      "execution_count": 67,
      "outputs": [
        {
          "output_type": "stream",
          "name": "stdout",
          "text": [
            "Requirement already satisfied: joblib in /usr/local/lib/python3.10/dist-packages (1.4.2)\n"
          ]
        }
      ]
    },
    {
      "cell_type": "code",
      "source": [
        "import pandas as pd\n",
        "import numpy as np\n",
        "import matplotlib.pyplot as plt\n",
        "import plotly.graph_objects as go\n",
        "from joblib import Parallel, delayed\n",
        "import time"
      ],
      "metadata": {
        "id": "yuwW33TLCMT8"
      },
      "execution_count": 68,
      "outputs": []
    },
    {
      "cell_type": "code",
      "source": [
        "# Реальные средние температуры (примерные данные) для городов по сезонам\n",
        "seasonal_temperatures = {\n",
        "    \"New York\": {\"winter\": 0, \"spring\": 10, \"summer\": 25, \"autumn\": 15},\n",
        "    \"London\": {\"winter\": 5, \"spring\": 11, \"summer\": 18, \"autumn\": 12},\n",
        "    \"Paris\": {\"winter\": 4, \"spring\": 12, \"summer\": 20, \"autumn\": 13},\n",
        "    \"Tokyo\": {\"winter\": 6, \"spring\": 15, \"summer\": 27, \"autumn\": 18},\n",
        "    \"Moscow\": {\"winter\": -10, \"spring\": 5, \"summer\": 18, \"autumn\": 8},\n",
        "    \"Sydney\": {\"winter\": 12, \"spring\": 18, \"summer\": 25, \"autumn\": 20},\n",
        "    \"Berlin\": {\"winter\": 0, \"spring\": 10, \"summer\": 20, \"autumn\": 11},\n",
        "    \"Beijing\": {\"winter\": -2, \"spring\": 13, \"summer\": 27, \"autumn\": 16},\n",
        "    \"Rio de Janeiro\": {\"winter\": 20, \"spring\": 25, \"summer\": 30, \"autumn\": 25},\n",
        "    \"Dubai\": {\"winter\": 20, \"spring\": 30, \"summer\": 40, \"autumn\": 30},\n",
        "    \"Los Angeles\": {\"winter\": 15, \"spring\": 18, \"summer\": 25, \"autumn\": 20},\n",
        "    \"Singapore\": {\"winter\": 27, \"spring\": 28, \"summer\": 28, \"autumn\": 27},\n",
        "    \"Mumbai\": {\"winter\": 25, \"spring\": 30, \"summer\": 35, \"autumn\": 30},\n",
        "    \"Cairo\": {\"winter\": 15, \"spring\": 25, \"summer\": 35, \"autumn\": 25},\n",
        "    \"Mexico City\": {\"winter\": 12, \"spring\": 18, \"summer\": 20, \"autumn\": 15},\n",
        "}\n",
        "\n",
        "# Сопоставление месяцев с сезонами\n",
        "month_to_season = {12: \"winter\", 1: \"winter\", 2: \"winter\",\n",
        "                   3: \"spring\", 4: \"spring\", 5: \"spring\",\n",
        "                   6: \"summer\", 7: \"summer\", 8: \"summer\",\n",
        "                   9: \"autumn\", 10: \"autumn\", 11: \"autumn\"}\n",
        "\n",
        "# Генерация данных о температуре\n",
        "def generate_realistic_temperature_data(cities, num_years=10):\n",
        "    dates = pd.date_range(start=\"2010-01-01\", periods=365 * num_years, freq=\"D\")\n",
        "    data = []\n",
        "\n",
        "    for city in cities:\n",
        "        for date in dates:\n",
        "            season = month_to_season[date.month]\n",
        "            mean_temp = seasonal_temperatures[city][season]\n",
        "            # Добавляем случайное отклонение\n",
        "            temperature = np.random.normal(loc=mean_temp, scale=5)\n",
        "            data.append({\"city\": city, \"timestamp\": date, \"temperature\": temperature})\n",
        "\n",
        "    df = pd.DataFrame(data)\n",
        "    df['season'] = df['timestamp'].dt.month.map(lambda x: month_to_season[x])\n",
        "    return df\n",
        "\n",
        "# Генерация данных\n",
        "data = generate_realistic_temperature_data(list(seasonal_temperatures.keys()))\n",
        "data.to_csv('temperature_data.csv', index=False)"
      ],
      "metadata": {
        "id": "SsrwTMhRj6dK"
      },
      "execution_count": 69,
      "outputs": []
    },
    {
      "cell_type": "markdown",
      "source": [
        "***Анализ исторических данных***"
      ],
      "metadata": {
        "id": "-oilKTZAl4dr"
      }
    },
    {
      "cell_type": "markdown",
      "source": [
        "*Для начала преобразуем датасет к удобному виду -- и посмотрим на временные ряды.*"
      ],
      "metadata": {
        "id": "5Pa_5jxScVH0"
      }
    },
    {
      "cell_type": "code",
      "source": [
        "data = data.set_index(['city', 'timestamp'])"
      ],
      "metadata": {
        "id": "YLxxRYR1cMsC"
      },
      "execution_count": 70,
      "outputs": []
    },
    {
      "cell_type": "code",
      "source": [
        "def time_plot_for_city(df, city, parameter='temperature', start_date=None, end_date=None):\n",
        "    fig = go.Figure()\n",
        "\n",
        "    for sym in city:\n",
        "        df_sym = df.xs(sym, level='city')\n",
        "\n",
        "        if start_date:\n",
        "            start_date = pd.to_datetime(start_date)\n",
        "            df_sym = df_sym[df_sym.index >= start_date]\n",
        "        if end_date:\n",
        "            end_date = pd.to_datetime(end_date)\n",
        "            df_sym = df_sym[df_sym.index <= end_date]\n",
        "\n",
        "        if parameter in df_sym.columns:\n",
        "            fig.add_trace(go.Scatter(x=df_sym.index, y=df_sym[parameter], mode='lines',\n",
        "                                     name=f\"{sym} {parameter.capitalize()}\", hoverinfo='x+y'))\n",
        "        else:\n",
        "            print(f\"Параметр '{parameter}' не найден для символа '{sym}'.\")\n",
        "\n",
        "    fig.update_layout(\n",
        "        title=f'Time Plot of {parameter.capitalize()}',\n",
        "        xaxis_title='Date',\n",
        "        yaxis_title=f'{parameter.capitalize()}',\n",
        "        xaxis_tickformat='%Y-%m-%d',\n",
        "        showlegend=True,\n",
        "        hovermode='x unified',\n",
        "    )\n",
        "\n",
        "    fig.show()"
      ],
      "metadata": {
        "id": "DFumvfZcjbs1"
      },
      "execution_count": 71,
      "outputs": []
    },
    {
      "cell_type": "code",
      "source": [
        "data.head()"
      ],
      "metadata": {
        "colab": {
          "base_uri": "https://localhost:8080/",
          "height": 238
        },
        "id": "3yyJt68NkRpJ",
        "outputId": "551d528a-fc6f-462c-d97e-4e127534f8ad"
      },
      "execution_count": 72,
      "outputs": [
        {
          "output_type": "execute_result",
          "data": {
            "text/plain": [
              "                     temperature  season\n",
              "city     timestamp                      \n",
              "New York 2010-01-01     1.646734  winter\n",
              "         2010-01-02     8.171878  winter\n",
              "         2010-01-03    -9.868057  winter\n",
              "         2010-01-04     1.414353  winter\n",
              "         2010-01-05    -4.364322  winter"
            ],
            "text/html": [
              "\n",
              "  <div id=\"df-3b35a2b1-ad76-47aa-ab07-115f02a351e2\" class=\"colab-df-container\">\n",
              "    <div>\n",
              "<style scoped>\n",
              "    .dataframe tbody tr th:only-of-type {\n",
              "        vertical-align: middle;\n",
              "    }\n",
              "\n",
              "    .dataframe tbody tr th {\n",
              "        vertical-align: top;\n",
              "    }\n",
              "\n",
              "    .dataframe thead th {\n",
              "        text-align: right;\n",
              "    }\n",
              "</style>\n",
              "<table border=\"1\" class=\"dataframe\">\n",
              "  <thead>\n",
              "    <tr style=\"text-align: right;\">\n",
              "      <th></th>\n",
              "      <th></th>\n",
              "      <th>temperature</th>\n",
              "      <th>season</th>\n",
              "    </tr>\n",
              "    <tr>\n",
              "      <th>city</th>\n",
              "      <th>timestamp</th>\n",
              "      <th></th>\n",
              "      <th></th>\n",
              "    </tr>\n",
              "  </thead>\n",
              "  <tbody>\n",
              "    <tr>\n",
              "      <th rowspan=\"5\" valign=\"top\">New York</th>\n",
              "      <th>2010-01-01</th>\n",
              "      <td>1.646734</td>\n",
              "      <td>winter</td>\n",
              "    </tr>\n",
              "    <tr>\n",
              "      <th>2010-01-02</th>\n",
              "      <td>8.171878</td>\n",
              "      <td>winter</td>\n",
              "    </tr>\n",
              "    <tr>\n",
              "      <th>2010-01-03</th>\n",
              "      <td>-9.868057</td>\n",
              "      <td>winter</td>\n",
              "    </tr>\n",
              "    <tr>\n",
              "      <th>2010-01-04</th>\n",
              "      <td>1.414353</td>\n",
              "      <td>winter</td>\n",
              "    </tr>\n",
              "    <tr>\n",
              "      <th>2010-01-05</th>\n",
              "      <td>-4.364322</td>\n",
              "      <td>winter</td>\n",
              "    </tr>\n",
              "  </tbody>\n",
              "</table>\n",
              "</div>\n",
              "    <div class=\"colab-df-buttons\">\n",
              "\n",
              "  <div class=\"colab-df-container\">\n",
              "    <button class=\"colab-df-convert\" onclick=\"convertToInteractive('df-3b35a2b1-ad76-47aa-ab07-115f02a351e2')\"\n",
              "            title=\"Convert this dataframe to an interactive table.\"\n",
              "            style=\"display:none;\">\n",
              "\n",
              "  <svg xmlns=\"http://www.w3.org/2000/svg\" height=\"24px\" viewBox=\"0 -960 960 960\">\n",
              "    <path d=\"M120-120v-720h720v720H120Zm60-500h600v-160H180v160Zm220 220h160v-160H400v160Zm0 220h160v-160H400v160ZM180-400h160v-160H180v160Zm440 0h160v-160H620v160ZM180-180h160v-160H180v160Zm440 0h160v-160H620v160Z\"/>\n",
              "  </svg>\n",
              "    </button>\n",
              "\n",
              "  <style>\n",
              "    .colab-df-container {\n",
              "      display:flex;\n",
              "      gap: 12px;\n",
              "    }\n",
              "\n",
              "    .colab-df-convert {\n",
              "      background-color: #E8F0FE;\n",
              "      border: none;\n",
              "      border-radius: 50%;\n",
              "      cursor: pointer;\n",
              "      display: none;\n",
              "      fill: #1967D2;\n",
              "      height: 32px;\n",
              "      padding: 0 0 0 0;\n",
              "      width: 32px;\n",
              "    }\n",
              "\n",
              "    .colab-df-convert:hover {\n",
              "      background-color: #E2EBFA;\n",
              "      box-shadow: 0px 1px 2px rgba(60, 64, 67, 0.3), 0px 1px 3px 1px rgba(60, 64, 67, 0.15);\n",
              "      fill: #174EA6;\n",
              "    }\n",
              "\n",
              "    .colab-df-buttons div {\n",
              "      margin-bottom: 4px;\n",
              "    }\n",
              "\n",
              "    [theme=dark] .colab-df-convert {\n",
              "      background-color: #3B4455;\n",
              "      fill: #D2E3FC;\n",
              "    }\n",
              "\n",
              "    [theme=dark] .colab-df-convert:hover {\n",
              "      background-color: #434B5C;\n",
              "      box-shadow: 0px 1px 3px 1px rgba(0, 0, 0, 0.15);\n",
              "      filter: drop-shadow(0px 1px 2px rgba(0, 0, 0, 0.3));\n",
              "      fill: #FFFFFF;\n",
              "    }\n",
              "  </style>\n",
              "\n",
              "    <script>\n",
              "      const buttonEl =\n",
              "        document.querySelector('#df-3b35a2b1-ad76-47aa-ab07-115f02a351e2 button.colab-df-convert');\n",
              "      buttonEl.style.display =\n",
              "        google.colab.kernel.accessAllowed ? 'block' : 'none';\n",
              "\n",
              "      async function convertToInteractive(key) {\n",
              "        const element = document.querySelector('#df-3b35a2b1-ad76-47aa-ab07-115f02a351e2');\n",
              "        const dataTable =\n",
              "          await google.colab.kernel.invokeFunction('convertToInteractive',\n",
              "                                                    [key], {});\n",
              "        if (!dataTable) return;\n",
              "\n",
              "        const docLinkHtml = 'Like what you see? Visit the ' +\n",
              "          '<a target=\"_blank\" href=https://colab.research.google.com/notebooks/data_table.ipynb>data table notebook</a>'\n",
              "          + ' to learn more about interactive tables.';\n",
              "        element.innerHTML = '';\n",
              "        dataTable['output_type'] = 'display_data';\n",
              "        await google.colab.output.renderOutput(dataTable, element);\n",
              "        const docLink = document.createElement('div');\n",
              "        docLink.innerHTML = docLinkHtml;\n",
              "        element.appendChild(docLink);\n",
              "      }\n",
              "    </script>\n",
              "  </div>\n",
              "\n",
              "\n",
              "<div id=\"df-33313c2f-9265-4e4e-9995-322d7e750b81\">\n",
              "  <button class=\"colab-df-quickchart\" onclick=\"quickchart('df-33313c2f-9265-4e4e-9995-322d7e750b81')\"\n",
              "            title=\"Suggest charts\"\n",
              "            style=\"display:none;\">\n",
              "\n",
              "<svg xmlns=\"http://www.w3.org/2000/svg\" height=\"24px\"viewBox=\"0 0 24 24\"\n",
              "     width=\"24px\">\n",
              "    <g>\n",
              "        <path d=\"M19 3H5c-1.1 0-2 .9-2 2v14c0 1.1.9 2 2 2h14c1.1 0 2-.9 2-2V5c0-1.1-.9-2-2-2zM9 17H7v-7h2v7zm4 0h-2V7h2v10zm4 0h-2v-4h2v4z\"/>\n",
              "    </g>\n",
              "</svg>\n",
              "  </button>\n",
              "\n",
              "<style>\n",
              "  .colab-df-quickchart {\n",
              "      --bg-color: #E8F0FE;\n",
              "      --fill-color: #1967D2;\n",
              "      --hover-bg-color: #E2EBFA;\n",
              "      --hover-fill-color: #174EA6;\n",
              "      --disabled-fill-color: #AAA;\n",
              "      --disabled-bg-color: #DDD;\n",
              "  }\n",
              "\n",
              "  [theme=dark] .colab-df-quickchart {\n",
              "      --bg-color: #3B4455;\n",
              "      --fill-color: #D2E3FC;\n",
              "      --hover-bg-color: #434B5C;\n",
              "      --hover-fill-color: #FFFFFF;\n",
              "      --disabled-bg-color: #3B4455;\n",
              "      --disabled-fill-color: #666;\n",
              "  }\n",
              "\n",
              "  .colab-df-quickchart {\n",
              "    background-color: var(--bg-color);\n",
              "    border: none;\n",
              "    border-radius: 50%;\n",
              "    cursor: pointer;\n",
              "    display: none;\n",
              "    fill: var(--fill-color);\n",
              "    height: 32px;\n",
              "    padding: 0;\n",
              "    width: 32px;\n",
              "  }\n",
              "\n",
              "  .colab-df-quickchart:hover {\n",
              "    background-color: var(--hover-bg-color);\n",
              "    box-shadow: 0 1px 2px rgba(60, 64, 67, 0.3), 0 1px 3px 1px rgba(60, 64, 67, 0.15);\n",
              "    fill: var(--button-hover-fill-color);\n",
              "  }\n",
              "\n",
              "  .colab-df-quickchart-complete:disabled,\n",
              "  .colab-df-quickchart-complete:disabled:hover {\n",
              "    background-color: var(--disabled-bg-color);\n",
              "    fill: var(--disabled-fill-color);\n",
              "    box-shadow: none;\n",
              "  }\n",
              "\n",
              "  .colab-df-spinner {\n",
              "    border: 2px solid var(--fill-color);\n",
              "    border-color: transparent;\n",
              "    border-bottom-color: var(--fill-color);\n",
              "    animation:\n",
              "      spin 1s steps(1) infinite;\n",
              "  }\n",
              "\n",
              "  @keyframes spin {\n",
              "    0% {\n",
              "      border-color: transparent;\n",
              "      border-bottom-color: var(--fill-color);\n",
              "      border-left-color: var(--fill-color);\n",
              "    }\n",
              "    20% {\n",
              "      border-color: transparent;\n",
              "      border-left-color: var(--fill-color);\n",
              "      border-top-color: var(--fill-color);\n",
              "    }\n",
              "    30% {\n",
              "      border-color: transparent;\n",
              "      border-left-color: var(--fill-color);\n",
              "      border-top-color: var(--fill-color);\n",
              "      border-right-color: var(--fill-color);\n",
              "    }\n",
              "    40% {\n",
              "      border-color: transparent;\n",
              "      border-right-color: var(--fill-color);\n",
              "      border-top-color: var(--fill-color);\n",
              "    }\n",
              "    60% {\n",
              "      border-color: transparent;\n",
              "      border-right-color: var(--fill-color);\n",
              "    }\n",
              "    80% {\n",
              "      border-color: transparent;\n",
              "      border-right-color: var(--fill-color);\n",
              "      border-bottom-color: var(--fill-color);\n",
              "    }\n",
              "    90% {\n",
              "      border-color: transparent;\n",
              "      border-bottom-color: var(--fill-color);\n",
              "    }\n",
              "  }\n",
              "</style>\n",
              "\n",
              "  <script>\n",
              "    async function quickchart(key) {\n",
              "      const quickchartButtonEl =\n",
              "        document.querySelector('#' + key + ' button');\n",
              "      quickchartButtonEl.disabled = true;  // To prevent multiple clicks.\n",
              "      quickchartButtonEl.classList.add('colab-df-spinner');\n",
              "      try {\n",
              "        const charts = await google.colab.kernel.invokeFunction(\n",
              "            'suggestCharts', [key], {});\n",
              "      } catch (error) {\n",
              "        console.error('Error during call to suggestCharts:', error);\n",
              "      }\n",
              "      quickchartButtonEl.classList.remove('colab-df-spinner');\n",
              "      quickchartButtonEl.classList.add('colab-df-quickchart-complete');\n",
              "    }\n",
              "    (() => {\n",
              "      let quickchartButtonEl =\n",
              "        document.querySelector('#df-33313c2f-9265-4e4e-9995-322d7e750b81 button');\n",
              "      quickchartButtonEl.style.display =\n",
              "        google.colab.kernel.accessAllowed ? 'block' : 'none';\n",
              "    })();\n",
              "  </script>\n",
              "</div>\n",
              "    </div>\n",
              "  </div>\n"
            ],
            "application/vnd.google.colaboratory.intrinsic+json": {
              "type": "dataframe",
              "variable_name": "data",
              "summary": "{\n  \"name\": \"data\",\n  \"rows\": 54750,\n  \"fields\": [\n    {\n      \"column\": \"temperature\",\n      \"properties\": {\n        \"dtype\": \"number\",\n        \"std\": 11.02376604112917,\n        \"min\": -25.06386791693886,\n        \"max\": 57.74368730918019,\n        \"num_unique_values\": 54750,\n        \"samples\": [\n          4.718107089181394,\n          30.54104261238625,\n          20.983184947985485\n        ],\n        \"semantic_type\": \"\",\n        \"description\": \"\"\n      }\n    },\n    {\n      \"column\": \"season\",\n      \"properties\": {\n        \"dtype\": \"category\",\n        \"num_unique_values\": 4,\n        \"samples\": [\n          \"spring\",\n          \"autumn\",\n          \"winter\"\n        ],\n        \"semantic_type\": \"\",\n        \"description\": \"\"\n      }\n    }\n  ]\n}"
            }
          },
          "metadata": {},
          "execution_count": 72
        }
      ]
    },
    {
      "cell_type": "code",
      "source": [
        "# в качестве примера можем сравнить динамику температур разных городов\n",
        "time_plot_for_city(data, ['Sydney', 'Moscow'], parameter='temperature', start_date='2010-01-01', end_date='2010-12-01')"
      ],
      "metadata": {
        "colab": {
          "base_uri": "https://localhost:8080/",
          "height": 542
        },
        "id": "FkPrXbY8jyDf",
        "outputId": "a8690df5-8d23-47d1-b2f1-49f06f4d539b"
      },
      "execution_count": 73,
      "outputs": [
        {
          "output_type": "display_data",
          "data": {
            "text/html": [
              "<html>\n",
              "<head><meta charset=\"utf-8\" /></head>\n",
              "<body>\n",
              "    <div>            <script src=\"https://cdnjs.cloudflare.com/ajax/libs/mathjax/2.7.5/MathJax.js?config=TeX-AMS-MML_SVG\"></script><script type=\"text/javascript\">if (window.MathJax && window.MathJax.Hub && window.MathJax.Hub.Config) {window.MathJax.Hub.Config({SVG: {font: \"STIX-Web\"}});}</script>                <script type=\"text/javascript\">window.PlotlyConfig = {MathJaxConfig: 'local'};</script>\n",
              "        <script charset=\"utf-8\" src=\"https://cdn.plot.ly/plotly-2.35.2.min.js\"></script>                <div id=\"53786151-da8a-46b0-8595-40d1d53ae1fa\" class=\"plotly-graph-div\" style=\"height:525px; width:100%;\"></div>            <script type=\"text/javascript\">                                    window.PLOTLYENV=window.PLOTLYENV || {};                                    if (document.getElementById(\"53786151-da8a-46b0-8595-40d1d53ae1fa\")) {                    Plotly.newPlot(                        \"53786151-da8a-46b0-8595-40d1d53ae1fa\",                        [{\"hoverinfo\":\"x+y\",\"mode\":\"lines\",\"name\":\"Sydney Temperature\",\"x\":[\"2010-01-01T00:00:00\",\"2010-01-02T00:00:00\",\"2010-01-03T00:00:00\",\"2010-01-04T00:00:00\",\"2010-01-05T00:00:00\",\"2010-01-06T00:00:00\",\"2010-01-07T00:00:00\",\"2010-01-08T00:00:00\",\"2010-01-09T00:00:00\",\"2010-01-10T00:00:00\",\"2010-01-11T00:00:00\",\"2010-01-12T00:00:00\",\"2010-01-13T00:00:00\",\"2010-01-14T00:00:00\",\"2010-01-15T00:00:00\",\"2010-01-16T00:00:00\",\"2010-01-17T00:00:00\",\"2010-01-18T00:00:00\",\"2010-01-19T00:00:00\",\"2010-01-20T00:00:00\",\"2010-01-21T00:00:00\",\"2010-01-22T00:00:00\",\"2010-01-23T00:00:00\",\"2010-01-24T00:00:00\",\"2010-01-25T00:00:00\",\"2010-01-26T00:00:00\",\"2010-01-27T00:00:00\",\"2010-01-28T00:00:00\",\"2010-01-29T00:00:00\",\"2010-01-30T00:00:00\",\"2010-01-31T00:00:00\",\"2010-02-01T00:00:00\",\"2010-02-02T00:00:00\",\"2010-02-03T00:00:00\",\"2010-02-04T00:00:00\",\"2010-02-05T00:00:00\",\"2010-02-06T00:00:00\",\"2010-02-07T00:00:00\",\"2010-02-08T00:00:00\",\"2010-02-09T00:00:00\",\"2010-02-10T00:00:00\",\"2010-02-11T00:00:00\",\"2010-02-12T00:00:00\",\"2010-02-13T00:00:00\",\"2010-02-14T00:00:00\",\"2010-02-15T00:00:00\",\"2010-02-16T00:00:00\",\"2010-02-17T00:00:00\",\"2010-02-18T00:00:00\",\"2010-02-19T00:00:00\",\"2010-02-20T00:00:00\",\"2010-02-21T00:00:00\",\"2010-02-22T00:00:00\",\"2010-02-23T00:00:00\",\"2010-02-24T00:00:00\",\"2010-02-25T00:00:00\",\"2010-02-26T00:00:00\",\"2010-02-27T00:00:00\",\"2010-02-28T00:00:00\",\"2010-03-01T00:00:00\",\"2010-03-02T00:00:00\",\"2010-03-03T00:00:00\",\"2010-03-04T00:00:00\",\"2010-03-05T00:00:00\",\"2010-03-06T00:00:00\",\"2010-03-07T00:00:00\",\"2010-03-08T00:00:00\",\"2010-03-09T00:00:00\",\"2010-03-10T00:00:00\",\"2010-03-11T00:00:00\",\"2010-03-12T00:00:00\",\"2010-03-13T00:00:00\",\"2010-03-14T00:00:00\",\"2010-03-15T00:00:00\",\"2010-03-16T00:00:00\",\"2010-03-17T00:00:00\",\"2010-03-18T00:00:00\",\"2010-03-19T00:00:00\",\"2010-03-20T00:00:00\",\"2010-03-21T00:00:00\",\"2010-03-22T00:00:00\",\"2010-03-23T00:00:00\",\"2010-03-24T00:00:00\",\"2010-03-25T00:00:00\",\"2010-03-26T00:00:00\",\"2010-03-27T00:00:00\",\"2010-03-28T00:00:00\",\"2010-03-29T00:00:00\",\"2010-03-30T00:00:00\",\"2010-03-31T00:00:00\",\"2010-04-01T00:00:00\",\"2010-04-02T00:00:00\",\"2010-04-03T00:00:00\",\"2010-04-04T00:00:00\",\"2010-04-05T00:00:00\",\"2010-04-06T00:00:00\",\"2010-04-07T00:00:00\",\"2010-04-08T00:00:00\",\"2010-04-09T00:00:00\",\"2010-04-10T00:00:00\",\"2010-04-11T00:00:00\",\"2010-04-12T00:00:00\",\"2010-04-13T00:00:00\",\"2010-04-14T00:00:00\",\"2010-04-15T00:00:00\",\"2010-04-16T00:00:00\",\"2010-04-17T00:00:00\",\"2010-04-18T00:00:00\",\"2010-04-19T00:00:00\",\"2010-04-20T00:00:00\",\"2010-04-21T00:00:00\",\"2010-04-22T00:00:00\",\"2010-04-23T00:00:00\",\"2010-04-24T00:00:00\",\"2010-04-25T00:00:00\",\"2010-04-26T00:00:00\",\"2010-04-27T00:00:00\",\"2010-04-28T00:00:00\",\"2010-04-29T00:00:00\",\"2010-04-30T00:00:00\",\"2010-05-01T00:00:00\",\"2010-05-02T00:00:00\",\"2010-05-03T00:00:00\",\"2010-05-04T00:00:00\",\"2010-05-05T00:00:00\",\"2010-05-06T00:00:00\",\"2010-05-07T00:00:00\",\"2010-05-08T00:00:00\",\"2010-05-09T00:00:00\",\"2010-05-10T00:00:00\",\"2010-05-11T00:00:00\",\"2010-05-12T00:00:00\",\"2010-05-13T00:00:00\",\"2010-05-14T00:00:00\",\"2010-05-15T00:00:00\",\"2010-05-16T00:00:00\",\"2010-05-17T00:00:00\",\"2010-05-18T00:00:00\",\"2010-05-19T00:00:00\",\"2010-05-20T00:00:00\",\"2010-05-21T00:00:00\",\"2010-05-22T00:00:00\",\"2010-05-23T00:00:00\",\"2010-05-24T00:00:00\",\"2010-05-25T00:00:00\",\"2010-05-26T00:00:00\",\"2010-05-27T00:00:00\",\"2010-05-28T00:00:00\",\"2010-05-29T00:00:00\",\"2010-05-30T00:00:00\",\"2010-05-31T00:00:00\",\"2010-06-01T00:00:00\",\"2010-06-02T00:00:00\",\"2010-06-03T00:00:00\",\"2010-06-04T00:00:00\",\"2010-06-05T00:00:00\",\"2010-06-06T00:00:00\",\"2010-06-07T00:00:00\",\"2010-06-08T00:00:00\",\"2010-06-09T00:00:00\",\"2010-06-10T00:00:00\",\"2010-06-11T00:00:00\",\"2010-06-12T00:00:00\",\"2010-06-13T00:00:00\",\"2010-06-14T00:00:00\",\"2010-06-15T00:00:00\",\"2010-06-16T00:00:00\",\"2010-06-17T00:00:00\",\"2010-06-18T00:00:00\",\"2010-06-19T00:00:00\",\"2010-06-20T00:00:00\",\"2010-06-21T00:00:00\",\"2010-06-22T00:00:00\",\"2010-06-23T00:00:00\",\"2010-06-24T00:00:00\",\"2010-06-25T00:00:00\",\"2010-06-26T00:00:00\",\"2010-06-27T00:00:00\",\"2010-06-28T00:00:00\",\"2010-06-29T00:00:00\",\"2010-06-30T00:00:00\",\"2010-07-01T00:00:00\",\"2010-07-02T00:00:00\",\"2010-07-03T00:00:00\",\"2010-07-04T00:00:00\",\"2010-07-05T00:00:00\",\"2010-07-06T00:00:00\",\"2010-07-07T00:00:00\",\"2010-07-08T00:00:00\",\"2010-07-09T00:00:00\",\"2010-07-10T00:00:00\",\"2010-07-11T00:00:00\",\"2010-07-12T00:00:00\",\"2010-07-13T00:00:00\",\"2010-07-14T00:00:00\",\"2010-07-15T00:00:00\",\"2010-07-16T00:00:00\",\"2010-07-17T00:00:00\",\"2010-07-18T00:00:00\",\"2010-07-19T00:00:00\",\"2010-07-20T00:00:00\",\"2010-07-21T00:00:00\",\"2010-07-22T00:00:00\",\"2010-07-23T00:00:00\",\"2010-07-24T00:00:00\",\"2010-07-25T00:00:00\",\"2010-07-26T00:00:00\",\"2010-07-27T00:00:00\",\"2010-07-28T00:00:00\",\"2010-07-29T00:00:00\",\"2010-07-30T00:00:00\",\"2010-07-31T00:00:00\",\"2010-08-01T00:00:00\",\"2010-08-02T00:00:00\",\"2010-08-03T00:00:00\",\"2010-08-04T00:00:00\",\"2010-08-05T00:00:00\",\"2010-08-06T00:00:00\",\"2010-08-07T00:00:00\",\"2010-08-08T00:00:00\",\"2010-08-09T00:00:00\",\"2010-08-10T00:00:00\",\"2010-08-11T00:00:00\",\"2010-08-12T00:00:00\",\"2010-08-13T00:00:00\",\"2010-08-14T00:00:00\",\"2010-08-15T00:00:00\",\"2010-08-16T00:00:00\",\"2010-08-17T00:00:00\",\"2010-08-18T00:00:00\",\"2010-08-19T00:00:00\",\"2010-08-20T00:00:00\",\"2010-08-21T00:00:00\",\"2010-08-22T00:00:00\",\"2010-08-23T00:00:00\",\"2010-08-24T00:00:00\",\"2010-08-25T00:00:00\",\"2010-08-26T00:00:00\",\"2010-08-27T00:00:00\",\"2010-08-28T00:00:00\",\"2010-08-29T00:00:00\",\"2010-08-30T00:00:00\",\"2010-08-31T00:00:00\",\"2010-09-01T00:00:00\",\"2010-09-02T00:00:00\",\"2010-09-03T00:00:00\",\"2010-09-04T00:00:00\",\"2010-09-05T00:00:00\",\"2010-09-06T00:00:00\",\"2010-09-07T00:00:00\",\"2010-09-08T00:00:00\",\"2010-09-09T00:00:00\",\"2010-09-10T00:00:00\",\"2010-09-11T00:00:00\",\"2010-09-12T00:00:00\",\"2010-09-13T00:00:00\",\"2010-09-14T00:00:00\",\"2010-09-15T00:00:00\",\"2010-09-16T00:00:00\",\"2010-09-17T00:00:00\",\"2010-09-18T00:00:00\",\"2010-09-19T00:00:00\",\"2010-09-20T00:00:00\",\"2010-09-21T00:00:00\",\"2010-09-22T00:00:00\",\"2010-09-23T00:00:00\",\"2010-09-24T00:00:00\",\"2010-09-25T00:00:00\",\"2010-09-26T00:00:00\",\"2010-09-27T00:00:00\",\"2010-09-28T00:00:00\",\"2010-09-29T00:00:00\",\"2010-09-30T00:00:00\",\"2010-10-01T00:00:00\",\"2010-10-02T00:00:00\",\"2010-10-03T00:00:00\",\"2010-10-04T00:00:00\",\"2010-10-05T00:00:00\",\"2010-10-06T00:00:00\",\"2010-10-07T00:00:00\",\"2010-10-08T00:00:00\",\"2010-10-09T00:00:00\",\"2010-10-10T00:00:00\",\"2010-10-11T00:00:00\",\"2010-10-12T00:00:00\",\"2010-10-13T00:00:00\",\"2010-10-14T00:00:00\",\"2010-10-15T00:00:00\",\"2010-10-16T00:00:00\",\"2010-10-17T00:00:00\",\"2010-10-18T00:00:00\",\"2010-10-19T00:00:00\",\"2010-10-20T00:00:00\",\"2010-10-21T00:00:00\",\"2010-10-22T00:00:00\",\"2010-10-23T00:00:00\",\"2010-10-24T00:00:00\",\"2010-10-25T00:00:00\",\"2010-10-26T00:00:00\",\"2010-10-27T00:00:00\",\"2010-10-28T00:00:00\",\"2010-10-29T00:00:00\",\"2010-10-30T00:00:00\",\"2010-10-31T00:00:00\",\"2010-11-01T00:00:00\",\"2010-11-02T00:00:00\",\"2010-11-03T00:00:00\",\"2010-11-04T00:00:00\",\"2010-11-05T00:00:00\",\"2010-11-06T00:00:00\",\"2010-11-07T00:00:00\",\"2010-11-08T00:00:00\",\"2010-11-09T00:00:00\",\"2010-11-10T00:00:00\",\"2010-11-11T00:00:00\",\"2010-11-12T00:00:00\",\"2010-11-13T00:00:00\",\"2010-11-14T00:00:00\",\"2010-11-15T00:00:00\",\"2010-11-16T00:00:00\",\"2010-11-17T00:00:00\",\"2010-11-18T00:00:00\",\"2010-11-19T00:00:00\",\"2010-11-20T00:00:00\",\"2010-11-21T00:00:00\",\"2010-11-22T00:00:00\",\"2010-11-23T00:00:00\",\"2010-11-24T00:00:00\",\"2010-11-25T00:00:00\",\"2010-11-26T00:00:00\",\"2010-11-27T00:00:00\",\"2010-11-28T00:00:00\",\"2010-11-29T00:00:00\",\"2010-11-30T00:00:00\",\"2010-12-01T00:00:00\"],\"y\":[11.73735878890353,13.963388269949386,17.395276904121875,9.944557503988051,16.271294286541895,4.292373620997527,4.0931924719055495,15.068326916147774,13.274549437909071,14.442015600674175,7.315201590130878,-2.102557410022925,9.43207843436629,17.913352160837768,17.196637872091205,16.274066741348385,21.94431535212204,9.008344047421122,15.244496040406839,13.79013802886958,11.035931842895998,10.645348058951136,13.249860969920155,5.6568748191352185,15.206967392242102,16.4306375976324,11.333239504551884,18.65721637459823,9.070561393298473,20.810270039072126,19.751617557801865,16.52496192827995,12.020342880752963,8.822385052320996,8.122321985009975,16.916928388706445,17.40106450866974,15.314928287689083,12.983840456288881,12.751194396073133,8.14928802728635,12.680718227371488,22.708613174447798,5.599789825669621,9.657493270553788,3.0277439461737394,9.456085547306834,13.222066923273779,16.35447499106488,10.062060131913542,18.564265053098776,17.95641287243844,12.438459935620918,11.59323547908012,13.403332676794715,10.602731304529533,12.613351035087366,9.519180267456678,12.86048250469072,17.388252629734232,20.948458497448062,16.226416255130232,20.695823334725375,14.296731008549719,17.904501414258007,15.515235097978413,13.908167734388593,10.782534496569049,18.560263469807335,19.416108728479173,16.517134545516615,22.420836678331746,12.288317583454143,17.699556187663397,21.00505399513056,15.476377275690732,20.587702581905585,13.917710991431754,21.118026945167905,15.461157868427414,21.519915167058915,25.178689535621373,19.906653084122276,13.590685811212927,19.435610096733775,13.627254632362872,18.691391496452844,23.652086607336123,19.19142341644521,28.49217851444908,15.353203562853757,19.546666378408347,17.150613631699787,14.05913946137525,17.407400176691507,15.322435246373592,15.079900549451411,17.833341871921057,17.606356594896557,18.08512779648767,11.560876083725589,14.422634312771441,12.146558487791467,16.01297256491177,16.075823733092324,10.58213379567458,20.73788770829954,20.276934496344097,20.481364390592454,10.999744199872698,24.489146132409033,18.22013779544356,23.64683592757553,11.552872656578629,18.68010195667153,22.120025627781978,19.027844779565516,19.99602221078702,26.16259504344026,27.437493482901395,23.0728601932094,16.34481989703447,22.737072690752946,21.1945774280184,19.14235020097702,16.459010296981955,26.21073841261472,21.035043095181663,15.846255477320112,26.673783036088714,13.593977191324841,22.12825916121845,13.061965550795302,18.468277272169026,23.30385846876725,25.203924279709366,26.414832744296803,14.602829000464034,18.573440976926673,22.60852262847927,17.3474848448252,17.21882136984062,24.862828434227993,4.613500743933059,16.887136209058795,19.448216181761683,9.13305571246243,17.33719889038065,11.769584796182603,15.885948839893572,19.606130673804575,24.6843830790083,33.73777342571325,24.88805370447945,36.87954789789368,31.94417102795057,29.50111000088676,25.80243172840552,14.833589025814076,21.83948510502098,27.582451270067526,29.101770560105642,18.69082754112014,29.855816750559377,25.978518825174962,18.459696270486496,25.108167085711514,26.151014214312426,20.985140415083904,22.965414306688995,27.359022689775717,28.132269151527975,22.30401956887276,26.90815302750866,34.92172518597728,18.435172438719025,22.616195232571343,32.45617094655526,32.86611652734711,30.781987147345724,28.424449646417447,23.65249073132789,31.49204355893501,29.583145569972856,21.13138010102885,24.954864468963862,33.16808019002021,22.679005841358983,29.604389524784725,23.527167431666104,25.00222931504852,18.547883357203865,21.10839267248339,25.240635035696236,12.698427946459123,29.948538752735942,17.6935137001851,22.669760935241356,26.086772458580615,36.77735110480345,23.49808038248133,37.58406031749034,16.15032384434093,27.633335987037256,24.690861158614666,21.219850974195964,25.38003436995942,19.342278358577385,26.24043708393489,20.378797596138988,31.57238557848766,18.571330266276924,25.984768330937555,26.23115332337662,31.844025848438662,32.80077462241589,20.47834692361625,19.55483920279268,24.657263343349438,33.44486503204772,20.796110507978756,31.873817675109333,11.36410010165422,20.38365277033891,28.223991165932723,23.467414209775995,30.06869256149215,27.397693301664642,20.152158962476456,29.758981473476222,24.139486644106313,21.078279768922066,24.950249608951378,28.69801495833429,26.46397036757516,21.15936355343965,21.410788702784675,20.572358931811273,32.524851422327714,21.82383453223824,29.16847746960659,25.61021479044062,21.81482172854232,18.26331746186912,17.262379372448407,21.377772385515637,10.42020643602741,18.592884612545674,12.159659661531188,26.897575408148338,18.07710995623345,15.247582897337342,12.440776691171404,27.13153022490635,25.52732346764089,20.944657744096727,14.535929100079846,16.906953141871142,25.27369500769381,20.725704363179045,24.39741591857635,19.926876953490844,19.46908201231524,9.565311115497028,19.671402925163935,20.340640782049014,15.841765585367357,26.011440095339914,23.070872718590277,16.763779571826994,22.314557308981232,14.168400260317288,13.023696251075112,22.359929612312893,24.380360750767757,24.020147957460182,20.751242289670106,20.45935589864126,22.11443838994306,12.324476911829223,20.247314517191143,23.780280381079653,18.186413156525763,22.39205979586403,18.492680417402568,5.796325305581503,25.180708236776535,17.61843500832477,30.509266393409245,18.222574929673975,27.240607694784405,17.470217063377724,24.158922687134464,12.676723709860692,24.43516113104482,7.021537044393062,12.926728862356043,22.849520696940417,19.284881051335148,13.786235813100593,24.23167230990073,22.458683195464676,27.115716058602345,17.843234669715386,20.293315498085352,23.426345532971784,15.815988672048974,19.4173131905092,17.307071156205073,25.48551704958241,16.439330875788524,29.79583398596072,17.04395175327137,25.701844483598833,23.504393386494534,20.535562542835965,24.028450043031313,15.807817329059137,18.97744592793692,12.810294363722647,19.601547438812364,23.393445645399108,18.30326494215108,18.02514471428965,12.684618087898897,14.630292419610894,19.08201262544863,18.831504524300335,24.203796561930957,25.43785604187677,25.637782090307105,17.678443756689703,14.55802231411948,17.185078125505722,12.851258338883481],\"type\":\"scatter\"},{\"hoverinfo\":\"x+y\",\"mode\":\"lines\",\"name\":\"Moscow Temperature\",\"x\":[\"2010-01-01T00:00:00\",\"2010-01-02T00:00:00\",\"2010-01-03T00:00:00\",\"2010-01-04T00:00:00\",\"2010-01-05T00:00:00\",\"2010-01-06T00:00:00\",\"2010-01-07T00:00:00\",\"2010-01-08T00:00:00\",\"2010-01-09T00:00:00\",\"2010-01-10T00:00:00\",\"2010-01-11T00:00:00\",\"2010-01-12T00:00:00\",\"2010-01-13T00:00:00\",\"2010-01-14T00:00:00\",\"2010-01-15T00:00:00\",\"2010-01-16T00:00:00\",\"2010-01-17T00:00:00\",\"2010-01-18T00:00:00\",\"2010-01-19T00:00:00\",\"2010-01-20T00:00:00\",\"2010-01-21T00:00:00\",\"2010-01-22T00:00:00\",\"2010-01-23T00:00:00\",\"2010-01-24T00:00:00\",\"2010-01-25T00:00:00\",\"2010-01-26T00:00:00\",\"2010-01-27T00:00:00\",\"2010-01-28T00:00:00\",\"2010-01-29T00:00:00\",\"2010-01-30T00:00:00\",\"2010-01-31T00:00:00\",\"2010-02-01T00:00:00\",\"2010-02-02T00:00:00\",\"2010-02-03T00:00:00\",\"2010-02-04T00:00:00\",\"2010-02-05T00:00:00\",\"2010-02-06T00:00:00\",\"2010-02-07T00:00:00\",\"2010-02-08T00:00:00\",\"2010-02-09T00:00:00\",\"2010-02-10T00:00:00\",\"2010-02-11T00:00:00\",\"2010-02-12T00:00:00\",\"2010-02-13T00:00:00\",\"2010-02-14T00:00:00\",\"2010-02-15T00:00:00\",\"2010-02-16T00:00:00\",\"2010-02-17T00:00:00\",\"2010-02-18T00:00:00\",\"2010-02-19T00:00:00\",\"2010-02-20T00:00:00\",\"2010-02-21T00:00:00\",\"2010-02-22T00:00:00\",\"2010-02-23T00:00:00\",\"2010-02-24T00:00:00\",\"2010-02-25T00:00:00\",\"2010-02-26T00:00:00\",\"2010-02-27T00:00:00\",\"2010-02-28T00:00:00\",\"2010-03-01T00:00:00\",\"2010-03-02T00:00:00\",\"2010-03-03T00:00:00\",\"2010-03-04T00:00:00\",\"2010-03-05T00:00:00\",\"2010-03-06T00:00:00\",\"2010-03-07T00:00:00\",\"2010-03-08T00:00:00\",\"2010-03-09T00:00:00\",\"2010-03-10T00:00:00\",\"2010-03-11T00:00:00\",\"2010-03-12T00:00:00\",\"2010-03-13T00:00:00\",\"2010-03-14T00:00:00\",\"2010-03-15T00:00:00\",\"2010-03-16T00:00:00\",\"2010-03-17T00:00:00\",\"2010-03-18T00:00:00\",\"2010-03-19T00:00:00\",\"2010-03-20T00:00:00\",\"2010-03-21T00:00:00\",\"2010-03-22T00:00:00\",\"2010-03-23T00:00:00\",\"2010-03-24T00:00:00\",\"2010-03-25T00:00:00\",\"2010-03-26T00:00:00\",\"2010-03-27T00:00:00\",\"2010-03-28T00:00:00\",\"2010-03-29T00:00:00\",\"2010-03-30T00:00:00\",\"2010-03-31T00:00:00\",\"2010-04-01T00:00:00\",\"2010-04-02T00:00:00\",\"2010-04-03T00:00:00\",\"2010-04-04T00:00:00\",\"2010-04-05T00:00:00\",\"2010-04-06T00:00:00\",\"2010-04-07T00:00:00\",\"2010-04-08T00:00:00\",\"2010-04-09T00:00:00\",\"2010-04-10T00:00:00\",\"2010-04-11T00:00:00\",\"2010-04-12T00:00:00\",\"2010-04-13T00:00:00\",\"2010-04-14T00:00:00\",\"2010-04-15T00:00:00\",\"2010-04-16T00:00:00\",\"2010-04-17T00:00:00\",\"2010-04-18T00:00:00\",\"2010-04-19T00:00:00\",\"2010-04-20T00:00:00\",\"2010-04-21T00:00:00\",\"2010-04-22T00:00:00\",\"2010-04-23T00:00:00\",\"2010-04-24T00:00:00\",\"2010-04-25T00:00:00\",\"2010-04-26T00:00:00\",\"2010-04-27T00:00:00\",\"2010-04-28T00:00:00\",\"2010-04-29T00:00:00\",\"2010-04-30T00:00:00\",\"2010-05-01T00:00:00\",\"2010-05-02T00:00:00\",\"2010-05-03T00:00:00\",\"2010-05-04T00:00:00\",\"2010-05-05T00:00:00\",\"2010-05-06T00:00:00\",\"2010-05-07T00:00:00\",\"2010-05-08T00:00:00\",\"2010-05-09T00:00:00\",\"2010-05-10T00:00:00\",\"2010-05-11T00:00:00\",\"2010-05-12T00:00:00\",\"2010-05-13T00:00:00\",\"2010-05-14T00:00:00\",\"2010-05-15T00:00:00\",\"2010-05-16T00:00:00\",\"2010-05-17T00:00:00\",\"2010-05-18T00:00:00\",\"2010-05-19T00:00:00\",\"2010-05-20T00:00:00\",\"2010-05-21T00:00:00\",\"2010-05-22T00:00:00\",\"2010-05-23T00:00:00\",\"2010-05-24T00:00:00\",\"2010-05-25T00:00:00\",\"2010-05-26T00:00:00\",\"2010-05-27T00:00:00\",\"2010-05-28T00:00:00\",\"2010-05-29T00:00:00\",\"2010-05-30T00:00:00\",\"2010-05-31T00:00:00\",\"2010-06-01T00:00:00\",\"2010-06-02T00:00:00\",\"2010-06-03T00:00:00\",\"2010-06-04T00:00:00\",\"2010-06-05T00:00:00\",\"2010-06-06T00:00:00\",\"2010-06-07T00:00:00\",\"2010-06-08T00:00:00\",\"2010-06-09T00:00:00\",\"2010-06-10T00:00:00\",\"2010-06-11T00:00:00\",\"2010-06-12T00:00:00\",\"2010-06-13T00:00:00\",\"2010-06-14T00:00:00\",\"2010-06-15T00:00:00\",\"2010-06-16T00:00:00\",\"2010-06-17T00:00:00\",\"2010-06-18T00:00:00\",\"2010-06-19T00:00:00\",\"2010-06-20T00:00:00\",\"2010-06-21T00:00:00\",\"2010-06-22T00:00:00\",\"2010-06-23T00:00:00\",\"2010-06-24T00:00:00\",\"2010-06-25T00:00:00\",\"2010-06-26T00:00:00\",\"2010-06-27T00:00:00\",\"2010-06-28T00:00:00\",\"2010-06-29T00:00:00\",\"2010-06-30T00:00:00\",\"2010-07-01T00:00:00\",\"2010-07-02T00:00:00\",\"2010-07-03T00:00:00\",\"2010-07-04T00:00:00\",\"2010-07-05T00:00:00\",\"2010-07-06T00:00:00\",\"2010-07-07T00:00:00\",\"2010-07-08T00:00:00\",\"2010-07-09T00:00:00\",\"2010-07-10T00:00:00\",\"2010-07-11T00:00:00\",\"2010-07-12T00:00:00\",\"2010-07-13T00:00:00\",\"2010-07-14T00:00:00\",\"2010-07-15T00:00:00\",\"2010-07-16T00:00:00\",\"2010-07-17T00:00:00\",\"2010-07-18T00:00:00\",\"2010-07-19T00:00:00\",\"2010-07-20T00:00:00\",\"2010-07-21T00:00:00\",\"2010-07-22T00:00:00\",\"2010-07-23T00:00:00\",\"2010-07-24T00:00:00\",\"2010-07-25T00:00:00\",\"2010-07-26T00:00:00\",\"2010-07-27T00:00:00\",\"2010-07-28T00:00:00\",\"2010-07-29T00:00:00\",\"2010-07-30T00:00:00\",\"2010-07-31T00:00:00\",\"2010-08-01T00:00:00\",\"2010-08-02T00:00:00\",\"2010-08-03T00:00:00\",\"2010-08-04T00:00:00\",\"2010-08-05T00:00:00\",\"2010-08-06T00:00:00\",\"2010-08-07T00:00:00\",\"2010-08-08T00:00:00\",\"2010-08-09T00:00:00\",\"2010-08-10T00:00:00\",\"2010-08-11T00:00:00\",\"2010-08-12T00:00:00\",\"2010-08-13T00:00:00\",\"2010-08-14T00:00:00\",\"2010-08-15T00:00:00\",\"2010-08-16T00:00:00\",\"2010-08-17T00:00:00\",\"2010-08-18T00:00:00\",\"2010-08-19T00:00:00\",\"2010-08-20T00:00:00\",\"2010-08-21T00:00:00\",\"2010-08-22T00:00:00\",\"2010-08-23T00:00:00\",\"2010-08-24T00:00:00\",\"2010-08-25T00:00:00\",\"2010-08-26T00:00:00\",\"2010-08-27T00:00:00\",\"2010-08-28T00:00:00\",\"2010-08-29T00:00:00\",\"2010-08-30T00:00:00\",\"2010-08-31T00:00:00\",\"2010-09-01T00:00:00\",\"2010-09-02T00:00:00\",\"2010-09-03T00:00:00\",\"2010-09-04T00:00:00\",\"2010-09-05T00:00:00\",\"2010-09-06T00:00:00\",\"2010-09-07T00:00:00\",\"2010-09-08T00:00:00\",\"2010-09-09T00:00:00\",\"2010-09-10T00:00:00\",\"2010-09-11T00:00:00\",\"2010-09-12T00:00:00\",\"2010-09-13T00:00:00\",\"2010-09-14T00:00:00\",\"2010-09-15T00:00:00\",\"2010-09-16T00:00:00\",\"2010-09-17T00:00:00\",\"2010-09-18T00:00:00\",\"2010-09-19T00:00:00\",\"2010-09-20T00:00:00\",\"2010-09-21T00:00:00\",\"2010-09-22T00:00:00\",\"2010-09-23T00:00:00\",\"2010-09-24T00:00:00\",\"2010-09-25T00:00:00\",\"2010-09-26T00:00:00\",\"2010-09-27T00:00:00\",\"2010-09-28T00:00:00\",\"2010-09-29T00:00:00\",\"2010-09-30T00:00:00\",\"2010-10-01T00:00:00\",\"2010-10-02T00:00:00\",\"2010-10-03T00:00:00\",\"2010-10-04T00:00:00\",\"2010-10-05T00:00:00\",\"2010-10-06T00:00:00\",\"2010-10-07T00:00:00\",\"2010-10-08T00:00:00\",\"2010-10-09T00:00:00\",\"2010-10-10T00:00:00\",\"2010-10-11T00:00:00\",\"2010-10-12T00:00:00\",\"2010-10-13T00:00:00\",\"2010-10-14T00:00:00\",\"2010-10-15T00:00:00\",\"2010-10-16T00:00:00\",\"2010-10-17T00:00:00\",\"2010-10-18T00:00:00\",\"2010-10-19T00:00:00\",\"2010-10-20T00:00:00\",\"2010-10-21T00:00:00\",\"2010-10-22T00:00:00\",\"2010-10-23T00:00:00\",\"2010-10-24T00:00:00\",\"2010-10-25T00:00:00\",\"2010-10-26T00:00:00\",\"2010-10-27T00:00:00\",\"2010-10-28T00:00:00\",\"2010-10-29T00:00:00\",\"2010-10-30T00:00:00\",\"2010-10-31T00:00:00\",\"2010-11-01T00:00:00\",\"2010-11-02T00:00:00\",\"2010-11-03T00:00:00\",\"2010-11-04T00:00:00\",\"2010-11-05T00:00:00\",\"2010-11-06T00:00:00\",\"2010-11-07T00:00:00\",\"2010-11-08T00:00:00\",\"2010-11-09T00:00:00\",\"2010-11-10T00:00:00\",\"2010-11-11T00:00:00\",\"2010-11-12T00:00:00\",\"2010-11-13T00:00:00\",\"2010-11-14T00:00:00\",\"2010-11-15T00:00:00\",\"2010-11-16T00:00:00\",\"2010-11-17T00:00:00\",\"2010-11-18T00:00:00\",\"2010-11-19T00:00:00\",\"2010-11-20T00:00:00\",\"2010-11-21T00:00:00\",\"2010-11-22T00:00:00\",\"2010-11-23T00:00:00\",\"2010-11-24T00:00:00\",\"2010-11-25T00:00:00\",\"2010-11-26T00:00:00\",\"2010-11-27T00:00:00\",\"2010-11-28T00:00:00\",\"2010-11-29T00:00:00\",\"2010-11-30T00:00:00\",\"2010-12-01T00:00:00\"],\"y\":[-16.69210441479207,-14.472482133911626,-18.78318321362682,-17.77143804704914,-3.6918234771230356,-16.211072516372504,-10.763415870567433,-16.28266507310486,-3.6386409270119655,-11.320744946490496,-13.04496805886996,-6.049547495828152,-16.977356779005056,-9.706266882727595,-9.161973208118003,-6.006695877326303,-10.48086542146536,-2.3853185352046555,-7.854602662865297,-9.422732704570826,-14.044106404899061,-7.169793108274339,-8.983530593296202,-7.758344439045118,-10.23660740787465,-16.735522436752234,-17.072136017306732,-15.289254066242382,-15.674450058541023,-19.001699635642744,-9.590823010507755,-8.061610993922857,-5.634855377682784,-0.6106703914776261,-6.451712540737401,-5.531027393067625,-9.961145559912836,-11.795178292500495,-6.644310486528575,-7.808014952869885,-10.522383719082612,-14.209947212949213,-15.4903768709414,-8.211385983284012,-8.761240168272003,-14.00597270506115,-9.971919180024244,-8.94993268247114,-8.305813306088933,-13.241012347343155,-15.298915758777671,-3.261163267291022,-8.986813079433777,-4.8732286856610365,-2.915937310977238,-3.7279836077430843,-15.229398277585648,-8.730047897681544,-18.334694251779787,8.555942800137753,9.934869982285718,2.9684388181562333,-0.9801732758042654,10.924997891117716,9.405315521178196,3.0919087313212086,12.04258712146543,0.3242947658412456,3.363037809285717,0.624972641777422,5.759681879021431,2.089820487821049,8.731969485196483,7.9002650721031635,1.0682193667483721,7.278780308849676,4.371422968408581,12.267194190206153,8.921004936655915,6.0660394769159245,8.684335917948165,13.89597803101057,11.730344429271408,5.590312294756148,5.373112592848381,-4.024522949178319,-2.1342956936844315,-0.9178997144045651,-3.0470808903321007,2.2276614601533433,9.057074721826769,3.405656480703099,7.651677138253029,6.460231462120166,7.1628699773327735,-1.005265717158542,2.036224983016454,4.094296065546814,6.532383926273937,10.421002523711717,7.585758599483211,4.047409684697218,7.828724943889416,-0.18909100161222359,10.62447026513821,6.99035295760644,8.144263578209141,2.0370776074590413,0.7747836381225728,2.7074579075305603,-3.271655104357187,1.638238226222474,2.2594950684274666,1.8038302213146054,-1.3881667647463836,-5.098108898798451,3.251496445916039,6.948209681717374,5.391762773272644,0.0255048081046656,7.90646475210725,13.882799957996658,0.49848373567978044,9.988487991986895,0.5086871814224976,1.3100963652401054,0.13356501162904255,7.3464792882957894,1.772342099385443,5.871667612603394,15.417148162425296,5.4332409984593015,1.8459748553620696,6.604381203685835,1.3051978814985636,-2.148299272137556,14.832310415873156,6.373790244300022,11.350162646213189,-4.057612214140354,-0.03568370435801693,0.5961343770808707,1.6228381230202906,-0.2712686501052408,1.5984967011186852,8.518604060659545,5.752933433488427,11.490645085766257,3.2782341826284167,7.6574346294852145,14.412444807241002,18.317799130138777,13.455253756015829,18.05082899564277,24.047492475385745,20.67687637428266,16.513671845475244,26.866001978178026,16.04661973798645,19.48759178510313,12.340580848668974,26.240072341288197,21.332670409149205,14.893789744752931,14.565560842779076,4.126195385518024,25.10619354221212,18.679004329035386,26.760528095574337,20.4000791845731,17.078201967383606,20.785085595516133,17.117321864138933,19.04297898836104,14.360468520813459,19.112470321519034,20.858277507896478,23.173357267001492,16.90281770490154,16.319554987513932,25.667373474440513,29.05545139909714,8.632387388240046,21.510816451237737,28.771825060804034,18.86944108206805,32.60315279677218,17.796096474625234,21.47158003509048,14.798213794862306,26.06206454770861,10.733551839268491,24.52054533196571,13.313154754661799,17.87921445743764,18.41073959822514,14.59796624790339,20.814752894761746,12.076101833252798,22.448970155177907,16.434452970411616,18.419153826317736,15.906983570178943,13.323266471025537,16.22077036108423,16.13814507448159,16.648791063751325,15.548460141913685,11.69561449427862,9.727106824983876,4.302109834763371,20.118774543970332,21.339674204096465,17.45101929696271,12.405394882055306,11.876035832970093,21.173431742255996,15.62944769849314,24.74996700167405,13.255248910304436,18.590153448834062,29.454287346096173,10.136697394478546,12.722366324314795,19.893070939726744,13.330360408930328,18.244937736944635,10.762851359308883,24.428737758126502,18.67440281773064,23.65198753988333,14.70694885432579,18.11188330105965,17.993326582405896,18.69171279927014,14.094913759616176,21.463246511109944,15.883469727076411,12.103986583324096,13.500838113166882,7.577928863471428,17.212792317886226,21.89539542858646,-1.1358127566547473,15.53329549876159,16.76586547687731,5.54234057499805,12.370485340365999,8.234561500142576,1.7808368682390228,11.355548926030195,1.1196520953691849,-0.2669328027264317,4.829247045716571,12.330712168077406,5.007059618109679,-1.0355290669399864,3.5311898950167295,4.579651692112808,6.751799054701395,0.6255577536557535,9.485710301180852,5.572451924817385,9.906538429087837,0.1284579924757061,-1.8662043385833922,9.39211345329,11.35926677307828,-4.973775199962853,14.545627774077843,6.160602022684909,8.898150556788165,11.610513583883783,4.1528264998805735,8.376511152605747,10.475568119222988,9.95548416955436,3.2162778190893544,9.316568788551065,12.278130193459559,2.075304638631657,7.0183285171441625,15.961879848939612,12.559082899041986,9.1855220395821,2.382543415166886,8.532522186001819,11.90063193237076,7.9202566748788605,6.775727891555624,10.876121547405607,5.41479821594231,5.883137801836822,-0.1546827961235291,10.500591306033783,6.618228786112865,4.479195201576806,13.753668696483057,11.48167322985061,7.1930187079906185,14.137620167373859,10.569731851036845,3.2630554679854935,16.61402703004694,7.151611574696553,14.337608193214646,11.171855158537102,3.5008588375163185,9.957282568697238,-2.235839101246958,19.016293754382637,9.746313338870392,8.508787825640903,7.1699995602092255,-0.4823828717010894,7.814313972887553,12.996713701002005,5.415942791886906,10.061718516180964,7.748444537138421,9.091348860577114,13.824868396559824,5.443728097801406,5.852094144568035,7.339673029902368,5.831722662288717,0.45048842828913127,2.7986354756169103,3.4991678163434186,11.0938742338231,9.041424678286706,8.237646916219582,10.141088791020342,2.4544022966358696,-4.0718970701137955],\"type\":\"scatter\"}],                        {\"template\":{\"data\":{\"histogram2dcontour\":[{\"type\":\"histogram2dcontour\",\"colorbar\":{\"outlinewidth\":0,\"ticks\":\"\"},\"colorscale\":[[0.0,\"#0d0887\"],[0.1111111111111111,\"#46039f\"],[0.2222222222222222,\"#7201a8\"],[0.3333333333333333,\"#9c179e\"],[0.4444444444444444,\"#bd3786\"],[0.5555555555555556,\"#d8576b\"],[0.6666666666666666,\"#ed7953\"],[0.7777777777777778,\"#fb9f3a\"],[0.8888888888888888,\"#fdca26\"],[1.0,\"#f0f921\"]]}],\"choropleth\":[{\"type\":\"choropleth\",\"colorbar\":{\"outlinewidth\":0,\"ticks\":\"\"}}],\"histogram2d\":[{\"type\":\"histogram2d\",\"colorbar\":{\"outlinewidth\":0,\"ticks\":\"\"},\"colorscale\":[[0.0,\"#0d0887\"],[0.1111111111111111,\"#46039f\"],[0.2222222222222222,\"#7201a8\"],[0.3333333333333333,\"#9c179e\"],[0.4444444444444444,\"#bd3786\"],[0.5555555555555556,\"#d8576b\"],[0.6666666666666666,\"#ed7953\"],[0.7777777777777778,\"#fb9f3a\"],[0.8888888888888888,\"#fdca26\"],[1.0,\"#f0f921\"]]}],\"heatmap\":[{\"type\":\"heatmap\",\"colorbar\":{\"outlinewidth\":0,\"ticks\":\"\"},\"colorscale\":[[0.0,\"#0d0887\"],[0.1111111111111111,\"#46039f\"],[0.2222222222222222,\"#7201a8\"],[0.3333333333333333,\"#9c179e\"],[0.4444444444444444,\"#bd3786\"],[0.5555555555555556,\"#d8576b\"],[0.6666666666666666,\"#ed7953\"],[0.7777777777777778,\"#fb9f3a\"],[0.8888888888888888,\"#fdca26\"],[1.0,\"#f0f921\"]]}],\"heatmapgl\":[{\"type\":\"heatmapgl\",\"colorbar\":{\"outlinewidth\":0,\"ticks\":\"\"},\"colorscale\":[[0.0,\"#0d0887\"],[0.1111111111111111,\"#46039f\"],[0.2222222222222222,\"#7201a8\"],[0.3333333333333333,\"#9c179e\"],[0.4444444444444444,\"#bd3786\"],[0.5555555555555556,\"#d8576b\"],[0.6666666666666666,\"#ed7953\"],[0.7777777777777778,\"#fb9f3a\"],[0.8888888888888888,\"#fdca26\"],[1.0,\"#f0f921\"]]}],\"contourcarpet\":[{\"type\":\"contourcarpet\",\"colorbar\":{\"outlinewidth\":0,\"ticks\":\"\"}}],\"contour\":[{\"type\":\"contour\",\"colorbar\":{\"outlinewidth\":0,\"ticks\":\"\"},\"colorscale\":[[0.0,\"#0d0887\"],[0.1111111111111111,\"#46039f\"],[0.2222222222222222,\"#7201a8\"],[0.3333333333333333,\"#9c179e\"],[0.4444444444444444,\"#bd3786\"],[0.5555555555555556,\"#d8576b\"],[0.6666666666666666,\"#ed7953\"],[0.7777777777777778,\"#fb9f3a\"],[0.8888888888888888,\"#fdca26\"],[1.0,\"#f0f921\"]]}],\"surface\":[{\"type\":\"surface\",\"colorbar\":{\"outlinewidth\":0,\"ticks\":\"\"},\"colorscale\":[[0.0,\"#0d0887\"],[0.1111111111111111,\"#46039f\"],[0.2222222222222222,\"#7201a8\"],[0.3333333333333333,\"#9c179e\"],[0.4444444444444444,\"#bd3786\"],[0.5555555555555556,\"#d8576b\"],[0.6666666666666666,\"#ed7953\"],[0.7777777777777778,\"#fb9f3a\"],[0.8888888888888888,\"#fdca26\"],[1.0,\"#f0f921\"]]}],\"mesh3d\":[{\"type\":\"mesh3d\",\"colorbar\":{\"outlinewidth\":0,\"ticks\":\"\"}}],\"scatter\":[{\"fillpattern\":{\"fillmode\":\"overlay\",\"size\":10,\"solidity\":0.2},\"type\":\"scatter\"}],\"parcoords\":[{\"type\":\"parcoords\",\"line\":{\"colorbar\":{\"outlinewidth\":0,\"ticks\":\"\"}}}],\"scatterpolargl\":[{\"type\":\"scatterpolargl\",\"marker\":{\"colorbar\":{\"outlinewidth\":0,\"ticks\":\"\"}}}],\"bar\":[{\"error_x\":{\"color\":\"#2a3f5f\"},\"error_y\":{\"color\":\"#2a3f5f\"},\"marker\":{\"line\":{\"color\":\"#E5ECF6\",\"width\":0.5},\"pattern\":{\"fillmode\":\"overlay\",\"size\":10,\"solidity\":0.2}},\"type\":\"bar\"}],\"scattergeo\":[{\"type\":\"scattergeo\",\"marker\":{\"colorbar\":{\"outlinewidth\":0,\"ticks\":\"\"}}}],\"scatterpolar\":[{\"type\":\"scatterpolar\",\"marker\":{\"colorbar\":{\"outlinewidth\":0,\"ticks\":\"\"}}}],\"histogram\":[{\"marker\":{\"pattern\":{\"fillmode\":\"overlay\",\"size\":10,\"solidity\":0.2}},\"type\":\"histogram\"}],\"scattergl\":[{\"type\":\"scattergl\",\"marker\":{\"colorbar\":{\"outlinewidth\":0,\"ticks\":\"\"}}}],\"scatter3d\":[{\"type\":\"scatter3d\",\"line\":{\"colorbar\":{\"outlinewidth\":0,\"ticks\":\"\"}},\"marker\":{\"colorbar\":{\"outlinewidth\":0,\"ticks\":\"\"}}}],\"scattermapbox\":[{\"type\":\"scattermapbox\",\"marker\":{\"colorbar\":{\"outlinewidth\":0,\"ticks\":\"\"}}}],\"scatterternary\":[{\"type\":\"scatterternary\",\"marker\":{\"colorbar\":{\"outlinewidth\":0,\"ticks\":\"\"}}}],\"scattercarpet\":[{\"type\":\"scattercarpet\",\"marker\":{\"colorbar\":{\"outlinewidth\":0,\"ticks\":\"\"}}}],\"carpet\":[{\"aaxis\":{\"endlinecolor\":\"#2a3f5f\",\"gridcolor\":\"white\",\"linecolor\":\"white\",\"minorgridcolor\":\"white\",\"startlinecolor\":\"#2a3f5f\"},\"baxis\":{\"endlinecolor\":\"#2a3f5f\",\"gridcolor\":\"white\",\"linecolor\":\"white\",\"minorgridcolor\":\"white\",\"startlinecolor\":\"#2a3f5f\"},\"type\":\"carpet\"}],\"table\":[{\"cells\":{\"fill\":{\"color\":\"#EBF0F8\"},\"line\":{\"color\":\"white\"}},\"header\":{\"fill\":{\"color\":\"#C8D4E3\"},\"line\":{\"color\":\"white\"}},\"type\":\"table\"}],\"barpolar\":[{\"marker\":{\"line\":{\"color\":\"#E5ECF6\",\"width\":0.5},\"pattern\":{\"fillmode\":\"overlay\",\"size\":10,\"solidity\":0.2}},\"type\":\"barpolar\"}],\"pie\":[{\"automargin\":true,\"type\":\"pie\"}]},\"layout\":{\"autotypenumbers\":\"strict\",\"colorway\":[\"#636efa\",\"#EF553B\",\"#00cc96\",\"#ab63fa\",\"#FFA15A\",\"#19d3f3\",\"#FF6692\",\"#B6E880\",\"#FF97FF\",\"#FECB52\"],\"font\":{\"color\":\"#2a3f5f\"},\"hovermode\":\"closest\",\"hoverlabel\":{\"align\":\"left\"},\"paper_bgcolor\":\"white\",\"plot_bgcolor\":\"#E5ECF6\",\"polar\":{\"bgcolor\":\"#E5ECF6\",\"angularaxis\":{\"gridcolor\":\"white\",\"linecolor\":\"white\",\"ticks\":\"\"},\"radialaxis\":{\"gridcolor\":\"white\",\"linecolor\":\"white\",\"ticks\":\"\"}},\"ternary\":{\"bgcolor\":\"#E5ECF6\",\"aaxis\":{\"gridcolor\":\"white\",\"linecolor\":\"white\",\"ticks\":\"\"},\"baxis\":{\"gridcolor\":\"white\",\"linecolor\":\"white\",\"ticks\":\"\"},\"caxis\":{\"gridcolor\":\"white\",\"linecolor\":\"white\",\"ticks\":\"\"}},\"coloraxis\":{\"colorbar\":{\"outlinewidth\":0,\"ticks\":\"\"}},\"colorscale\":{\"sequential\":[[0.0,\"#0d0887\"],[0.1111111111111111,\"#46039f\"],[0.2222222222222222,\"#7201a8\"],[0.3333333333333333,\"#9c179e\"],[0.4444444444444444,\"#bd3786\"],[0.5555555555555556,\"#d8576b\"],[0.6666666666666666,\"#ed7953\"],[0.7777777777777778,\"#fb9f3a\"],[0.8888888888888888,\"#fdca26\"],[1.0,\"#f0f921\"]],\"sequentialminus\":[[0.0,\"#0d0887\"],[0.1111111111111111,\"#46039f\"],[0.2222222222222222,\"#7201a8\"],[0.3333333333333333,\"#9c179e\"],[0.4444444444444444,\"#bd3786\"],[0.5555555555555556,\"#d8576b\"],[0.6666666666666666,\"#ed7953\"],[0.7777777777777778,\"#fb9f3a\"],[0.8888888888888888,\"#fdca26\"],[1.0,\"#f0f921\"]],\"diverging\":[[0,\"#8e0152\"],[0.1,\"#c51b7d\"],[0.2,\"#de77ae\"],[0.3,\"#f1b6da\"],[0.4,\"#fde0ef\"],[0.5,\"#f7f7f7\"],[0.6,\"#e6f5d0\"],[0.7,\"#b8e186\"],[0.8,\"#7fbc41\"],[0.9,\"#4d9221\"],[1,\"#276419\"]]},\"xaxis\":{\"gridcolor\":\"white\",\"linecolor\":\"white\",\"ticks\":\"\",\"title\":{\"standoff\":15},\"zerolinecolor\":\"white\",\"automargin\":true,\"zerolinewidth\":2},\"yaxis\":{\"gridcolor\":\"white\",\"linecolor\":\"white\",\"ticks\":\"\",\"title\":{\"standoff\":15},\"zerolinecolor\":\"white\",\"automargin\":true,\"zerolinewidth\":2},\"scene\":{\"xaxis\":{\"backgroundcolor\":\"#E5ECF6\",\"gridcolor\":\"white\",\"linecolor\":\"white\",\"showbackground\":true,\"ticks\":\"\",\"zerolinecolor\":\"white\",\"gridwidth\":2},\"yaxis\":{\"backgroundcolor\":\"#E5ECF6\",\"gridcolor\":\"white\",\"linecolor\":\"white\",\"showbackground\":true,\"ticks\":\"\",\"zerolinecolor\":\"white\",\"gridwidth\":2},\"zaxis\":{\"backgroundcolor\":\"#E5ECF6\",\"gridcolor\":\"white\",\"linecolor\":\"white\",\"showbackground\":true,\"ticks\":\"\",\"zerolinecolor\":\"white\",\"gridwidth\":2}},\"shapedefaults\":{\"line\":{\"color\":\"#2a3f5f\"}},\"annotationdefaults\":{\"arrowcolor\":\"#2a3f5f\",\"arrowhead\":0,\"arrowwidth\":1},\"geo\":{\"bgcolor\":\"white\",\"landcolor\":\"#E5ECF6\",\"subunitcolor\":\"white\",\"showland\":true,\"showlakes\":true,\"lakecolor\":\"white\"},\"title\":{\"x\":0.05},\"mapbox\":{\"style\":\"light\"}}},\"xaxis\":{\"title\":{\"text\":\"Date\"},\"tickformat\":\"%Y-%m-%d\"},\"title\":{\"text\":\"Time Plot of Temperature\"},\"yaxis\":{\"title\":{\"text\":\"Temperature\"}},\"showlegend\":true,\"hovermode\":\"x unified\"},                        {\"responsive\": true}                    ).then(function(){\n",
              "                            \n",
              "var gd = document.getElementById('53786151-da8a-46b0-8595-40d1d53ae1fa');\n",
              "var x = new MutationObserver(function (mutations, observer) {{\n",
              "        var display = window.getComputedStyle(gd).display;\n",
              "        if (!display || display === 'none') {{\n",
              "            console.log([gd, 'removed!']);\n",
              "            Plotly.purge(gd);\n",
              "            observer.disconnect();\n",
              "        }}\n",
              "}});\n",
              "\n",
              "// Listen for the removal of the full notebook cells\n",
              "var notebookContainer = gd.closest('#notebook-container');\n",
              "if (notebookContainer) {{\n",
              "    x.observe(notebookContainer, {childList: true});\n",
              "}}\n",
              "\n",
              "// Listen for the clearing of the current output cell\n",
              "var outputEl = gd.closest('.output');\n",
              "if (outputEl) {{\n",
              "    x.observe(outputEl, {childList: true});\n",
              "}}\n",
              "\n",
              "                        })                };                            </script>        </div>\n",
              "</body>\n",
              "</html>"
            ]
          },
          "metadata": {}
        }
      ]
    },
    {
      "cell_type": "markdown",
      "source": [
        "*Найдем:*\n",
        "- *скользящее среднее температуры с окном в 30 дней (для сглаживания краткосрочных колебаний)*\n",
        "- *аномальные температуры*\n",
        "- *долгосрочные тренды изменения температуры*"
      ],
      "metadata": {
        "id": "vKnbK7a-m0ap"
      }
    },
    {
      "cell_type": "code",
      "source": [
        "# скользящее среднее и стандартное отклонение\n",
        "data['rolling_mean_temperature'] = data.groupby('city')['temperature'].rolling(window=30).mean().reset_index(level=0, drop=True)\n",
        "data['rolling_std_temperature'] = data.groupby('city')['temperature'].rolling(window=30).std().reset_index(level=0, drop=True)\n",
        "\n",
        "# аномалии\n",
        "data['anomaly'] = ((data['temperature'] > (data['rolling_mean_temperature'] + 2 * data['rolling_std_temperature'])) |\n",
        "                   (data['temperature'] < (data['rolling_mean_temperature'] - 2 * data['rolling_std_temperature'])))\n",
        "\n",
        "# долгосрочные тренды\n",
        "data['long_term_trend'] = data.groupby('city')['temperature'].rolling(window=365).mean().reset_index(level=0, drop=True)  # применяем 365-дневное скользящее среднее"
      ],
      "metadata": {
        "id": "KWGC2qSsB_RM"
      },
      "execution_count": 88,
      "outputs": []
    },
    {
      "cell_type": "code",
      "source": [
        "def visualize_city_temperature(data: pd.DataFrame, city: str, start_date: str = None, end_date: str = None):\n",
        "    city_data = data.xs(city, level='city')\n",
        "\n",
        "    # зададим временной промежуток\n",
        "    if start_date:\n",
        "        city_data = city_data[city_data.index >= pd.to_datetime(start_date)]\n",
        "    if end_date:\n",
        "        city_data = city_data[city_data.index <= pd.to_datetime(end_date)]\n",
        "\n",
        "    fig = go.Figure()\n",
        "\n",
        "    # температура\n",
        "    fig.add_trace(go.Scatter(x=city_data.index, y=city_data['temperature'],\n",
        "                             mode='lines', hoverinfo='y', name='Temperature',\n",
        "                             line=dict(color='grey', width=2)))\n",
        "\n",
        "    # скользящее среднее\n",
        "    fig.add_trace(go.Scatter(x=city_data.index, y=city_data['rolling_mean_temperature'],\n",
        "                             mode='lines', hoverinfo='y', name='Rolling Mean (30 days)',\n",
        "                             line=dict(color='yellow', width=2)))\n",
        "\n",
        "    # долгосрочный тренд\n",
        "    fig.add_trace(go.Scatter(x=city_data.index, y=city_data['long_term_trend'],\n",
        "                             mode='lines', hoverinfo='y', name='Long-term Trend (365 days)',\n",
        "                             line=dict(color='black', width=2)))\n",
        "\n",
        "    # аномалии\n",
        "    anomalies = city_data[city_data['anomaly']]\n",
        "    fig.add_trace(go.Scatter(x=anomalies.index, y=anomalies['temperature'],\n",
        "                             mode='markers', name='Anomalies',\n",
        "                             marker=dict(color='red', size=8)))\n",
        "\n",
        "    fig.update_layout(\n",
        "        title=f'Temperature Trends and Anomalies in {city}',\n",
        "        xaxis_title='Date',\n",
        "        yaxis_title='Temperature',\n",
        "        xaxis_tickformat='%Y-%m-%d',\n",
        "        showlegend=True,\n",
        "        hovermode='x unified',\n",
        "    )\n",
        "\n",
        "    fig.show()"
      ],
      "metadata": {
        "id": "4H9-QjthDDoo"
      },
      "execution_count": 75,
      "outputs": []
    },
    {
      "cell_type": "code",
      "source": [
        "visualize_city_temperature(data, 'New York', start_date='2014-01-01', end_date='2016-01-01')"
      ],
      "metadata": {
        "colab": {
          "base_uri": "https://localhost:8080/",
          "height": 542
        },
        "id": "YD0Rrak7Zp2U",
        "outputId": "744f05ef-1b0a-4a31-ec46-fb6b3641b76a"
      },
      "execution_count": 76,
      "outputs": [
        {
          "output_type": "display_data",
          "data": {
            "text/html": [
              "<html>\n",
              "<head><meta charset=\"utf-8\" /></head>\n",
              "<body>\n",
              "    <div>            <script src=\"https://cdnjs.cloudflare.com/ajax/libs/mathjax/2.7.5/MathJax.js?config=TeX-AMS-MML_SVG\"></script><script type=\"text/javascript\">if (window.MathJax && window.MathJax.Hub && window.MathJax.Hub.Config) {window.MathJax.Hub.Config({SVG: {font: \"STIX-Web\"}});}</script>                <script type=\"text/javascript\">window.PlotlyConfig = {MathJaxConfig: 'local'};</script>\n",
              "        <script charset=\"utf-8\" src=\"https://cdn.plot.ly/plotly-2.35.2.min.js\"></script>                <div id=\"9822039e-f898-4007-9bb2-c8dbf91efa98\" class=\"plotly-graph-div\" style=\"height:525px; width:100%;\"></div>            <script type=\"text/javascript\">                                    window.PLOTLYENV=window.PLOTLYENV || {};                                    if (document.getElementById(\"9822039e-f898-4007-9bb2-c8dbf91efa98\")) {                    Plotly.newPlot(                        \"9822039e-f898-4007-9bb2-c8dbf91efa98\",                        [{\"hoverinfo\":\"y\",\"line\":{\"color\":\"grey\",\"width\":2},\"mode\":\"lines\",\"name\":\"Temperature\",\"x\":[\"2014-01-01T00:00:00\",\"2014-01-02T00:00:00\",\"2014-01-03T00:00:00\",\"2014-01-04T00:00:00\",\"2014-01-05T00:00:00\",\"2014-01-06T00:00:00\",\"2014-01-07T00:00:00\",\"2014-01-08T00:00:00\",\"2014-01-09T00:00:00\",\"2014-01-10T00:00:00\",\"2014-01-11T00:00:00\",\"2014-01-12T00:00:00\",\"2014-01-13T00:00:00\",\"2014-01-14T00:00:00\",\"2014-01-15T00:00:00\",\"2014-01-16T00:00:00\",\"2014-01-17T00:00:00\",\"2014-01-18T00:00:00\",\"2014-01-19T00:00:00\",\"2014-01-20T00:00:00\",\"2014-01-21T00:00:00\",\"2014-01-22T00:00:00\",\"2014-01-23T00:00:00\",\"2014-01-24T00:00:00\",\"2014-01-25T00:00:00\",\"2014-01-26T00:00:00\",\"2014-01-27T00:00:00\",\"2014-01-28T00:00:00\",\"2014-01-29T00:00:00\",\"2014-01-30T00:00:00\",\"2014-01-31T00:00:00\",\"2014-02-01T00:00:00\",\"2014-02-02T00:00:00\",\"2014-02-03T00:00:00\",\"2014-02-04T00:00:00\",\"2014-02-05T00:00:00\",\"2014-02-06T00:00:00\",\"2014-02-07T00:00:00\",\"2014-02-08T00:00:00\",\"2014-02-09T00:00:00\",\"2014-02-10T00:00:00\",\"2014-02-11T00:00:00\",\"2014-02-12T00:00:00\",\"2014-02-13T00:00:00\",\"2014-02-14T00:00:00\",\"2014-02-15T00:00:00\",\"2014-02-16T00:00:00\",\"2014-02-17T00:00:00\",\"2014-02-18T00:00:00\",\"2014-02-19T00:00:00\",\"2014-02-20T00:00:00\",\"2014-02-21T00:00:00\",\"2014-02-22T00:00:00\",\"2014-02-23T00:00:00\",\"2014-02-24T00:00:00\",\"2014-02-25T00:00:00\",\"2014-02-26T00:00:00\",\"2014-02-27T00:00:00\",\"2014-02-28T00:00:00\",\"2014-03-01T00:00:00\",\"2014-03-02T00:00:00\",\"2014-03-03T00:00:00\",\"2014-03-04T00:00:00\",\"2014-03-05T00:00:00\",\"2014-03-06T00:00:00\",\"2014-03-07T00:00:00\",\"2014-03-08T00:00:00\",\"2014-03-09T00:00:00\",\"2014-03-10T00:00:00\",\"2014-03-11T00:00:00\",\"2014-03-12T00:00:00\",\"2014-03-13T00:00:00\",\"2014-03-14T00:00:00\",\"2014-03-15T00:00:00\",\"2014-03-16T00:00:00\",\"2014-03-17T00:00:00\",\"2014-03-18T00:00:00\",\"2014-03-19T00:00:00\",\"2014-03-20T00:00:00\",\"2014-03-21T00:00:00\",\"2014-03-22T00:00:00\",\"2014-03-23T00:00:00\",\"2014-03-24T00:00:00\",\"2014-03-25T00:00:00\",\"2014-03-26T00:00:00\",\"2014-03-27T00:00:00\",\"2014-03-28T00:00:00\",\"2014-03-29T00:00:00\",\"2014-03-30T00:00:00\",\"2014-03-31T00:00:00\",\"2014-04-01T00:00:00\",\"2014-04-02T00:00:00\",\"2014-04-03T00:00:00\",\"2014-04-04T00:00:00\",\"2014-04-05T00:00:00\",\"2014-04-06T00:00:00\",\"2014-04-07T00:00:00\",\"2014-04-08T00:00:00\",\"2014-04-09T00:00:00\",\"2014-04-10T00:00:00\",\"2014-04-11T00:00:00\",\"2014-04-12T00:00:00\",\"2014-04-13T00:00:00\",\"2014-04-14T00:00:00\",\"2014-04-15T00:00:00\",\"2014-04-16T00:00:00\",\"2014-04-17T00:00:00\",\"2014-04-18T00:00:00\",\"2014-04-19T00:00:00\",\"2014-04-20T00:00:00\",\"2014-04-21T00:00:00\",\"2014-04-22T00:00:00\",\"2014-04-23T00:00:00\",\"2014-04-24T00:00:00\",\"2014-04-25T00:00:00\",\"2014-04-26T00:00:00\",\"2014-04-27T00:00:00\",\"2014-04-28T00:00:00\",\"2014-04-29T00:00:00\",\"2014-04-30T00:00:00\",\"2014-05-01T00:00:00\",\"2014-05-02T00:00:00\",\"2014-05-03T00:00:00\",\"2014-05-04T00:00:00\",\"2014-05-05T00:00:00\",\"2014-05-06T00:00:00\",\"2014-05-07T00:00:00\",\"2014-05-08T00:00:00\",\"2014-05-09T00:00:00\",\"2014-05-10T00:00:00\",\"2014-05-11T00:00:00\",\"2014-05-12T00:00:00\",\"2014-05-13T00:00:00\",\"2014-05-14T00:00:00\",\"2014-05-15T00:00:00\",\"2014-05-16T00:00:00\",\"2014-05-17T00:00:00\",\"2014-05-18T00:00:00\",\"2014-05-19T00:00:00\",\"2014-05-20T00:00:00\",\"2014-05-21T00:00:00\",\"2014-05-22T00:00:00\",\"2014-05-23T00:00:00\",\"2014-05-24T00:00:00\",\"2014-05-25T00:00:00\",\"2014-05-26T00:00:00\",\"2014-05-27T00:00:00\",\"2014-05-28T00:00:00\",\"2014-05-29T00:00:00\",\"2014-05-30T00:00:00\",\"2014-05-31T00:00:00\",\"2014-06-01T00:00:00\",\"2014-06-02T00:00:00\",\"2014-06-03T00:00:00\",\"2014-06-04T00:00:00\",\"2014-06-05T00:00:00\",\"2014-06-06T00:00:00\",\"2014-06-07T00:00:00\",\"2014-06-08T00:00:00\",\"2014-06-09T00:00:00\",\"2014-06-10T00:00:00\",\"2014-06-11T00:00:00\",\"2014-06-12T00:00:00\",\"2014-06-13T00:00:00\",\"2014-06-14T00:00:00\",\"2014-06-15T00:00:00\",\"2014-06-16T00:00:00\",\"2014-06-17T00:00:00\",\"2014-06-18T00:00:00\",\"2014-06-19T00:00:00\",\"2014-06-20T00:00:00\",\"2014-06-21T00:00:00\",\"2014-06-22T00:00:00\",\"2014-06-23T00:00:00\",\"2014-06-24T00:00:00\",\"2014-06-25T00:00:00\",\"2014-06-26T00:00:00\",\"2014-06-27T00:00:00\",\"2014-06-28T00:00:00\",\"2014-06-29T00:00:00\",\"2014-06-30T00:00:00\",\"2014-07-01T00:00:00\",\"2014-07-02T00:00:00\",\"2014-07-03T00:00:00\",\"2014-07-04T00:00:00\",\"2014-07-05T00:00:00\",\"2014-07-06T00:00:00\",\"2014-07-07T00:00:00\",\"2014-07-08T00:00:00\",\"2014-07-09T00:00:00\",\"2014-07-10T00:00:00\",\"2014-07-11T00:00:00\",\"2014-07-12T00:00:00\",\"2014-07-13T00:00:00\",\"2014-07-14T00:00:00\",\"2014-07-15T00:00:00\",\"2014-07-16T00:00:00\",\"2014-07-17T00:00:00\",\"2014-07-18T00:00:00\",\"2014-07-19T00:00:00\",\"2014-07-20T00:00:00\",\"2014-07-21T00:00:00\",\"2014-07-22T00:00:00\",\"2014-07-23T00:00:00\",\"2014-07-24T00:00:00\",\"2014-07-25T00:00:00\",\"2014-07-26T00:00:00\",\"2014-07-27T00:00:00\",\"2014-07-28T00:00:00\",\"2014-07-29T00:00:00\",\"2014-07-30T00:00:00\",\"2014-07-31T00:00:00\",\"2014-08-01T00:00:00\",\"2014-08-02T00:00:00\",\"2014-08-03T00:00:00\",\"2014-08-04T00:00:00\",\"2014-08-05T00:00:00\",\"2014-08-06T00:00:00\",\"2014-08-07T00:00:00\",\"2014-08-08T00:00:00\",\"2014-08-09T00:00:00\",\"2014-08-10T00:00:00\",\"2014-08-11T00:00:00\",\"2014-08-12T00:00:00\",\"2014-08-13T00:00:00\",\"2014-08-14T00:00:00\",\"2014-08-15T00:00:00\",\"2014-08-16T00:00:00\",\"2014-08-17T00:00:00\",\"2014-08-18T00:00:00\",\"2014-08-19T00:00:00\",\"2014-08-20T00:00:00\",\"2014-08-21T00:00:00\",\"2014-08-22T00:00:00\",\"2014-08-23T00:00:00\",\"2014-08-24T00:00:00\",\"2014-08-25T00:00:00\",\"2014-08-26T00:00:00\",\"2014-08-27T00:00:00\",\"2014-08-28T00:00:00\",\"2014-08-29T00:00:00\",\"2014-08-30T00:00:00\",\"2014-08-31T00:00:00\",\"2014-09-01T00:00:00\",\"2014-09-02T00:00:00\",\"2014-09-03T00:00:00\",\"2014-09-04T00:00:00\",\"2014-09-05T00:00:00\",\"2014-09-06T00:00:00\",\"2014-09-07T00:00:00\",\"2014-09-08T00:00:00\",\"2014-09-09T00:00:00\",\"2014-09-10T00:00:00\",\"2014-09-11T00:00:00\",\"2014-09-12T00:00:00\",\"2014-09-13T00:00:00\",\"2014-09-14T00:00:00\",\"2014-09-15T00:00:00\",\"2014-09-16T00:00:00\",\"2014-09-17T00:00:00\",\"2014-09-18T00:00:00\",\"2014-09-19T00:00:00\",\"2014-09-20T00:00:00\",\"2014-09-21T00:00:00\",\"2014-09-22T00:00:00\",\"2014-09-23T00:00:00\",\"2014-09-24T00:00:00\",\"2014-09-25T00:00:00\",\"2014-09-26T00:00:00\",\"2014-09-27T00:00:00\",\"2014-09-28T00:00:00\",\"2014-09-29T00:00:00\",\"2014-09-30T00:00:00\",\"2014-10-01T00:00:00\",\"2014-10-02T00:00:00\",\"2014-10-03T00:00:00\",\"2014-10-04T00:00:00\",\"2014-10-05T00:00:00\",\"2014-10-06T00:00:00\",\"2014-10-07T00:00:00\",\"2014-10-08T00:00:00\",\"2014-10-09T00:00:00\",\"2014-10-10T00:00:00\",\"2014-10-11T00:00:00\",\"2014-10-12T00:00:00\",\"2014-10-13T00:00:00\",\"2014-10-14T00:00:00\",\"2014-10-15T00:00:00\",\"2014-10-16T00:00:00\",\"2014-10-17T00:00:00\",\"2014-10-18T00:00:00\",\"2014-10-19T00:00:00\",\"2014-10-20T00:00:00\",\"2014-10-21T00:00:00\",\"2014-10-22T00:00:00\",\"2014-10-23T00:00:00\",\"2014-10-24T00:00:00\",\"2014-10-25T00:00:00\",\"2014-10-26T00:00:00\",\"2014-10-27T00:00:00\",\"2014-10-28T00:00:00\",\"2014-10-29T00:00:00\",\"2014-10-30T00:00:00\",\"2014-10-31T00:00:00\",\"2014-11-01T00:00:00\",\"2014-11-02T00:00:00\",\"2014-11-03T00:00:00\",\"2014-11-04T00:00:00\",\"2014-11-05T00:00:00\",\"2014-11-06T00:00:00\",\"2014-11-07T00:00:00\",\"2014-11-08T00:00:00\",\"2014-11-09T00:00:00\",\"2014-11-10T00:00:00\",\"2014-11-11T00:00:00\",\"2014-11-12T00:00:00\",\"2014-11-13T00:00:00\",\"2014-11-14T00:00:00\",\"2014-11-15T00:00:00\",\"2014-11-16T00:00:00\",\"2014-11-17T00:00:00\",\"2014-11-18T00:00:00\",\"2014-11-19T00:00:00\",\"2014-11-20T00:00:00\",\"2014-11-21T00:00:00\",\"2014-11-22T00:00:00\",\"2014-11-23T00:00:00\",\"2014-11-24T00:00:00\",\"2014-11-25T00:00:00\",\"2014-11-26T00:00:00\",\"2014-11-27T00:00:00\",\"2014-11-28T00:00:00\",\"2014-11-29T00:00:00\",\"2014-11-30T00:00:00\",\"2014-12-01T00:00:00\",\"2014-12-02T00:00:00\",\"2014-12-03T00:00:00\",\"2014-12-04T00:00:00\",\"2014-12-05T00:00:00\",\"2014-12-06T00:00:00\",\"2014-12-07T00:00:00\",\"2014-12-08T00:00:00\",\"2014-12-09T00:00:00\",\"2014-12-10T00:00:00\",\"2014-12-11T00:00:00\",\"2014-12-12T00:00:00\",\"2014-12-13T00:00:00\",\"2014-12-14T00:00:00\",\"2014-12-15T00:00:00\",\"2014-12-16T00:00:00\",\"2014-12-17T00:00:00\",\"2014-12-18T00:00:00\",\"2014-12-19T00:00:00\",\"2014-12-20T00:00:00\",\"2014-12-21T00:00:00\",\"2014-12-22T00:00:00\",\"2014-12-23T00:00:00\",\"2014-12-24T00:00:00\",\"2014-12-25T00:00:00\",\"2014-12-26T00:00:00\",\"2014-12-27T00:00:00\",\"2014-12-28T00:00:00\",\"2014-12-29T00:00:00\",\"2014-12-30T00:00:00\",\"2014-12-31T00:00:00\",\"2015-01-01T00:00:00\",\"2015-01-02T00:00:00\",\"2015-01-03T00:00:00\",\"2015-01-04T00:00:00\",\"2015-01-05T00:00:00\",\"2015-01-06T00:00:00\",\"2015-01-07T00:00:00\",\"2015-01-08T00:00:00\",\"2015-01-09T00:00:00\",\"2015-01-10T00:00:00\",\"2015-01-11T00:00:00\",\"2015-01-12T00:00:00\",\"2015-01-13T00:00:00\",\"2015-01-14T00:00:00\",\"2015-01-15T00:00:00\",\"2015-01-16T00:00:00\",\"2015-01-17T00:00:00\",\"2015-01-18T00:00:00\",\"2015-01-19T00:00:00\",\"2015-01-20T00:00:00\",\"2015-01-21T00:00:00\",\"2015-01-22T00:00:00\",\"2015-01-23T00:00:00\",\"2015-01-24T00:00:00\",\"2015-01-25T00:00:00\",\"2015-01-26T00:00:00\",\"2015-01-27T00:00:00\",\"2015-01-28T00:00:00\",\"2015-01-29T00:00:00\",\"2015-01-30T00:00:00\",\"2015-01-31T00:00:00\",\"2015-02-01T00:00:00\",\"2015-02-02T00:00:00\",\"2015-02-03T00:00:00\",\"2015-02-04T00:00:00\",\"2015-02-05T00:00:00\",\"2015-02-06T00:00:00\",\"2015-02-07T00:00:00\",\"2015-02-08T00:00:00\",\"2015-02-09T00:00:00\",\"2015-02-10T00:00:00\",\"2015-02-11T00:00:00\",\"2015-02-12T00:00:00\",\"2015-02-13T00:00:00\",\"2015-02-14T00:00:00\",\"2015-02-15T00:00:00\",\"2015-02-16T00:00:00\",\"2015-02-17T00:00:00\",\"2015-02-18T00:00:00\",\"2015-02-19T00:00:00\",\"2015-02-20T00:00:00\",\"2015-02-21T00:00:00\",\"2015-02-22T00:00:00\",\"2015-02-23T00:00:00\",\"2015-02-24T00:00:00\",\"2015-02-25T00:00:00\",\"2015-02-26T00:00:00\",\"2015-02-27T00:00:00\",\"2015-02-28T00:00:00\",\"2015-03-01T00:00:00\",\"2015-03-02T00:00:00\",\"2015-03-03T00:00:00\",\"2015-03-04T00:00:00\",\"2015-03-05T00:00:00\",\"2015-03-06T00:00:00\",\"2015-03-07T00:00:00\",\"2015-03-08T00:00:00\",\"2015-03-09T00:00:00\",\"2015-03-10T00:00:00\",\"2015-03-11T00:00:00\",\"2015-03-12T00:00:00\",\"2015-03-13T00:00:00\",\"2015-03-14T00:00:00\",\"2015-03-15T00:00:00\",\"2015-03-16T00:00:00\",\"2015-03-17T00:00:00\",\"2015-03-18T00:00:00\",\"2015-03-19T00:00:00\",\"2015-03-20T00:00:00\",\"2015-03-21T00:00:00\",\"2015-03-22T00:00:00\",\"2015-03-23T00:00:00\",\"2015-03-24T00:00:00\",\"2015-03-25T00:00:00\",\"2015-03-26T00:00:00\",\"2015-03-27T00:00:00\",\"2015-03-28T00:00:00\",\"2015-03-29T00:00:00\",\"2015-03-30T00:00:00\",\"2015-03-31T00:00:00\",\"2015-04-01T00:00:00\",\"2015-04-02T00:00:00\",\"2015-04-03T00:00:00\",\"2015-04-04T00:00:00\",\"2015-04-05T00:00:00\",\"2015-04-06T00:00:00\",\"2015-04-07T00:00:00\",\"2015-04-08T00:00:00\",\"2015-04-09T00:00:00\",\"2015-04-10T00:00:00\",\"2015-04-11T00:00:00\",\"2015-04-12T00:00:00\",\"2015-04-13T00:00:00\",\"2015-04-14T00:00:00\",\"2015-04-15T00:00:00\",\"2015-04-16T00:00:00\",\"2015-04-17T00:00:00\",\"2015-04-18T00:00:00\",\"2015-04-19T00:00:00\",\"2015-04-20T00:00:00\",\"2015-04-21T00:00:00\",\"2015-04-22T00:00:00\",\"2015-04-23T00:00:00\",\"2015-04-24T00:00:00\",\"2015-04-25T00:00:00\",\"2015-04-26T00:00:00\",\"2015-04-27T00:00:00\",\"2015-04-28T00:00:00\",\"2015-04-29T00:00:00\",\"2015-04-30T00:00:00\",\"2015-05-01T00:00:00\",\"2015-05-02T00:00:00\",\"2015-05-03T00:00:00\",\"2015-05-04T00:00:00\",\"2015-05-05T00:00:00\",\"2015-05-06T00:00:00\",\"2015-05-07T00:00:00\",\"2015-05-08T00:00:00\",\"2015-05-09T00:00:00\",\"2015-05-10T00:00:00\",\"2015-05-11T00:00:00\",\"2015-05-12T00:00:00\",\"2015-05-13T00:00:00\",\"2015-05-14T00:00:00\",\"2015-05-15T00:00:00\",\"2015-05-16T00:00:00\",\"2015-05-17T00:00:00\",\"2015-05-18T00:00:00\",\"2015-05-19T00:00:00\",\"2015-05-20T00:00:00\",\"2015-05-21T00:00:00\",\"2015-05-22T00:00:00\",\"2015-05-23T00:00:00\",\"2015-05-24T00:00:00\",\"2015-05-25T00:00:00\",\"2015-05-26T00:00:00\",\"2015-05-27T00:00:00\",\"2015-05-28T00:00:00\",\"2015-05-29T00:00:00\",\"2015-05-30T00:00:00\",\"2015-05-31T00:00:00\",\"2015-06-01T00:00:00\",\"2015-06-02T00:00:00\",\"2015-06-03T00:00:00\",\"2015-06-04T00:00:00\",\"2015-06-05T00:00:00\",\"2015-06-06T00:00:00\",\"2015-06-07T00:00:00\",\"2015-06-08T00:00:00\",\"2015-06-09T00:00:00\",\"2015-06-10T00:00:00\",\"2015-06-11T00:00:00\",\"2015-06-12T00:00:00\",\"2015-06-13T00:00:00\",\"2015-06-14T00:00:00\",\"2015-06-15T00:00:00\",\"2015-06-16T00:00:00\",\"2015-06-17T00:00:00\",\"2015-06-18T00:00:00\",\"2015-06-19T00:00:00\",\"2015-06-20T00:00:00\",\"2015-06-21T00:00:00\",\"2015-06-22T00:00:00\",\"2015-06-23T00:00:00\",\"2015-06-24T00:00:00\",\"2015-06-25T00:00:00\",\"2015-06-26T00:00:00\",\"2015-06-27T00:00:00\",\"2015-06-28T00:00:00\",\"2015-06-29T00:00:00\",\"2015-06-30T00:00:00\",\"2015-07-01T00:00:00\",\"2015-07-02T00:00:00\",\"2015-07-03T00:00:00\",\"2015-07-04T00:00:00\",\"2015-07-05T00:00:00\",\"2015-07-06T00:00:00\",\"2015-07-07T00:00:00\",\"2015-07-08T00:00:00\",\"2015-07-09T00:00:00\",\"2015-07-10T00:00:00\",\"2015-07-11T00:00:00\",\"2015-07-12T00:00:00\",\"2015-07-13T00:00:00\",\"2015-07-14T00:00:00\",\"2015-07-15T00:00:00\",\"2015-07-16T00:00:00\",\"2015-07-17T00:00:00\",\"2015-07-18T00:00:00\",\"2015-07-19T00:00:00\",\"2015-07-20T00:00:00\",\"2015-07-21T00:00:00\",\"2015-07-22T00:00:00\",\"2015-07-23T00:00:00\",\"2015-07-24T00:00:00\",\"2015-07-25T00:00:00\",\"2015-07-26T00:00:00\",\"2015-07-27T00:00:00\",\"2015-07-28T00:00:00\",\"2015-07-29T00:00:00\",\"2015-07-30T00:00:00\",\"2015-07-31T00:00:00\",\"2015-08-01T00:00:00\",\"2015-08-02T00:00:00\",\"2015-08-03T00:00:00\",\"2015-08-04T00:00:00\",\"2015-08-05T00:00:00\",\"2015-08-06T00:00:00\",\"2015-08-07T00:00:00\",\"2015-08-08T00:00:00\",\"2015-08-09T00:00:00\",\"2015-08-10T00:00:00\",\"2015-08-11T00:00:00\",\"2015-08-12T00:00:00\",\"2015-08-13T00:00:00\",\"2015-08-14T00:00:00\",\"2015-08-15T00:00:00\",\"2015-08-16T00:00:00\",\"2015-08-17T00:00:00\",\"2015-08-18T00:00:00\",\"2015-08-19T00:00:00\",\"2015-08-20T00:00:00\",\"2015-08-21T00:00:00\",\"2015-08-22T00:00:00\",\"2015-08-23T00:00:00\",\"2015-08-24T00:00:00\",\"2015-08-25T00:00:00\",\"2015-08-26T00:00:00\",\"2015-08-27T00:00:00\",\"2015-08-28T00:00:00\",\"2015-08-29T00:00:00\",\"2015-08-30T00:00:00\",\"2015-08-31T00:00:00\",\"2015-09-01T00:00:00\",\"2015-09-02T00:00:00\",\"2015-09-03T00:00:00\",\"2015-09-04T00:00:00\",\"2015-09-05T00:00:00\",\"2015-09-06T00:00:00\",\"2015-09-07T00:00:00\",\"2015-09-08T00:00:00\",\"2015-09-09T00:00:00\",\"2015-09-10T00:00:00\",\"2015-09-11T00:00:00\",\"2015-09-12T00:00:00\",\"2015-09-13T00:00:00\",\"2015-09-14T00:00:00\",\"2015-09-15T00:00:00\",\"2015-09-16T00:00:00\",\"2015-09-17T00:00:00\",\"2015-09-18T00:00:00\",\"2015-09-19T00:00:00\",\"2015-09-20T00:00:00\",\"2015-09-21T00:00:00\",\"2015-09-22T00:00:00\",\"2015-09-23T00:00:00\",\"2015-09-24T00:00:00\",\"2015-09-25T00:00:00\",\"2015-09-26T00:00:00\",\"2015-09-27T00:00:00\",\"2015-09-28T00:00:00\",\"2015-09-29T00:00:00\",\"2015-09-30T00:00:00\",\"2015-10-01T00:00:00\",\"2015-10-02T00:00:00\",\"2015-10-03T00:00:00\",\"2015-10-04T00:00:00\",\"2015-10-05T00:00:00\",\"2015-10-06T00:00:00\",\"2015-10-07T00:00:00\",\"2015-10-08T00:00:00\",\"2015-10-09T00:00:00\",\"2015-10-10T00:00:00\",\"2015-10-11T00:00:00\",\"2015-10-12T00:00:00\",\"2015-10-13T00:00:00\",\"2015-10-14T00:00:00\",\"2015-10-15T00:00:00\",\"2015-10-16T00:00:00\",\"2015-10-17T00:00:00\",\"2015-10-18T00:00:00\",\"2015-10-19T00:00:00\",\"2015-10-20T00:00:00\",\"2015-10-21T00:00:00\",\"2015-10-22T00:00:00\",\"2015-10-23T00:00:00\",\"2015-10-24T00:00:00\",\"2015-10-25T00:00:00\",\"2015-10-26T00:00:00\",\"2015-10-27T00:00:00\",\"2015-10-28T00:00:00\",\"2015-10-29T00:00:00\",\"2015-10-30T00:00:00\",\"2015-10-31T00:00:00\",\"2015-11-01T00:00:00\",\"2015-11-02T00:00:00\",\"2015-11-03T00:00:00\",\"2015-11-04T00:00:00\",\"2015-11-05T00:00:00\",\"2015-11-06T00:00:00\",\"2015-11-07T00:00:00\",\"2015-11-08T00:00:00\",\"2015-11-09T00:00:00\",\"2015-11-10T00:00:00\",\"2015-11-11T00:00:00\",\"2015-11-12T00:00:00\",\"2015-11-13T00:00:00\",\"2015-11-14T00:00:00\",\"2015-11-15T00:00:00\",\"2015-11-16T00:00:00\",\"2015-11-17T00:00:00\",\"2015-11-18T00:00:00\",\"2015-11-19T00:00:00\",\"2015-11-20T00:00:00\",\"2015-11-21T00:00:00\",\"2015-11-22T00:00:00\",\"2015-11-23T00:00:00\",\"2015-11-24T00:00:00\",\"2015-11-25T00:00:00\",\"2015-11-26T00:00:00\",\"2015-11-27T00:00:00\",\"2015-11-28T00:00:00\",\"2015-11-29T00:00:00\",\"2015-11-30T00:00:00\",\"2015-12-01T00:00:00\",\"2015-12-02T00:00:00\",\"2015-12-03T00:00:00\",\"2015-12-04T00:00:00\",\"2015-12-05T00:00:00\",\"2015-12-06T00:00:00\",\"2015-12-07T00:00:00\",\"2015-12-08T00:00:00\",\"2015-12-09T00:00:00\",\"2015-12-10T00:00:00\",\"2015-12-11T00:00:00\",\"2015-12-12T00:00:00\",\"2015-12-13T00:00:00\",\"2015-12-14T00:00:00\",\"2015-12-15T00:00:00\",\"2015-12-16T00:00:00\",\"2015-12-17T00:00:00\",\"2015-12-18T00:00:00\",\"2015-12-19T00:00:00\",\"2015-12-20T00:00:00\",\"2015-12-21T00:00:00\",\"2015-12-22T00:00:00\",\"2015-12-23T00:00:00\",\"2015-12-24T00:00:00\",\"2015-12-25T00:00:00\",\"2015-12-26T00:00:00\",\"2015-12-27T00:00:00\",\"2015-12-28T00:00:00\",\"2015-12-29T00:00:00\",\"2015-12-30T00:00:00\",\"2015-12-31T00:00:00\",\"2016-01-01T00:00:00\"],\"y\":[-1.0257670031162833,4.453677539221792,-1.4789850661581547,-1.2174120043904493,-0.06802662406580287,-5.017887042974399,-2.6207705086985063,8.410390419017165,-2.7282844935620765,0.10581470159701468,-0.6102512942863065,7.167220060420563,-2.260660951673237,-5.50426711188819,-0.9799268958498542,-0.5752002781118147,3.12161930487051,-0.2687733552498855,-5.019943457615204,4.600161710839091,0.6991033128443276,-0.19714682921317178,-7.580473267575149,-6.4102081986999035,-1.674899014606432,0.5610860708206034,7.843452549023576,-7.555945368600049,-0.5449726141455677,1.6225334295282874,3.954163159329869,-5.829120749216324,-0.289148607499799,2.873347434183665,0.07315721831038073,-8.594107819910274,-2.87665086053765,-1.7944180087936035,-6.77319621828196,1.5184834815134973,-7.052611827572478,-2.9204544293504093,4.00328413224746,-0.47847286672031364,6.173063055661383,4.398903660899211,-2.619635877527153,-6.083787386567538,3.314319000385486,-0.902023733933635,-0.19785360164502153,-1.7197228463868488,-5.341244499322859,-1.9839062486352255,-8.998082650461258,-4.813234307582153,10.732519429328612,1.1634021219593196,-4.148792409173183,14.146238298575433,7.85332928642012,4.431539881693599,17.20638758965454,8.336540638420752,14.538543847455998,6.287021272590149,12.505049499295014,4.3369161581787585,9.124924797920496,4.001429941702288,12.340868088576164,13.101241612172974,5.038414617570057,8.281579709966854,6.046257150563516,14.872334038321274,10.27706903098059,9.238152719131206,1.0642648252450524,16.856207765872952,-5.947040511791229,12.580855667390203,4.978930547389416,5.07341075773989,10.756130039245715,8.327642390454908,7.155530975481519,17.541464423368186,6.396827954555828,3.248587956804575,9.998025401232281,5.56990865136361,16.531027785335485,10.372590269417564,11.329863425530295,8.679636607976716,8.931862190852353,12.814133676422394,4.783500328673185,8.864733948021202,1.989403365884165,11.194840824752674,7.439707583986437,0.1631237639998755,6.22897445979264,10.182613578755427,8.04445489251276,13.53536954991526,15.015992307361024,14.435952749591669,9.713563401350921,3.522549540300764,14.338763707881107,14.236294356120878,5.963646369967048,9.1655163290855,3.753851195074949,7.915351725666206,13.040125387778906,12.294401765255781,10.317047569651985,7.634192282205806,7.346032445426124,19.30772622554501,12.83060674107336,8.657056774686753,19.24884782675099,1.9105952582357055,12.647817900016666,10.457060160305664,13.47906801946911,12.230008573085044,1.4806404143460075,7.502841819598528,14.847912118533166,19.44668483801955,13.105554709949878,15.834713657896542,10.843639963961113,9.62201443092378,14.626103324181713,4.326751033144543,13.305862335846134,11.457514707552026,16.408911544362038,23.83094741178745,13.34946615016422,13.726012823179062,14.597531916591056,1.3531853549921085,14.434190222259627,27.921910783481476,31.31873648792295,29.176201408447188,28.016269967640188,33.20825353652188,32.99332737625271,23.250576486168043,25.148231994518596,25.68948082436697,23.038661876230574,24.890999986624553,27.803397131750316,24.971605232507823,32.21858421886509,31.191646270834703,24.86249559032625,28.12190293308642,25.474548490191484,31.762884608210335,23.942859606420726,25.270943660889635,20.726365688918403,24.80780555834843,31.23085657478328,32.84047141602822,22.207498275953885,30.314350273244294,29.9762018569205,21.884397923380867,27.852628723841182,22.99103879413066,21.746111794157816,18.687263892960527,28.3081371659099,27.999108998830813,18.213634483645798,23.94561525472498,18.896753734645095,27.038034322634168,27.42401781744123,32.906814423464375,26.076538408618138,36.43255477030536,23.798602596119697,23.77076990990634,13.701033095168356,20.00283710606076,23.54170988430887,27.18272276310019,25.681541663711833,19.973602717013275,23.46790980915003,28.02831547057733,37.38215294284605,21.947733722628897,31.57143694521192,21.12335835238338,26.165726774396656,21.290422300845943,23.203171974040078,29.50445122398478,26.430157133653122,32.33220735611279,24.289366095595888,26.19889610490575,20.6620991204833,19.48546907366411,21.187608828784814,22.852723023674645,17.147521963264133,23.017591692510205,23.2067057960737,31.182576550899977,23.837714224001076,27.469998082049507,22.798368181338617,28.427924624858196,23.229822783057127,20.739016680500534,19.824593869400083,25.164684427770368,31.977321415095872,21.096982150431952,19.436944739993933,26.07446318692244,26.570225962285967,34.523541576111384,27.599857897224997,21.089785923695374,23.12105675145646,33.03973986352203,32.57389664068056,10.882227038435683,16.647661868927,8.842661029564612,14.111814066112588,16.724524905822673,17.941652124846883,27.00904710483866,10.699896462616053,7.7098029887229504,11.052046334324126,16.545181676827607,15.073306275965914,6.233794855601568,6.903909642857355,14.967205297065895,18.153013823382324,13.508606106674236,7.428827789873303,10.399322493705522,17.920545085856645,8.45983098302521,7.376051289609053,20.06550623051526,14.929265571024576,22.14228549615739,21.787127243264198,22.21257639465936,10.319939735249859,25.84925695355356,15.037817424410136,18.803164765043633,10.296963843751849,16.410358030874296,6.445687073589767,9.787967684401837,15.515784967388267,22.40169228198945,15.384506277419137,10.227838537069154,14.360666588350322,9.044181568863115,8.690219895975384,8.574661788696492,13.732454152682447,20.258472170119557,15.095047915328559,7.652111439451597,19.557841253826886,17.59211147980675,12.848129710090742,27.01759026625208,13.623769560323415,10.691454266003918,14.329497825384221,14.998398635810544,17.273729584794804,22.140107955632136,13.754255115488856,14.42228493843841,10.915077383278177,14.445052715743593,16.11439134569331,8.858888854392859,15.256846937434283,11.668100054409587,9.688219948187637,22.533413511495848,14.806858686116003,12.84152288681879,14.892985546877316,23.039941267236408,15.30704498612399,17.410154427455122,19.666949500763977,13.806455498480426,14.407152108016495,11.281234367751015,16.053322020929674,12.804737845081235,12.419770639661515,15.096383694119925,17.152508830204734,13.249085335812204,13.944455202812568,14.97868586023215,15.245699816233387,14.221065607954651,20.946808216590775,12.320644227443646,21.958841231918516,16.012157785209794,-3.871283695048917,-2.493941875076594,15.19099660489273,-2.5981918525121186,-2.8916573762864877,6.835406485137049,-1.1437039553324122,-2.018818960477074,12.847438815354037,6.8926135924914504,4.349679582388179,4.552257745134569,-2.4467393772031816,-0.37690790170356286,0.4827980628565954,-1.5221156677167351,-0.40771033740942086,-5.610100597566631,13.52356707670789,4.983853692295898,3.4780201163383637,-4.027114512137234,7.033216964203445,6.425032954713545,-4.956618121339924,7.970366109164804,4.454815689086978,-10.097581159714998,8.646874858871806,4.170158910508776,-2.2113991363116123,4.89038875197486,-2.459406388266926,-5.135766097353537,-0.8026164345149074,5.372981210633686,4.503377093097772,1.0102440571157842,-0.0981349354795597,3.2675632218835045,-4.337430770293884,-2.491256313398151,-8.787982988702488,-1.731200703998332,-2.0524013489045974,-3.251325537880025,-0.29865690504585474,-2.983210035830572,6.499510600516475,0.9164536294128821,-7.606287803819049,-4.405338344163657,-2.0254548651925344,-8.112788885979453,-3.1349165816997777,3.78788882500808,-0.14487038987757025,8.485526591767492,4.759191805154215,-1.0305525465909344,-0.25794582352281165,-1.107238952761536,-1.0197421357702072,-8.614051556692429,-7.069385233970474,7.789186989395052,7.083281387635212,-2.522510555195832,-5.155044031505089,-2.193467063163294,2.0394872066724328,-12.540843790721791,-4.3529912759580345,9.609864177311316,-9.889136798689496,10.031778353560533,-3.718184619764674,10.096567491628221,0.021782328465149194,-3.217142655616323,3.0640872468080578,2.049011081974443,-2.9618643805446485,4.74988947231339,5.524215566393766,-2.8656358166071016,0.15419409922403257,4.193475684374071,-2.303718305305324,-3.398901264309115,14.88055408524627,4.4215647942393845,0.4931629824430903,0.05897771674020902,12.182816687199297,5.206008542127271,17.905273996105812,1.7881304402964133,13.736789364250294,10.251814277241069,11.194415114130058,14.91608863064408,8.861045697514525,9.80778895732971,19.5355479652576,7.382656527154675,9.212388285788851,4.4853275476512176,9.633924267560445,0.3422752971363394,7.296656207973688,14.596898788041234,10.779277521240497,5.013177013760467,10.210156685895246,18.184107418985967,9.756038278372952,8.272993174127423,4.175397695147163,3.5410943469741065,7.633402505082582,1.5475640536798903,14.862937972435617,10.211298816609629,12.677897216372756,16.503247020518728,3.206547093176468,19.628016381449182,10.175361920627955,11.504379749024622,9.447484386366996,9.527208008361885,13.020255796568948,4.1747411882616365,19.2227387614705,9.736087826837224,9.525571799181481,8.280294742208598,18.628002493701764,-4.6905547303285715,12.919955961710677,12.999805754307037,10.842160263769411,4.489681913653331,12.44476008615064,11.881748154690449,6.367846886835295,10.681242355548338,10.31069033803944,14.420967308202155,10.242545008414357,15.987578533689964,11.858745795267101,6.253752850021726,3.6454443738890525,5.759314707083628,8.861551061520494,10.052820271449024,11.619656042721271,6.791679993441897,12.222022226141126,8.809101791723146,4.96564243885229,4.866228150313731,0.5673025568281407,15.16966360364787,5.5597204212215825,8.69562290949444,14.49005790282094,4.988010271650606,10.622624604867003,7.787916904865318,10.426071465083798,1.7834364063626538,11.38587761074583,7.829403842204233,9.086237159065462,7.106368777038542,9.36306958472306,6.997631336050889,11.855216908551803,7.464794929528446,22.42628440665252,27.68492195031787,28.929026528570553,23.05827507719448,33.21626855379464,27.61489796423106,19.26583958283652,28.81439125219147,18.01266409928861,23.770588038488295,19.490290590315915,28.33340492849621,24.63468916540655,29.426794580380292,23.216488649620292,20.07452708608763,25.62791372734969,28.713657446441104,21.641013933177277,19.443929748136615,18.33211199914115,16.28976331736693,29.46606668099871,12.766202478452112,41.4632098202985,20.612290860922236,27.234004699946063,20.414642832999363,20.268133397864442,23.659547420174043,28.190556132263435,26.748256769711038,24.437338700397476,21.300965916733944,22.432220887556287,24.589887597106603,33.50038870967578,31.583297070057963,19.525289306585787,25.63730977812865,26.759273344662518,22.05144835773394,23.26142614316365,22.823322704519175,14.620126928934114,26.400990228586977,24.25113255014527,28.69215879103072,21.044012559879242,26.57586468767147,28.121095421283297,25.405826603033976,20.155093966355523,17.443890707749603,26.739281292770436,27.912747178362338,21.13548523204012,20.804619828435097,27.130014243888567,23.050623817420117,16.706717304570898,25.269753937061587,30.593167931277026,25.617758142508915,17.308751128670778,23.69463599743705,19.407243902787226,21.75880981939207,29.858080562198815,18.726177420808728,19.274422775929352,16.03876846736102,27.652342643609252,30.73172601733454,21.45457746736434,20.340332707176596,18.4358661130873,33.78115784869036,22.861740701707266,30.388744742815483,29.237813432066204,27.18691364412168,25.73777940614985,25.701192555218647,28.259594143288385,31.247986895539483,25.575665524062693,21.017905715098827,28.625866996113487,23.84629975983626,24.48205731046401,25.49778810229535,12.322464107277822,16.003649934156478,19.47673223673293,4.993944653746645,11.847373547205187,14.063814018193392,13.190929194829831,13.992418721549873,14.032883880561116,13.612529188452443,10.31988563844975,14.426337737451561,7.530017806916706,14.158276111659573,11.568408791557152,16.353397833122216,16.917082926166984,15.502649635315844,11.744947860497053,8.059165568683937,8.129743805665939,15.084257055063008,14.977402687177506,19.436573487671964,13.487023580154423,23.88582998279204,8.280621206851674,14.06792266059975,17.891749344945996,20.227098347102384,17.28963895156939,14.07692130497788,7.590408056306178,9.36063715604907,12.050727178228318,19.016800556946986,12.88178635210278,14.26776808046243,29.59019201886845,18.406316199800052,14.483308407507508,15.409375139723148,13.795965619089284,18.989443934289646,13.689996643827143,23.303679047636706,19.06618132910308,10.932871598110856,3.6281474487683134,13.119437336524593,15.905017469767081,16.12960747543153,19.848492547328448,11.790355292092727,20.998206730754085,24.99970604335457,12.716466575606349,21.272363227683506,9.324901989081978,27.000196787095014,13.966163566611126,14.695830465785255,17.316994271591962,21.516835911434455,11.331755723629204,22.692154066040878,8.544484753689414,16.520861195172397,20.148368480734163,14.329316150510833,14.779111813537995,13.652146843929744,16.96939825193934,14.473779348069842,14.892808024190746,24.04900273842307,11.42983447869025,16.528700505116333,9.48679509445232,24.24599482839123,17.70180692173012,5.672822081754003,15.343120015164708,19.233948606518055,16.144594111435136,12.398396453963057,11.037484617331273,16.342431123211085,17.166750913986714,9.455495082869561,15.126240481099014,10.319004991101327,-2.1943825546260616,-6.692503831601306,2.2320961275584845,0.8390200707511826,-1.3316784804832107,-4.147802505945307,3.3389165114538866,1.337828398038417,-7.2229424238670585,-1.4802961321296968,14.274325175023383,1.3099250818434358,-9.274683347457186,-7.71724901712279,2.486619833903164,-6.528979769949029,9.461873762448409,-6.1912389081856265,7.117933687845294,-0.0004502800894244694,0.6058817976614647,0.19232294907440106,-1.0122359450736829,1.567297996528788,-2.3307280537389925,-5.0114953655575745,1.2204877410192374,4.071396073179191,2.6973825015012167,3.202290138071569,1.763061899652203],\"type\":\"scatter\"},{\"hoverinfo\":\"y\",\"line\":{\"color\":\"yellow\",\"width\":2},\"mode\":\"lines\",\"name\":\"Rolling Mean (30 days)\",\"x\":[\"2014-01-01T00:00:00\",\"2014-01-02T00:00:00\",\"2014-01-03T00:00:00\",\"2014-01-04T00:00:00\",\"2014-01-05T00:00:00\",\"2014-01-06T00:00:00\",\"2014-01-07T00:00:00\",\"2014-01-08T00:00:00\",\"2014-01-09T00:00:00\",\"2014-01-10T00:00:00\",\"2014-01-11T00:00:00\",\"2014-01-12T00:00:00\",\"2014-01-13T00:00:00\",\"2014-01-14T00:00:00\",\"2014-01-15T00:00:00\",\"2014-01-16T00:00:00\",\"2014-01-17T00:00:00\",\"2014-01-18T00:00:00\",\"2014-01-19T00:00:00\",\"2014-01-20T00:00:00\",\"2014-01-21T00:00:00\",\"2014-01-22T00:00:00\",\"2014-01-23T00:00:00\",\"2014-01-24T00:00:00\",\"2014-01-25T00:00:00\",\"2014-01-26T00:00:00\",\"2014-01-27T00:00:00\",\"2014-01-28T00:00:00\",\"2014-01-29T00:00:00\",\"2014-01-30T00:00:00\",\"2014-01-31T00:00:00\",\"2014-02-01T00:00:00\",\"2014-02-02T00:00:00\",\"2014-02-03T00:00:00\",\"2014-02-04T00:00:00\",\"2014-02-05T00:00:00\",\"2014-02-06T00:00:00\",\"2014-02-07T00:00:00\",\"2014-02-08T00:00:00\",\"2014-02-09T00:00:00\",\"2014-02-10T00:00:00\",\"2014-02-11T00:00:00\",\"2014-02-12T00:00:00\",\"2014-02-13T00:00:00\",\"2014-02-14T00:00:00\",\"2014-02-15T00:00:00\",\"2014-02-16T00:00:00\",\"2014-02-17T00:00:00\",\"2014-02-18T00:00:00\",\"2014-02-19T00:00:00\",\"2014-02-20T00:00:00\",\"2014-02-21T00:00:00\",\"2014-02-22T00:00:00\",\"2014-02-23T00:00:00\",\"2014-02-24T00:00:00\",\"2014-02-25T00:00:00\",\"2014-02-26T00:00:00\",\"2014-02-27T00:00:00\",\"2014-02-28T00:00:00\",\"2014-03-01T00:00:00\",\"2014-03-02T00:00:00\",\"2014-03-03T00:00:00\",\"2014-03-04T00:00:00\",\"2014-03-05T00:00:00\",\"2014-03-06T00:00:00\",\"2014-03-07T00:00:00\",\"2014-03-08T00:00:00\",\"2014-03-09T00:00:00\",\"2014-03-10T00:00:00\",\"2014-03-11T00:00:00\",\"2014-03-12T00:00:00\",\"2014-03-13T00:00:00\",\"2014-03-14T00:00:00\",\"2014-03-15T00:00:00\",\"2014-03-16T00:00:00\",\"2014-03-17T00:00:00\",\"2014-03-18T00:00:00\",\"2014-03-19T00:00:00\",\"2014-03-20T00:00:00\",\"2014-03-21T00:00:00\",\"2014-03-22T00:00:00\",\"2014-03-23T00:00:00\",\"2014-03-24T00:00:00\",\"2014-03-25T00:00:00\",\"2014-03-26T00:00:00\",\"2014-03-27T00:00:00\",\"2014-03-28T00:00:00\",\"2014-03-29T00:00:00\",\"2014-03-30T00:00:00\",\"2014-03-31T00:00:00\",\"2014-04-01T00:00:00\",\"2014-04-02T00:00:00\",\"2014-04-03T00:00:00\",\"2014-04-04T00:00:00\",\"2014-04-05T00:00:00\",\"2014-04-06T00:00:00\",\"2014-04-07T00:00:00\",\"2014-04-08T00:00:00\",\"2014-04-09T00:00:00\",\"2014-04-10T00:00:00\",\"2014-04-11T00:00:00\",\"2014-04-12T00:00:00\",\"2014-04-13T00:00:00\",\"2014-04-14T00:00:00\",\"2014-04-15T00:00:00\",\"2014-04-16T00:00:00\",\"2014-04-17T00:00:00\",\"2014-04-18T00:00:00\",\"2014-04-19T00:00:00\",\"2014-04-20T00:00:00\",\"2014-04-21T00:00:00\",\"2014-04-22T00:00:00\",\"2014-04-23T00:00:00\",\"2014-04-24T00:00:00\",\"2014-04-25T00:00:00\",\"2014-04-26T00:00:00\",\"2014-04-27T00:00:00\",\"2014-04-28T00:00:00\",\"2014-04-29T00:00:00\",\"2014-04-30T00:00:00\",\"2014-05-01T00:00:00\",\"2014-05-02T00:00:00\",\"2014-05-03T00:00:00\",\"2014-05-04T00:00:00\",\"2014-05-05T00:00:00\",\"2014-05-06T00:00:00\",\"2014-05-07T00:00:00\",\"2014-05-08T00:00:00\",\"2014-05-09T00:00:00\",\"2014-05-10T00:00:00\",\"2014-05-11T00:00:00\",\"2014-05-12T00:00:00\",\"2014-05-13T00:00:00\",\"2014-05-14T00:00:00\",\"2014-05-15T00:00:00\",\"2014-05-16T00:00:00\",\"2014-05-17T00:00:00\",\"2014-05-18T00:00:00\",\"2014-05-19T00:00:00\",\"2014-05-20T00:00:00\",\"2014-05-21T00:00:00\",\"2014-05-22T00:00:00\",\"2014-05-23T00:00:00\",\"2014-05-24T00:00:00\",\"2014-05-25T00:00:00\",\"2014-05-26T00:00:00\",\"2014-05-27T00:00:00\",\"2014-05-28T00:00:00\",\"2014-05-29T00:00:00\",\"2014-05-30T00:00:00\",\"2014-05-31T00:00:00\",\"2014-06-01T00:00:00\",\"2014-06-02T00:00:00\",\"2014-06-03T00:00:00\",\"2014-06-04T00:00:00\",\"2014-06-05T00:00:00\",\"2014-06-06T00:00:00\",\"2014-06-07T00:00:00\",\"2014-06-08T00:00:00\",\"2014-06-09T00:00:00\",\"2014-06-10T00:00:00\",\"2014-06-11T00:00:00\",\"2014-06-12T00:00:00\",\"2014-06-13T00:00:00\",\"2014-06-14T00:00:00\",\"2014-06-15T00:00:00\",\"2014-06-16T00:00:00\",\"2014-06-17T00:00:00\",\"2014-06-18T00:00:00\",\"2014-06-19T00:00:00\",\"2014-06-20T00:00:00\",\"2014-06-21T00:00:00\",\"2014-06-22T00:00:00\",\"2014-06-23T00:00:00\",\"2014-06-24T00:00:00\",\"2014-06-25T00:00:00\",\"2014-06-26T00:00:00\",\"2014-06-27T00:00:00\",\"2014-06-28T00:00:00\",\"2014-06-29T00:00:00\",\"2014-06-30T00:00:00\",\"2014-07-01T00:00:00\",\"2014-07-02T00:00:00\",\"2014-07-03T00:00:00\",\"2014-07-04T00:00:00\",\"2014-07-05T00:00:00\",\"2014-07-06T00:00:00\",\"2014-07-07T00:00:00\",\"2014-07-08T00:00:00\",\"2014-07-09T00:00:00\",\"2014-07-10T00:00:00\",\"2014-07-11T00:00:00\",\"2014-07-12T00:00:00\",\"2014-07-13T00:00:00\",\"2014-07-14T00:00:00\",\"2014-07-15T00:00:00\",\"2014-07-16T00:00:00\",\"2014-07-17T00:00:00\",\"2014-07-18T00:00:00\",\"2014-07-19T00:00:00\",\"2014-07-20T00:00:00\",\"2014-07-21T00:00:00\",\"2014-07-22T00:00:00\",\"2014-07-23T00:00:00\",\"2014-07-24T00:00:00\",\"2014-07-25T00:00:00\",\"2014-07-26T00:00:00\",\"2014-07-27T00:00:00\",\"2014-07-28T00:00:00\",\"2014-07-29T00:00:00\",\"2014-07-30T00:00:00\",\"2014-07-31T00:00:00\",\"2014-08-01T00:00:00\",\"2014-08-02T00:00:00\",\"2014-08-03T00:00:00\",\"2014-08-04T00:00:00\",\"2014-08-05T00:00:00\",\"2014-08-06T00:00:00\",\"2014-08-07T00:00:00\",\"2014-08-08T00:00:00\",\"2014-08-09T00:00:00\",\"2014-08-10T00:00:00\",\"2014-08-11T00:00:00\",\"2014-08-12T00:00:00\",\"2014-08-13T00:00:00\",\"2014-08-14T00:00:00\",\"2014-08-15T00:00:00\",\"2014-08-16T00:00:00\",\"2014-08-17T00:00:00\",\"2014-08-18T00:00:00\",\"2014-08-19T00:00:00\",\"2014-08-20T00:00:00\",\"2014-08-21T00:00:00\",\"2014-08-22T00:00:00\",\"2014-08-23T00:00:00\",\"2014-08-24T00:00:00\",\"2014-08-25T00:00:00\",\"2014-08-26T00:00:00\",\"2014-08-27T00:00:00\",\"2014-08-28T00:00:00\",\"2014-08-29T00:00:00\",\"2014-08-30T00:00:00\",\"2014-08-31T00:00:00\",\"2014-09-01T00:00:00\",\"2014-09-02T00:00:00\",\"2014-09-03T00:00:00\",\"2014-09-04T00:00:00\",\"2014-09-05T00:00:00\",\"2014-09-06T00:00:00\",\"2014-09-07T00:00:00\",\"2014-09-08T00:00:00\",\"2014-09-09T00:00:00\",\"2014-09-10T00:00:00\",\"2014-09-11T00:00:00\",\"2014-09-12T00:00:00\",\"2014-09-13T00:00:00\",\"2014-09-14T00:00:00\",\"2014-09-15T00:00:00\",\"2014-09-16T00:00:00\",\"2014-09-17T00:00:00\",\"2014-09-18T00:00:00\",\"2014-09-19T00:00:00\",\"2014-09-20T00:00:00\",\"2014-09-21T00:00:00\",\"2014-09-22T00:00:00\",\"2014-09-23T00:00:00\",\"2014-09-24T00:00:00\",\"2014-09-25T00:00:00\",\"2014-09-26T00:00:00\",\"2014-09-27T00:00:00\",\"2014-09-28T00:00:00\",\"2014-09-29T00:00:00\",\"2014-09-30T00:00:00\",\"2014-10-01T00:00:00\",\"2014-10-02T00:00:00\",\"2014-10-03T00:00:00\",\"2014-10-04T00:00:00\",\"2014-10-05T00:00:00\",\"2014-10-06T00:00:00\",\"2014-10-07T00:00:00\",\"2014-10-08T00:00:00\",\"2014-10-09T00:00:00\",\"2014-10-10T00:00:00\",\"2014-10-11T00:00:00\",\"2014-10-12T00:00:00\",\"2014-10-13T00:00:00\",\"2014-10-14T00:00:00\",\"2014-10-15T00:00:00\",\"2014-10-16T00:00:00\",\"2014-10-17T00:00:00\",\"2014-10-18T00:00:00\",\"2014-10-19T00:00:00\",\"2014-10-20T00:00:00\",\"2014-10-21T00:00:00\",\"2014-10-22T00:00:00\",\"2014-10-23T00:00:00\",\"2014-10-24T00:00:00\",\"2014-10-25T00:00:00\",\"2014-10-26T00:00:00\",\"2014-10-27T00:00:00\",\"2014-10-28T00:00:00\",\"2014-10-29T00:00:00\",\"2014-10-30T00:00:00\",\"2014-10-31T00:00:00\",\"2014-11-01T00:00:00\",\"2014-11-02T00:00:00\",\"2014-11-03T00:00:00\",\"2014-11-04T00:00:00\",\"2014-11-05T00:00:00\",\"2014-11-06T00:00:00\",\"2014-11-07T00:00:00\",\"2014-11-08T00:00:00\",\"2014-11-09T00:00:00\",\"2014-11-10T00:00:00\",\"2014-11-11T00:00:00\",\"2014-11-12T00:00:00\",\"2014-11-13T00:00:00\",\"2014-11-14T00:00:00\",\"2014-11-15T00:00:00\",\"2014-11-16T00:00:00\",\"2014-11-17T00:00:00\",\"2014-11-18T00:00:00\",\"2014-11-19T00:00:00\",\"2014-11-20T00:00:00\",\"2014-11-21T00:00:00\",\"2014-11-22T00:00:00\",\"2014-11-23T00:00:00\",\"2014-11-24T00:00:00\",\"2014-11-25T00:00:00\",\"2014-11-26T00:00:00\",\"2014-11-27T00:00:00\",\"2014-11-28T00:00:00\",\"2014-11-29T00:00:00\",\"2014-11-30T00:00:00\",\"2014-12-01T00:00:00\",\"2014-12-02T00:00:00\",\"2014-12-03T00:00:00\",\"2014-12-04T00:00:00\",\"2014-12-05T00:00:00\",\"2014-12-06T00:00:00\",\"2014-12-07T00:00:00\",\"2014-12-08T00:00:00\",\"2014-12-09T00:00:00\",\"2014-12-10T00:00:00\",\"2014-12-11T00:00:00\",\"2014-12-12T00:00:00\",\"2014-12-13T00:00:00\",\"2014-12-14T00:00:00\",\"2014-12-15T00:00:00\",\"2014-12-16T00:00:00\",\"2014-12-17T00:00:00\",\"2014-12-18T00:00:00\",\"2014-12-19T00:00:00\",\"2014-12-20T00:00:00\",\"2014-12-21T00:00:00\",\"2014-12-22T00:00:00\",\"2014-12-23T00:00:00\",\"2014-12-24T00:00:00\",\"2014-12-25T00:00:00\",\"2014-12-26T00:00:00\",\"2014-12-27T00:00:00\",\"2014-12-28T00:00:00\",\"2014-12-29T00:00:00\",\"2014-12-30T00:00:00\",\"2014-12-31T00:00:00\",\"2015-01-01T00:00:00\",\"2015-01-02T00:00:00\",\"2015-01-03T00:00:00\",\"2015-01-04T00:00:00\",\"2015-01-05T00:00:00\",\"2015-01-06T00:00:00\",\"2015-01-07T00:00:00\",\"2015-01-08T00:00:00\",\"2015-01-09T00:00:00\",\"2015-01-10T00:00:00\",\"2015-01-11T00:00:00\",\"2015-01-12T00:00:00\",\"2015-01-13T00:00:00\",\"2015-01-14T00:00:00\",\"2015-01-15T00:00:00\",\"2015-01-16T00:00:00\",\"2015-01-17T00:00:00\",\"2015-01-18T00:00:00\",\"2015-01-19T00:00:00\",\"2015-01-20T00:00:00\",\"2015-01-21T00:00:00\",\"2015-01-22T00:00:00\",\"2015-01-23T00:00:00\",\"2015-01-24T00:00:00\",\"2015-01-25T00:00:00\",\"2015-01-26T00:00:00\",\"2015-01-27T00:00:00\",\"2015-01-28T00:00:00\",\"2015-01-29T00:00:00\",\"2015-01-30T00:00:00\",\"2015-01-31T00:00:00\",\"2015-02-01T00:00:00\",\"2015-02-02T00:00:00\",\"2015-02-03T00:00:00\",\"2015-02-04T00:00:00\",\"2015-02-05T00:00:00\",\"2015-02-06T00:00:00\",\"2015-02-07T00:00:00\",\"2015-02-08T00:00:00\",\"2015-02-09T00:00:00\",\"2015-02-10T00:00:00\",\"2015-02-11T00:00:00\",\"2015-02-12T00:00:00\",\"2015-02-13T00:00:00\",\"2015-02-14T00:00:00\",\"2015-02-15T00:00:00\",\"2015-02-16T00:00:00\",\"2015-02-17T00:00:00\",\"2015-02-18T00:00:00\",\"2015-02-19T00:00:00\",\"2015-02-20T00:00:00\",\"2015-02-21T00:00:00\",\"2015-02-22T00:00:00\",\"2015-02-23T00:00:00\",\"2015-02-24T00:00:00\",\"2015-02-25T00:00:00\",\"2015-02-26T00:00:00\",\"2015-02-27T00:00:00\",\"2015-02-28T00:00:00\",\"2015-03-01T00:00:00\",\"2015-03-02T00:00:00\",\"2015-03-03T00:00:00\",\"2015-03-04T00:00:00\",\"2015-03-05T00:00:00\",\"2015-03-06T00:00:00\",\"2015-03-07T00:00:00\",\"2015-03-08T00:00:00\",\"2015-03-09T00:00:00\",\"2015-03-10T00:00:00\",\"2015-03-11T00:00:00\",\"2015-03-12T00:00:00\",\"2015-03-13T00:00:00\",\"2015-03-14T00:00:00\",\"2015-03-15T00:00:00\",\"2015-03-16T00:00:00\",\"2015-03-17T00:00:00\",\"2015-03-18T00:00:00\",\"2015-03-19T00:00:00\",\"2015-03-20T00:00:00\",\"2015-03-21T00:00:00\",\"2015-03-22T00:00:00\",\"2015-03-23T00:00:00\",\"2015-03-24T00:00:00\",\"2015-03-25T00:00:00\",\"2015-03-26T00:00:00\",\"2015-03-27T00:00:00\",\"2015-03-28T00:00:00\",\"2015-03-29T00:00:00\",\"2015-03-30T00:00:00\",\"2015-03-31T00:00:00\",\"2015-04-01T00:00:00\",\"2015-04-02T00:00:00\",\"2015-04-03T00:00:00\",\"2015-04-04T00:00:00\",\"2015-04-05T00:00:00\",\"2015-04-06T00:00:00\",\"2015-04-07T00:00:00\",\"2015-04-08T00:00:00\",\"2015-04-09T00:00:00\",\"2015-04-10T00:00:00\",\"2015-04-11T00:00:00\",\"2015-04-12T00:00:00\",\"2015-04-13T00:00:00\",\"2015-04-14T00:00:00\",\"2015-04-15T00:00:00\",\"2015-04-16T00:00:00\",\"2015-04-17T00:00:00\",\"2015-04-18T00:00:00\",\"2015-04-19T00:00:00\",\"2015-04-20T00:00:00\",\"2015-04-21T00:00:00\",\"2015-04-22T00:00:00\",\"2015-04-23T00:00:00\",\"2015-04-24T00:00:00\",\"2015-04-25T00:00:00\",\"2015-04-26T00:00:00\",\"2015-04-27T00:00:00\",\"2015-04-28T00:00:00\",\"2015-04-29T00:00:00\",\"2015-04-30T00:00:00\",\"2015-05-01T00:00:00\",\"2015-05-02T00:00:00\",\"2015-05-03T00:00:00\",\"2015-05-04T00:00:00\",\"2015-05-05T00:00:00\",\"2015-05-06T00:00:00\",\"2015-05-07T00:00:00\",\"2015-05-08T00:00:00\",\"2015-05-09T00:00:00\",\"2015-05-10T00:00:00\",\"2015-05-11T00:00:00\",\"2015-05-12T00:00:00\",\"2015-05-13T00:00:00\",\"2015-05-14T00:00:00\",\"2015-05-15T00:00:00\",\"2015-05-16T00:00:00\",\"2015-05-17T00:00:00\",\"2015-05-18T00:00:00\",\"2015-05-19T00:00:00\",\"2015-05-20T00:00:00\",\"2015-05-21T00:00:00\",\"2015-05-22T00:00:00\",\"2015-05-23T00:00:00\",\"2015-05-24T00:00:00\",\"2015-05-25T00:00:00\",\"2015-05-26T00:00:00\",\"2015-05-27T00:00:00\",\"2015-05-28T00:00:00\",\"2015-05-29T00:00:00\",\"2015-05-30T00:00:00\",\"2015-05-31T00:00:00\",\"2015-06-01T00:00:00\",\"2015-06-02T00:00:00\",\"2015-06-03T00:00:00\",\"2015-06-04T00:00:00\",\"2015-06-05T00:00:00\",\"2015-06-06T00:00:00\",\"2015-06-07T00:00:00\",\"2015-06-08T00:00:00\",\"2015-06-09T00:00:00\",\"2015-06-10T00:00:00\",\"2015-06-11T00:00:00\",\"2015-06-12T00:00:00\",\"2015-06-13T00:00:00\",\"2015-06-14T00:00:00\",\"2015-06-15T00:00:00\",\"2015-06-16T00:00:00\",\"2015-06-17T00:00:00\",\"2015-06-18T00:00:00\",\"2015-06-19T00:00:00\",\"2015-06-20T00:00:00\",\"2015-06-21T00:00:00\",\"2015-06-22T00:00:00\",\"2015-06-23T00:00:00\",\"2015-06-24T00:00:00\",\"2015-06-25T00:00:00\",\"2015-06-26T00:00:00\",\"2015-06-27T00:00:00\",\"2015-06-28T00:00:00\",\"2015-06-29T00:00:00\",\"2015-06-30T00:00:00\",\"2015-07-01T00:00:00\",\"2015-07-02T00:00:00\",\"2015-07-03T00:00:00\",\"2015-07-04T00:00:00\",\"2015-07-05T00:00:00\",\"2015-07-06T00:00:00\",\"2015-07-07T00:00:00\",\"2015-07-08T00:00:00\",\"2015-07-09T00:00:00\",\"2015-07-10T00:00:00\",\"2015-07-11T00:00:00\",\"2015-07-12T00:00:00\",\"2015-07-13T00:00:00\",\"2015-07-14T00:00:00\",\"2015-07-15T00:00:00\",\"2015-07-16T00:00:00\",\"2015-07-17T00:00:00\",\"2015-07-18T00:00:00\",\"2015-07-19T00:00:00\",\"2015-07-20T00:00:00\",\"2015-07-21T00:00:00\",\"2015-07-22T00:00:00\",\"2015-07-23T00:00:00\",\"2015-07-24T00:00:00\",\"2015-07-25T00:00:00\",\"2015-07-26T00:00:00\",\"2015-07-27T00:00:00\",\"2015-07-28T00:00:00\",\"2015-07-29T00:00:00\",\"2015-07-30T00:00:00\",\"2015-07-31T00:00:00\",\"2015-08-01T00:00:00\",\"2015-08-02T00:00:00\",\"2015-08-03T00:00:00\",\"2015-08-04T00:00:00\",\"2015-08-05T00:00:00\",\"2015-08-06T00:00:00\",\"2015-08-07T00:00:00\",\"2015-08-08T00:00:00\",\"2015-08-09T00:00:00\",\"2015-08-10T00:00:00\",\"2015-08-11T00:00:00\",\"2015-08-12T00:00:00\",\"2015-08-13T00:00:00\",\"2015-08-14T00:00:00\",\"2015-08-15T00:00:00\",\"2015-08-16T00:00:00\",\"2015-08-17T00:00:00\",\"2015-08-18T00:00:00\",\"2015-08-19T00:00:00\",\"2015-08-20T00:00:00\",\"2015-08-21T00:00:00\",\"2015-08-22T00:00:00\",\"2015-08-23T00:00:00\",\"2015-08-24T00:00:00\",\"2015-08-25T00:00:00\",\"2015-08-26T00:00:00\",\"2015-08-27T00:00:00\",\"2015-08-28T00:00:00\",\"2015-08-29T00:00:00\",\"2015-08-30T00:00:00\",\"2015-08-31T00:00:00\",\"2015-09-01T00:00:00\",\"2015-09-02T00:00:00\",\"2015-09-03T00:00:00\",\"2015-09-04T00:00:00\",\"2015-09-05T00:00:00\",\"2015-09-06T00:00:00\",\"2015-09-07T00:00:00\",\"2015-09-08T00:00:00\",\"2015-09-09T00:00:00\",\"2015-09-10T00:00:00\",\"2015-09-11T00:00:00\",\"2015-09-12T00:00:00\",\"2015-09-13T00:00:00\",\"2015-09-14T00:00:00\",\"2015-09-15T00:00:00\",\"2015-09-16T00:00:00\",\"2015-09-17T00:00:00\",\"2015-09-18T00:00:00\",\"2015-09-19T00:00:00\",\"2015-09-20T00:00:00\",\"2015-09-21T00:00:00\",\"2015-09-22T00:00:00\",\"2015-09-23T00:00:00\",\"2015-09-24T00:00:00\",\"2015-09-25T00:00:00\",\"2015-09-26T00:00:00\",\"2015-09-27T00:00:00\",\"2015-09-28T00:00:00\",\"2015-09-29T00:00:00\",\"2015-09-30T00:00:00\",\"2015-10-01T00:00:00\",\"2015-10-02T00:00:00\",\"2015-10-03T00:00:00\",\"2015-10-04T00:00:00\",\"2015-10-05T00:00:00\",\"2015-10-06T00:00:00\",\"2015-10-07T00:00:00\",\"2015-10-08T00:00:00\",\"2015-10-09T00:00:00\",\"2015-10-10T00:00:00\",\"2015-10-11T00:00:00\",\"2015-10-12T00:00:00\",\"2015-10-13T00:00:00\",\"2015-10-14T00:00:00\",\"2015-10-15T00:00:00\",\"2015-10-16T00:00:00\",\"2015-10-17T00:00:00\",\"2015-10-18T00:00:00\",\"2015-10-19T00:00:00\",\"2015-10-20T00:00:00\",\"2015-10-21T00:00:00\",\"2015-10-22T00:00:00\",\"2015-10-23T00:00:00\",\"2015-10-24T00:00:00\",\"2015-10-25T00:00:00\",\"2015-10-26T00:00:00\",\"2015-10-27T00:00:00\",\"2015-10-28T00:00:00\",\"2015-10-29T00:00:00\",\"2015-10-30T00:00:00\",\"2015-10-31T00:00:00\",\"2015-11-01T00:00:00\",\"2015-11-02T00:00:00\",\"2015-11-03T00:00:00\",\"2015-11-04T00:00:00\",\"2015-11-05T00:00:00\",\"2015-11-06T00:00:00\",\"2015-11-07T00:00:00\",\"2015-11-08T00:00:00\",\"2015-11-09T00:00:00\",\"2015-11-10T00:00:00\",\"2015-11-11T00:00:00\",\"2015-11-12T00:00:00\",\"2015-11-13T00:00:00\",\"2015-11-14T00:00:00\",\"2015-11-15T00:00:00\",\"2015-11-16T00:00:00\",\"2015-11-17T00:00:00\",\"2015-11-18T00:00:00\",\"2015-11-19T00:00:00\",\"2015-11-20T00:00:00\",\"2015-11-21T00:00:00\",\"2015-11-22T00:00:00\",\"2015-11-23T00:00:00\",\"2015-11-24T00:00:00\",\"2015-11-25T00:00:00\",\"2015-11-26T00:00:00\",\"2015-11-27T00:00:00\",\"2015-11-28T00:00:00\",\"2015-11-29T00:00:00\",\"2015-11-30T00:00:00\",\"2015-12-01T00:00:00\",\"2015-12-02T00:00:00\",\"2015-12-03T00:00:00\",\"2015-12-04T00:00:00\",\"2015-12-05T00:00:00\",\"2015-12-06T00:00:00\",\"2015-12-07T00:00:00\",\"2015-12-08T00:00:00\",\"2015-12-09T00:00:00\",\"2015-12-10T00:00:00\",\"2015-12-11T00:00:00\",\"2015-12-12T00:00:00\",\"2015-12-13T00:00:00\",\"2015-12-14T00:00:00\",\"2015-12-15T00:00:00\",\"2015-12-16T00:00:00\",\"2015-12-17T00:00:00\",\"2015-12-18T00:00:00\",\"2015-12-19T00:00:00\",\"2015-12-20T00:00:00\",\"2015-12-21T00:00:00\",\"2015-12-22T00:00:00\",\"2015-12-23T00:00:00\",\"2015-12-24T00:00:00\",\"2015-12-25T00:00:00\",\"2015-12-26T00:00:00\",\"2015-12-27T00:00:00\",\"2015-12-28T00:00:00\",\"2015-12-29T00:00:00\",\"2015-12-30T00:00:00\",\"2015-12-31T00:00:00\",\"2016-01-01T00:00:00\"],\"y\":[-0.32897883197007105,-0.2385413348535712,-0.3452230942529681,-0.5215715895650047,-0.8848027944236712,-0.7876496864949775,-0.7503326176299148,-0.4572163821270128,-0.4578333417644942,-0.45373397741663785,-0.5394832531373707,-0.2663697914231709,-0.24020305764050823,-0.6524655108877272,-0.329211375167598,-0.28968290804854885,-0.07760620573313162,-0.08373880250547874,-0.18547087061565384,0.08819383701491333,0.06087051955617283,0.12552026465367583,-0.18382269545728802,-0.6578978849944996,-0.6327473968974712,-0.6159156874624095,-0.36858936953718563,-0.47753492658868724,-0.44349210321653537,-0.49182474274325033,-0.3258270706617118,-0.668587013609649,-0.6289257983210371,-0.4925671503685668,-0.48786102228936057,-0.6070683815205565,-0.6155977265818612,-0.9557580075088868,-1.090588398332883,-1.0434994390023336,-1.2582447901118727,-1.5945006064375715,-1.3857024369735484,-1.2181759621346193,-0.9797429637509113,-0.8139394991172105,-1.0053146718637993,-1.1991484729077209,-0.921339724307698,-1.1047459058001223,-1.134644469616434,-1.185397003522223,-1.11075604458048,-0.9632126462449908,-1.2073187674401518,-1.3864627800535767,-1.290160550710076,-0.9995156343580968,-1.1196429608590173,-0.702186131890779,-0.5722139276544375,-0.23019190662410657,0.352992633281038,0.5350990734222744,1.017278627727128,1.5133162641438092,2.0260396094715643,2.2304174150373095,2.760354782244058,2.8431196642503513,3.4895689947886397,4.023625529506085,4.058129879016838,4.350131631573078,4.345904768069816,4.695019113983885,5.124909277600809,5.635640614457433,5.5606388086194185,6.152579858612972,5.960940294941432,6.437626245400667,6.781632080291076,7.01687598050358,7.675349736827146,8.113378960095048,7.994146011633478,8.54008142168044,8.891602100471408,8.528347089079045,8.599836959572785,8.63778258522845,8.615270591751148,8.683138912784377,8.576182898720187,8.655936743233072,8.536830499618317,8.819404416893104,8.674690267918193,8.83680040146216,8.491751577372424,8.428204884458415,8.50824798333896,8.237632785140061,8.243723362114364,8.087399346795504,8.012978875513243,8.156219436539377,8.621277019276578,8.540601852067201,9.062621982505272,8.760678444935625,9.072672883618681,9.378102336898047,9.218352881255424,9.24628201254311,9.13289268652956,8.812022263272826,9.033465511046929,9.334992637995303,9.345626710275958,9.414436164637367,9.108269653307053,9.406107518511304,9.45613229569607,9.455379634586405,9.799279155783024,9.435827875176804,9.697971794221587,9.751049334631068,10.134038156417233,10.168543748028311,9.969908175706964,10.214565444226919,10.501863366184939,10.810665741493741,10.979369068741645,11.05601387234102,10.916935460894358,10.756470850272093,10.920222181033122,10.947028897461248,10.912598851726749,10.81997286344112,11.168148369254286,11.656996072011019,11.976849903847327,12.170538607097756,12.22245215805816,11.857744944382706,11.99498303280296,12.671240316178816,13.470330450928708,13.799279623692113,14.305468397911008,15.123841623305513,15.581990941622236,16.29332364921998,16.710004119036714,17.217751474505423,17.53640460306414,17.958437650182123,18.835862874095596,19.41815498785924,19.99717739120364,20.38867610563081,20.78057413497669,21.19014711081635,21.677844061690696,22.415873067600252,22.72643161034155,23.42457136459972,23.671921476368798,24.116931171395343,24.610996005742717,24.91131347255074,25.206581210077065,25.759525791745908,26.272148123090226,26.956521875369848,27.403803158755903,27.239440759110874,26.9203532693187,26.570722018802478,26.58045092541147,26.406812774155103,25.914156344401537,25.937324303353435,25.728941694690985,25.773893477966556,25.920072009340245,26.18726582390157,26.129703866463835,26.511735517723753,26.23106946363224,25.98370691826796,25.611658168429365,25.34102264086184,25.276594687332423,25.12392262582875,25.18187869440512,25.005300662942577,25.096685466950298,25.204035797357925,25.409079009626684,25.04598775318004,25.35811904215531,25.051752644793275,24.924736808709152,24.904937621291317,24.74995572963128,24.967069477293084,25.12320432194293,25.57803577071467,25.444076735037537,25.38406963857337,25.465685126467953,25.317013587099257,25.393375423570582,25.253865046938596,24.911315185132693,24.581674427434223,24.48601334034941,24.31101406636923,24.312317787298603,24.435625393036712,24.738869895909055,25.019706146535636,25.009309909827245,24.79451970707392,24.599288113930196,24.772324170955432,25.05597122448696,24.824926780482112,24.22675317372038,24.364310822530165,24.197603789765967,24.644276563890234,24.692080934651177,24.685393055412824,24.682655881326703,24.800498835977944,25.005290152878857,24.290290808956286,24.03556733473399,23.457026165555952,23.238683330410264,23.146651858148882,23.038453301350955,23.17699743738975,22.96207658736815,22.451816963908577,22.046661648516924,21.558748486047843,21.26660155444667,20.558728113565074,20.028912828949032,19.580222184689287,19.410995219366793,19.169981533572585,18.756789330921695,18.264610599786195,17.79605138881156,17.374813016564666,16.972783234885167,16.772484669671595,16.384452656629552,15.971744120631083,15.777986432165724,15.815412781197857,15.388708880657637,15.14902611699202,14.56449014311634,14.828521400669937,14.616831466497434,14.869088033207756,14.613550466790327,14.382331892742968,14.301469654161014,14.147891160066042,14.304044820559476,14.387979338837683,14.498266680638556,14.248233343706406,14.03546379770672,14.113492695476554,14.341110845804057,14.517486408239177,14.415554211304054,14.22033772239663,14.624638171195084,14.864397804065126,14.695317291539595,15.313909267647157,15.522166543337637,15.20969814452059,15.189705886332579,14.951576324321017,14.80112973570537,14.79871412107113,14.91319130041243,14.532292233241925,14.394867565204192,14.249597163560857,14.443511413625574,14.191795774409524,14.485501103204344,14.548172182204603,14.353920014897914,14.358310722548127,14.339055802838024,14.426178614496344,14.443922579780578,14.910447903059687,15.131008739397975,15.425525160689928,15.623341672292645,15.408274449904674,15.385344589660939,15.506315353937588,15.389498046174346,15.229918925016829,15.215640289335854,14.81826673693145,14.935891379260827,15.021145748254437,15.008310994168715,15.007653901649435,14.940052909364056,14.676084831108138,14.915836601144868,14.845781910778378,15.21390737239972,15.266144208048594,14.599955040023852,14.221527349041539,14.21933233795682,13.743789274392762,13.324460030243625,12.801193129365,12.269507707983387,11.77416297974019,11.705978088689413,11.167733832864581,10.802488319406722,10.37389176332937,9.636768800730465,9.16399002072433,8.69984488588567,8.273066551370077,7.724365472758774,7.110537524670511,7.147330739238724,6.810246405844589,6.354430115382377,5.778556787117395,5.548182179163759,5.263060415646472,4.589649817727362,4.3812931677677,3.8315600835175734,3.0842859039456183,2.640553691510728,2.245820395687361,2.3011498809786044,2.547294235213653,1.9589474687749977,1.8743616606136169,1.9439963586726698,1.8952488495225575,2.0834848844702303,2.1844536517233255,1.752934526695539,1.632099514341941,1.3425291692525387,1.107745367301448,0.8963705802514711,0.8512274868416455,0.7667208397829391,0.7090805107774962,0.712715625189615,0.8002786439141503,0.5661434280411032,0.4305634259450025,0.06108649527308888,0.04847903420554142,-0.2534766934409912,-0.7380707547974246,-0.6773473701427529,-0.8167632796146439,-0.9700861489134619,-0.3506492238640456,-0.48023865898796536,-0.6535957075579558,-0.5884805971316623,-0.7884015206228755,-0.7404127122063182,-0.856355560850948,-1.0652478541661337,-0.9847076615407546,-0.8987108517228399,-1.016469338799894,-1.1850329753340783,-1.3670673181689714,-1.1545033856034275,-1.4894896348475488,-1.341656577756067,-0.9636210817124121,-1.2248455967052423,-0.7820754669905571,-0.896059724147851,-0.46006713989922443,-0.6759914156342686,-0.8137779584685755,-0.4580987901143386,-0.24295380924306859,-0.2741674597548058,0.15458848552162238,0.44322622379140714,0.2214420690709011,0.2314108853742879,0.08834252179450716,-0.1470878152208108,-0.22603277247808345,0.2785838911475526,0.4628773493809167,0.5133075199880266,0.8024084957691144,1.4441485598081067,1.3580426115658475,1.7187756985148674,1.8624637316979424,2.492191511556455,2.9070342229032673,3.212198486485188,4.1274295671973835,4.567897466313136,4.574494958980415,5.555317784445318,5.467013723565123,5.8980328204169075,5.710991488951008,6.031396220254184,6.150043485345939,6.291129117384794,6.709392040920353,7.167430104313191,7.17620635569476,7.332404393011476,8.034062500864579,8.354123973502876,8.49010788982799,8.706078423176402,8.93741161021918,8.69583989088039,8.600039866195072,9.079032365861488,9.41744306919047,9.433945753496253,9.810520369442635,9.320562806011655,9.915225670716747,9.796511422596003,9.838263604988787,9.78003258073002,9.600403226653947,9.739043563289094,9.551275304320159,9.54084833086059,9.619296040850006,9.629735491296428,9.756234397781675,10.056037005319718,9.88827600440422,10.075719329528788,10.022482895070981,10.024578986488612,10.007129149818374,10.081615929826887,9.871537287683703,9.75859757463245,9.838872547346478,10.043382302109555,10.40604473415049,10.493016150928213,10.97434996692855,10.8742102276896,10.742292028803337,10.441210267387214,10.08307919027271,10.271579322550846,9.952406118884172,10.000549256287284,9.843459264434525,9.935943859093664,9.912006985205704,9.643519873281816,9.666569438683553,9.044721565195475,9.22584075775583,9.093645711823832,9.107489984066692,8.969558497703998,9.292177331103307,9.215599619208517,9.041869990893792,9.02800036427094,8.937792180694583,8.902496098181087,8.767417954431547,8.858030963505886,8.738868510888894,8.707281152445013,8.459836620039972,8.513592350044554,8.22949956323917,8.581750850285351,9.296123153628555,10.138909225451272,10.715541237788301,11.527365154197438,12.11276774395684,12.36764052862735,13.101730903919,13.294752299690582,13.793468507916089,14.27762344629821,15.059862672237626,15.862108892523572,16.337346591747988,16.92590553269461,17.30520233858105,17.676464199398673,18.467319105225023,18.834598749502035,19.22313251094441,19.486667195412988,19.970211425779794,20.57288439478823,20.737444349329827,21.816676771370926,22.26687417416705,22.86257201134115,23.3098057279061,23.590236277549856,24.13006136057137,24.32220375142507,24.290981578738172,24.141258651132407,24.082681679117055,23.723213423575775,23.622379744671626,24.09686471556627,24.18916157616182,24.23958241640506,24.30180647439307,24.544105899537954,24.334707347179215,24.288931913104452,24.068816183909078,23.782270793219542,23.99315289796952,23.947260192062704,23.946543570215695,23.926643524439093,24.164374689090256,24.49067413649499,24.794542912683895,24.484177155529117,24.6401000965057,24.14930247892143,24.3926510228361,24.189367040572574,24.202366273753764,24.4310956352879,24.41079818186277,24.02800355427302,23.97872012651804,24.183914434214024,24.327807508406522,24.157025183110342,24.12718346312135,23.6574119695584,23.32992906120287,23.67435543638997,23.443984357812642,23.19448933885487,22.994066675842436,23.140430559190627,23.40404400295114,23.63185902089881,23.429837103518466,23.235994888949865,23.405628190871855,23.46621912893279,23.59331513077092,23.630539064463687,23.689908632499943,23.875998147159756,24.151241542075393,24.201918637092657,24.313093294331892,24.461099304065975,24.468208833621432,24.518070592028934,24.544593123442805,24.80377112363924,24.811372262480365,24.202348801680394,23.881878528068643,23.95414456500405,23.330788186881037,23.078792508361634,22.82229264832168,22.26672093607605,22.108928979434086,21.934211016255144,21.85333637362486,21.27558780678621,20.73207486412344,20.267922875441855,20.061854322257954,19.83293907820695,19.252013744354674,19.05385848517,18.557655314920012,17.97455979586771,17.33696819335312,16.750033673336986,16.396135823331797,15.953396108128102,15.55968232786585,15.156727596402243,15.252325071992015,14.574150212349956,14.248204309042073,14.028527376858138,13.852837718351706,14.018410213161426,13.954185925522138,13.557975119507914,13.703531536251326,13.710309990618764,13.875409541910551,13.865104780486316,13.874283092450069,14.392860030393647,14.552652930771899,14.69143368974049,14.724201603149544,14.933066530221964,15.094105457642966,15.164825052718633,15.396501093202449,15.468137706633652,15.315811772060153,15.04525175833586,15.213927483930549,15.47310327273392,15.507948286746204,15.670317948751237,15.415444008898596,15.665816780585251,15.702945982604001,15.850807494895825,16.090955513798615,15.805393935269816,16.03116388326957,15.920381370437628,15.941011675797874,16.265231216307402,16.670437841486912,16.64647212633361,16.76898390997007,16.62440719002296,16.699510293846625,16.384782842575483,16.24888284093251,16.258742954466857,16.20016867794041,16.305949765702078,16.15542761282809,16.195521325506874,16.220365448533084,15.965820553519325,16.15234818375284,16.347636438608973,16.718521688337862,16.77841467006996,16.42985515694738,16.27967607254192,16.527795849689433,16.3660087623788,15.945965109399083,15.889999044123247,15.725667973974165,15.987062938137656,15.402239547996809,15.44090877847974,15.295014595990272,14.644635368449674,13.704324043681815,13.401002057146123,12.672564257303133,12.343358816164047,11.654403359460122,11.094088293817448,10.661038702068367,9.927636894154864,9.423222128286218,9.333386359055684,8.894591216848138,8.08900817112654,7.030133112608344,6.73202595778211,5.96343661527993,5.962605904213134,4.948031446327238,4.595235671864411,4.406126593136296,3.914885319219522,3.2801644639714,2.7082701287544393,2.3472335135066302,1.9016264244709546,1.1898288748453327,0.6582867690797501,0.47881680209007116,0.0645215361034779,-0.17270229233084733,-0.04078747718823852],\"type\":\"scatter\"},{\"hoverinfo\":\"y\",\"line\":{\"color\":\"black\",\"width\":2},\"mode\":\"lines\",\"name\":\"Long-term Trend (365 days)\",\"x\":[\"2014-01-01T00:00:00\",\"2014-01-02T00:00:00\",\"2014-01-03T00:00:00\",\"2014-01-04T00:00:00\",\"2014-01-05T00:00:00\",\"2014-01-06T00:00:00\",\"2014-01-07T00:00:00\",\"2014-01-08T00:00:00\",\"2014-01-09T00:00:00\",\"2014-01-10T00:00:00\",\"2014-01-11T00:00:00\",\"2014-01-12T00:00:00\",\"2014-01-13T00:00:00\",\"2014-01-14T00:00:00\",\"2014-01-15T00:00:00\",\"2014-01-16T00:00:00\",\"2014-01-17T00:00:00\",\"2014-01-18T00:00:00\",\"2014-01-19T00:00:00\",\"2014-01-20T00:00:00\",\"2014-01-21T00:00:00\",\"2014-01-22T00:00:00\",\"2014-01-23T00:00:00\",\"2014-01-24T00:00:00\",\"2014-01-25T00:00:00\",\"2014-01-26T00:00:00\",\"2014-01-27T00:00:00\",\"2014-01-28T00:00:00\",\"2014-01-29T00:00:00\",\"2014-01-30T00:00:00\",\"2014-01-31T00:00:00\",\"2014-02-01T00:00:00\",\"2014-02-02T00:00:00\",\"2014-02-03T00:00:00\",\"2014-02-04T00:00:00\",\"2014-02-05T00:00:00\",\"2014-02-06T00:00:00\",\"2014-02-07T00:00:00\",\"2014-02-08T00:00:00\",\"2014-02-09T00:00:00\",\"2014-02-10T00:00:00\",\"2014-02-11T00:00:00\",\"2014-02-12T00:00:00\",\"2014-02-13T00:00:00\",\"2014-02-14T00:00:00\",\"2014-02-15T00:00:00\",\"2014-02-16T00:00:00\",\"2014-02-17T00:00:00\",\"2014-02-18T00:00:00\",\"2014-02-19T00:00:00\",\"2014-02-20T00:00:00\",\"2014-02-21T00:00:00\",\"2014-02-22T00:00:00\",\"2014-02-23T00:00:00\",\"2014-02-24T00:00:00\",\"2014-02-25T00:00:00\",\"2014-02-26T00:00:00\",\"2014-02-27T00:00:00\",\"2014-02-28T00:00:00\",\"2014-03-01T00:00:00\",\"2014-03-02T00:00:00\",\"2014-03-03T00:00:00\",\"2014-03-04T00:00:00\",\"2014-03-05T00:00:00\",\"2014-03-06T00:00:00\",\"2014-03-07T00:00:00\",\"2014-03-08T00:00:00\",\"2014-03-09T00:00:00\",\"2014-03-10T00:00:00\",\"2014-03-11T00:00:00\",\"2014-03-12T00:00:00\",\"2014-03-13T00:00:00\",\"2014-03-14T00:00:00\",\"2014-03-15T00:00:00\",\"2014-03-16T00:00:00\",\"2014-03-17T00:00:00\",\"2014-03-18T00:00:00\",\"2014-03-19T00:00:00\",\"2014-03-20T00:00:00\",\"2014-03-21T00:00:00\",\"2014-03-22T00:00:00\",\"2014-03-23T00:00:00\",\"2014-03-24T00:00:00\",\"2014-03-25T00:00:00\",\"2014-03-26T00:00:00\",\"2014-03-27T00:00:00\",\"2014-03-28T00:00:00\",\"2014-03-29T00:00:00\",\"2014-03-30T00:00:00\",\"2014-03-31T00:00:00\",\"2014-04-01T00:00:00\",\"2014-04-02T00:00:00\",\"2014-04-03T00:00:00\",\"2014-04-04T00:00:00\",\"2014-04-05T00:00:00\",\"2014-04-06T00:00:00\",\"2014-04-07T00:00:00\",\"2014-04-08T00:00:00\",\"2014-04-09T00:00:00\",\"2014-04-10T00:00:00\",\"2014-04-11T00:00:00\",\"2014-04-12T00:00:00\",\"2014-04-13T00:00:00\",\"2014-04-14T00:00:00\",\"2014-04-15T00:00:00\",\"2014-04-16T00:00:00\",\"2014-04-17T00:00:00\",\"2014-04-18T00:00:00\",\"2014-04-19T00:00:00\",\"2014-04-20T00:00:00\",\"2014-04-21T00:00:00\",\"2014-04-22T00:00:00\",\"2014-04-23T00:00:00\",\"2014-04-24T00:00:00\",\"2014-04-25T00:00:00\",\"2014-04-26T00:00:00\",\"2014-04-27T00:00:00\",\"2014-04-28T00:00:00\",\"2014-04-29T00:00:00\",\"2014-04-30T00:00:00\",\"2014-05-01T00:00:00\",\"2014-05-02T00:00:00\",\"2014-05-03T00:00:00\",\"2014-05-04T00:00:00\",\"2014-05-05T00:00:00\",\"2014-05-06T00:00:00\",\"2014-05-07T00:00:00\",\"2014-05-08T00:00:00\",\"2014-05-09T00:00:00\",\"2014-05-10T00:00:00\",\"2014-05-11T00:00:00\",\"2014-05-12T00:00:00\",\"2014-05-13T00:00:00\",\"2014-05-14T00:00:00\",\"2014-05-15T00:00:00\",\"2014-05-16T00:00:00\",\"2014-05-17T00:00:00\",\"2014-05-18T00:00:00\",\"2014-05-19T00:00:00\",\"2014-05-20T00:00:00\",\"2014-05-21T00:00:00\",\"2014-05-22T00:00:00\",\"2014-05-23T00:00:00\",\"2014-05-24T00:00:00\",\"2014-05-25T00:00:00\",\"2014-05-26T00:00:00\",\"2014-05-27T00:00:00\",\"2014-05-28T00:00:00\",\"2014-05-29T00:00:00\",\"2014-05-30T00:00:00\",\"2014-05-31T00:00:00\",\"2014-06-01T00:00:00\",\"2014-06-02T00:00:00\",\"2014-06-03T00:00:00\",\"2014-06-04T00:00:00\",\"2014-06-05T00:00:00\",\"2014-06-06T00:00:00\",\"2014-06-07T00:00:00\",\"2014-06-08T00:00:00\",\"2014-06-09T00:00:00\",\"2014-06-10T00:00:00\",\"2014-06-11T00:00:00\",\"2014-06-12T00:00:00\",\"2014-06-13T00:00:00\",\"2014-06-14T00:00:00\",\"2014-06-15T00:00:00\",\"2014-06-16T00:00:00\",\"2014-06-17T00:00:00\",\"2014-06-18T00:00:00\",\"2014-06-19T00:00:00\",\"2014-06-20T00:00:00\",\"2014-06-21T00:00:00\",\"2014-06-22T00:00:00\",\"2014-06-23T00:00:00\",\"2014-06-24T00:00:00\",\"2014-06-25T00:00:00\",\"2014-06-26T00:00:00\",\"2014-06-27T00:00:00\",\"2014-06-28T00:00:00\",\"2014-06-29T00:00:00\",\"2014-06-30T00:00:00\",\"2014-07-01T00:00:00\",\"2014-07-02T00:00:00\",\"2014-07-03T00:00:00\",\"2014-07-04T00:00:00\",\"2014-07-05T00:00:00\",\"2014-07-06T00:00:00\",\"2014-07-07T00:00:00\",\"2014-07-08T00:00:00\",\"2014-07-09T00:00:00\",\"2014-07-10T00:00:00\",\"2014-07-11T00:00:00\",\"2014-07-12T00:00:00\",\"2014-07-13T00:00:00\",\"2014-07-14T00:00:00\",\"2014-07-15T00:00:00\",\"2014-07-16T00:00:00\",\"2014-07-17T00:00:00\",\"2014-07-18T00:00:00\",\"2014-07-19T00:00:00\",\"2014-07-20T00:00:00\",\"2014-07-21T00:00:00\",\"2014-07-22T00:00:00\",\"2014-07-23T00:00:00\",\"2014-07-24T00:00:00\",\"2014-07-25T00:00:00\",\"2014-07-26T00:00:00\",\"2014-07-27T00:00:00\",\"2014-07-28T00:00:00\",\"2014-07-29T00:00:00\",\"2014-07-30T00:00:00\",\"2014-07-31T00:00:00\",\"2014-08-01T00:00:00\",\"2014-08-02T00:00:00\",\"2014-08-03T00:00:00\",\"2014-08-04T00:00:00\",\"2014-08-05T00:00:00\",\"2014-08-06T00:00:00\",\"2014-08-07T00:00:00\",\"2014-08-08T00:00:00\",\"2014-08-09T00:00:00\",\"2014-08-10T00:00:00\",\"2014-08-11T00:00:00\",\"2014-08-12T00:00:00\",\"2014-08-13T00:00:00\",\"2014-08-14T00:00:00\",\"2014-08-15T00:00:00\",\"2014-08-16T00:00:00\",\"2014-08-17T00:00:00\",\"2014-08-18T00:00:00\",\"2014-08-19T00:00:00\",\"2014-08-20T00:00:00\",\"2014-08-21T00:00:00\",\"2014-08-22T00:00:00\",\"2014-08-23T00:00:00\",\"2014-08-24T00:00:00\",\"2014-08-25T00:00:00\",\"2014-08-26T00:00:00\",\"2014-08-27T00:00:00\",\"2014-08-28T00:00:00\",\"2014-08-29T00:00:00\",\"2014-08-30T00:00:00\",\"2014-08-31T00:00:00\",\"2014-09-01T00:00:00\",\"2014-09-02T00:00:00\",\"2014-09-03T00:00:00\",\"2014-09-04T00:00:00\",\"2014-09-05T00:00:00\",\"2014-09-06T00:00:00\",\"2014-09-07T00:00:00\",\"2014-09-08T00:00:00\",\"2014-09-09T00:00:00\",\"2014-09-10T00:00:00\",\"2014-09-11T00:00:00\",\"2014-09-12T00:00:00\",\"2014-09-13T00:00:00\",\"2014-09-14T00:00:00\",\"2014-09-15T00:00:00\",\"2014-09-16T00:00:00\",\"2014-09-17T00:00:00\",\"2014-09-18T00:00:00\",\"2014-09-19T00:00:00\",\"2014-09-20T00:00:00\",\"2014-09-21T00:00:00\",\"2014-09-22T00:00:00\",\"2014-09-23T00:00:00\",\"2014-09-24T00:00:00\",\"2014-09-25T00:00:00\",\"2014-09-26T00:00:00\",\"2014-09-27T00:00:00\",\"2014-09-28T00:00:00\",\"2014-09-29T00:00:00\",\"2014-09-30T00:00:00\",\"2014-10-01T00:00:00\",\"2014-10-02T00:00:00\",\"2014-10-03T00:00:00\",\"2014-10-04T00:00:00\",\"2014-10-05T00:00:00\",\"2014-10-06T00:00:00\",\"2014-10-07T00:00:00\",\"2014-10-08T00:00:00\",\"2014-10-09T00:00:00\",\"2014-10-10T00:00:00\",\"2014-10-11T00:00:00\",\"2014-10-12T00:00:00\",\"2014-10-13T00:00:00\",\"2014-10-14T00:00:00\",\"2014-10-15T00:00:00\",\"2014-10-16T00:00:00\",\"2014-10-17T00:00:00\",\"2014-10-18T00:00:00\",\"2014-10-19T00:00:00\",\"2014-10-20T00:00:00\",\"2014-10-21T00:00:00\",\"2014-10-22T00:00:00\",\"2014-10-23T00:00:00\",\"2014-10-24T00:00:00\",\"2014-10-25T00:00:00\",\"2014-10-26T00:00:00\",\"2014-10-27T00:00:00\",\"2014-10-28T00:00:00\",\"2014-10-29T00:00:00\",\"2014-10-30T00:00:00\",\"2014-10-31T00:00:00\",\"2014-11-01T00:00:00\",\"2014-11-02T00:00:00\",\"2014-11-03T00:00:00\",\"2014-11-04T00:00:00\",\"2014-11-05T00:00:00\",\"2014-11-06T00:00:00\",\"2014-11-07T00:00:00\",\"2014-11-08T00:00:00\",\"2014-11-09T00:00:00\",\"2014-11-10T00:00:00\",\"2014-11-11T00:00:00\",\"2014-11-12T00:00:00\",\"2014-11-13T00:00:00\",\"2014-11-14T00:00:00\",\"2014-11-15T00:00:00\",\"2014-11-16T00:00:00\",\"2014-11-17T00:00:00\",\"2014-11-18T00:00:00\",\"2014-11-19T00:00:00\",\"2014-11-20T00:00:00\",\"2014-11-21T00:00:00\",\"2014-11-22T00:00:00\",\"2014-11-23T00:00:00\",\"2014-11-24T00:00:00\",\"2014-11-25T00:00:00\",\"2014-11-26T00:00:00\",\"2014-11-27T00:00:00\",\"2014-11-28T00:00:00\",\"2014-11-29T00:00:00\",\"2014-11-30T00:00:00\",\"2014-12-01T00:00:00\",\"2014-12-02T00:00:00\",\"2014-12-03T00:00:00\",\"2014-12-04T00:00:00\",\"2014-12-05T00:00:00\",\"2014-12-06T00:00:00\",\"2014-12-07T00:00:00\",\"2014-12-08T00:00:00\",\"2014-12-09T00:00:00\",\"2014-12-10T00:00:00\",\"2014-12-11T00:00:00\",\"2014-12-12T00:00:00\",\"2014-12-13T00:00:00\",\"2014-12-14T00:00:00\",\"2014-12-15T00:00:00\",\"2014-12-16T00:00:00\",\"2014-12-17T00:00:00\",\"2014-12-18T00:00:00\",\"2014-12-19T00:00:00\",\"2014-12-20T00:00:00\",\"2014-12-21T00:00:00\",\"2014-12-22T00:00:00\",\"2014-12-23T00:00:00\",\"2014-12-24T00:00:00\",\"2014-12-25T00:00:00\",\"2014-12-26T00:00:00\",\"2014-12-27T00:00:00\",\"2014-12-28T00:00:00\",\"2014-12-29T00:00:00\",\"2014-12-30T00:00:00\",\"2014-12-31T00:00:00\",\"2015-01-01T00:00:00\",\"2015-01-02T00:00:00\",\"2015-01-03T00:00:00\",\"2015-01-04T00:00:00\",\"2015-01-05T00:00:00\",\"2015-01-06T00:00:00\",\"2015-01-07T00:00:00\",\"2015-01-08T00:00:00\",\"2015-01-09T00:00:00\",\"2015-01-10T00:00:00\",\"2015-01-11T00:00:00\",\"2015-01-12T00:00:00\",\"2015-01-13T00:00:00\",\"2015-01-14T00:00:00\",\"2015-01-15T00:00:00\",\"2015-01-16T00:00:00\",\"2015-01-17T00:00:00\",\"2015-01-18T00:00:00\",\"2015-01-19T00:00:00\",\"2015-01-20T00:00:00\",\"2015-01-21T00:00:00\",\"2015-01-22T00:00:00\",\"2015-01-23T00:00:00\",\"2015-01-24T00:00:00\",\"2015-01-25T00:00:00\",\"2015-01-26T00:00:00\",\"2015-01-27T00:00:00\",\"2015-01-28T00:00:00\",\"2015-01-29T00:00:00\",\"2015-01-30T00:00:00\",\"2015-01-31T00:00:00\",\"2015-02-01T00:00:00\",\"2015-02-02T00:00:00\",\"2015-02-03T00:00:00\",\"2015-02-04T00:00:00\",\"2015-02-05T00:00:00\",\"2015-02-06T00:00:00\",\"2015-02-07T00:00:00\",\"2015-02-08T00:00:00\",\"2015-02-09T00:00:00\",\"2015-02-10T00:00:00\",\"2015-02-11T00:00:00\",\"2015-02-12T00:00:00\",\"2015-02-13T00:00:00\",\"2015-02-14T00:00:00\",\"2015-02-15T00:00:00\",\"2015-02-16T00:00:00\",\"2015-02-17T00:00:00\",\"2015-02-18T00:00:00\",\"2015-02-19T00:00:00\",\"2015-02-20T00:00:00\",\"2015-02-21T00:00:00\",\"2015-02-22T00:00:00\",\"2015-02-23T00:00:00\",\"2015-02-24T00:00:00\",\"2015-02-25T00:00:00\",\"2015-02-26T00:00:00\",\"2015-02-27T00:00:00\",\"2015-02-28T00:00:00\",\"2015-03-01T00:00:00\",\"2015-03-02T00:00:00\",\"2015-03-03T00:00:00\",\"2015-03-04T00:00:00\",\"2015-03-05T00:00:00\",\"2015-03-06T00:00:00\",\"2015-03-07T00:00:00\",\"2015-03-08T00:00:00\",\"2015-03-09T00:00:00\",\"2015-03-10T00:00:00\",\"2015-03-11T00:00:00\",\"2015-03-12T00:00:00\",\"2015-03-13T00:00:00\",\"2015-03-14T00:00:00\",\"2015-03-15T00:00:00\",\"2015-03-16T00:00:00\",\"2015-03-17T00:00:00\",\"2015-03-18T00:00:00\",\"2015-03-19T00:00:00\",\"2015-03-20T00:00:00\",\"2015-03-21T00:00:00\",\"2015-03-22T00:00:00\",\"2015-03-23T00:00:00\",\"2015-03-24T00:00:00\",\"2015-03-25T00:00:00\",\"2015-03-26T00:00:00\",\"2015-03-27T00:00:00\",\"2015-03-28T00:00:00\",\"2015-03-29T00:00:00\",\"2015-03-30T00:00:00\",\"2015-03-31T00:00:00\",\"2015-04-01T00:00:00\",\"2015-04-02T00:00:00\",\"2015-04-03T00:00:00\",\"2015-04-04T00:00:00\",\"2015-04-05T00:00:00\",\"2015-04-06T00:00:00\",\"2015-04-07T00:00:00\",\"2015-04-08T00:00:00\",\"2015-04-09T00:00:00\",\"2015-04-10T00:00:00\",\"2015-04-11T00:00:00\",\"2015-04-12T00:00:00\",\"2015-04-13T00:00:00\",\"2015-04-14T00:00:00\",\"2015-04-15T00:00:00\",\"2015-04-16T00:00:00\",\"2015-04-17T00:00:00\",\"2015-04-18T00:00:00\",\"2015-04-19T00:00:00\",\"2015-04-20T00:00:00\",\"2015-04-21T00:00:00\",\"2015-04-22T00:00:00\",\"2015-04-23T00:00:00\",\"2015-04-24T00:00:00\",\"2015-04-25T00:00:00\",\"2015-04-26T00:00:00\",\"2015-04-27T00:00:00\",\"2015-04-28T00:00:00\",\"2015-04-29T00:00:00\",\"2015-04-30T00:00:00\",\"2015-05-01T00:00:00\",\"2015-05-02T00:00:00\",\"2015-05-03T00:00:00\",\"2015-05-04T00:00:00\",\"2015-05-05T00:00:00\",\"2015-05-06T00:00:00\",\"2015-05-07T00:00:00\",\"2015-05-08T00:00:00\",\"2015-05-09T00:00:00\",\"2015-05-10T00:00:00\",\"2015-05-11T00:00:00\",\"2015-05-12T00:00:00\",\"2015-05-13T00:00:00\",\"2015-05-14T00:00:00\",\"2015-05-15T00:00:00\",\"2015-05-16T00:00:00\",\"2015-05-17T00:00:00\",\"2015-05-18T00:00:00\",\"2015-05-19T00:00:00\",\"2015-05-20T00:00:00\",\"2015-05-21T00:00:00\",\"2015-05-22T00:00:00\",\"2015-05-23T00:00:00\",\"2015-05-24T00:00:00\",\"2015-05-25T00:00:00\",\"2015-05-26T00:00:00\",\"2015-05-27T00:00:00\",\"2015-05-28T00:00:00\",\"2015-05-29T00:00:00\",\"2015-05-30T00:00:00\",\"2015-05-31T00:00:00\",\"2015-06-01T00:00:00\",\"2015-06-02T00:00:00\",\"2015-06-03T00:00:00\",\"2015-06-04T00:00:00\",\"2015-06-05T00:00:00\",\"2015-06-06T00:00:00\",\"2015-06-07T00:00:00\",\"2015-06-08T00:00:00\",\"2015-06-09T00:00:00\",\"2015-06-10T00:00:00\",\"2015-06-11T00:00:00\",\"2015-06-12T00:00:00\",\"2015-06-13T00:00:00\",\"2015-06-14T00:00:00\",\"2015-06-15T00:00:00\",\"2015-06-16T00:00:00\",\"2015-06-17T00:00:00\",\"2015-06-18T00:00:00\",\"2015-06-19T00:00:00\",\"2015-06-20T00:00:00\",\"2015-06-21T00:00:00\",\"2015-06-22T00:00:00\",\"2015-06-23T00:00:00\",\"2015-06-24T00:00:00\",\"2015-06-25T00:00:00\",\"2015-06-26T00:00:00\",\"2015-06-27T00:00:00\",\"2015-06-28T00:00:00\",\"2015-06-29T00:00:00\",\"2015-06-30T00:00:00\",\"2015-07-01T00:00:00\",\"2015-07-02T00:00:00\",\"2015-07-03T00:00:00\",\"2015-07-04T00:00:00\",\"2015-07-05T00:00:00\",\"2015-07-06T00:00:00\",\"2015-07-07T00:00:00\",\"2015-07-08T00:00:00\",\"2015-07-09T00:00:00\",\"2015-07-10T00:00:00\",\"2015-07-11T00:00:00\",\"2015-07-12T00:00:00\",\"2015-07-13T00:00:00\",\"2015-07-14T00:00:00\",\"2015-07-15T00:00:00\",\"2015-07-16T00:00:00\",\"2015-07-17T00:00:00\",\"2015-07-18T00:00:00\",\"2015-07-19T00:00:00\",\"2015-07-20T00:00:00\",\"2015-07-21T00:00:00\",\"2015-07-22T00:00:00\",\"2015-07-23T00:00:00\",\"2015-07-24T00:00:00\",\"2015-07-25T00:00:00\",\"2015-07-26T00:00:00\",\"2015-07-27T00:00:00\",\"2015-07-28T00:00:00\",\"2015-07-29T00:00:00\",\"2015-07-30T00:00:00\",\"2015-07-31T00:00:00\",\"2015-08-01T00:00:00\",\"2015-08-02T00:00:00\",\"2015-08-03T00:00:00\",\"2015-08-04T00:00:00\",\"2015-08-05T00:00:00\",\"2015-08-06T00:00:00\",\"2015-08-07T00:00:00\",\"2015-08-08T00:00:00\",\"2015-08-09T00:00:00\",\"2015-08-10T00:00:00\",\"2015-08-11T00:00:00\",\"2015-08-12T00:00:00\",\"2015-08-13T00:00:00\",\"2015-08-14T00:00:00\",\"2015-08-15T00:00:00\",\"2015-08-16T00:00:00\",\"2015-08-17T00:00:00\",\"2015-08-18T00:00:00\",\"2015-08-19T00:00:00\",\"2015-08-20T00:00:00\",\"2015-08-21T00:00:00\",\"2015-08-22T00:00:00\",\"2015-08-23T00:00:00\",\"2015-08-24T00:00:00\",\"2015-08-25T00:00:00\",\"2015-08-26T00:00:00\",\"2015-08-27T00:00:00\",\"2015-08-28T00:00:00\",\"2015-08-29T00:00:00\",\"2015-08-30T00:00:00\",\"2015-08-31T00:00:00\",\"2015-09-01T00:00:00\",\"2015-09-02T00:00:00\",\"2015-09-03T00:00:00\",\"2015-09-04T00:00:00\",\"2015-09-05T00:00:00\",\"2015-09-06T00:00:00\",\"2015-09-07T00:00:00\",\"2015-09-08T00:00:00\",\"2015-09-09T00:00:00\",\"2015-09-10T00:00:00\",\"2015-09-11T00:00:00\",\"2015-09-12T00:00:00\",\"2015-09-13T00:00:00\",\"2015-09-14T00:00:00\",\"2015-09-15T00:00:00\",\"2015-09-16T00:00:00\",\"2015-09-17T00:00:00\",\"2015-09-18T00:00:00\",\"2015-09-19T00:00:00\",\"2015-09-20T00:00:00\",\"2015-09-21T00:00:00\",\"2015-09-22T00:00:00\",\"2015-09-23T00:00:00\",\"2015-09-24T00:00:00\",\"2015-09-25T00:00:00\",\"2015-09-26T00:00:00\",\"2015-09-27T00:00:00\",\"2015-09-28T00:00:00\",\"2015-09-29T00:00:00\",\"2015-09-30T00:00:00\",\"2015-10-01T00:00:00\",\"2015-10-02T00:00:00\",\"2015-10-03T00:00:00\",\"2015-10-04T00:00:00\",\"2015-10-05T00:00:00\",\"2015-10-06T00:00:00\",\"2015-10-07T00:00:00\",\"2015-10-08T00:00:00\",\"2015-10-09T00:00:00\",\"2015-10-10T00:00:00\",\"2015-10-11T00:00:00\",\"2015-10-12T00:00:00\",\"2015-10-13T00:00:00\",\"2015-10-14T00:00:00\",\"2015-10-15T00:00:00\",\"2015-10-16T00:00:00\",\"2015-10-17T00:00:00\",\"2015-10-18T00:00:00\",\"2015-10-19T00:00:00\",\"2015-10-20T00:00:00\",\"2015-10-21T00:00:00\",\"2015-10-22T00:00:00\",\"2015-10-23T00:00:00\",\"2015-10-24T00:00:00\",\"2015-10-25T00:00:00\",\"2015-10-26T00:00:00\",\"2015-10-27T00:00:00\",\"2015-10-28T00:00:00\",\"2015-10-29T00:00:00\",\"2015-10-30T00:00:00\",\"2015-10-31T00:00:00\",\"2015-11-01T00:00:00\",\"2015-11-02T00:00:00\",\"2015-11-03T00:00:00\",\"2015-11-04T00:00:00\",\"2015-11-05T00:00:00\",\"2015-11-06T00:00:00\",\"2015-11-07T00:00:00\",\"2015-11-08T00:00:00\",\"2015-11-09T00:00:00\",\"2015-11-10T00:00:00\",\"2015-11-11T00:00:00\",\"2015-11-12T00:00:00\",\"2015-11-13T00:00:00\",\"2015-11-14T00:00:00\",\"2015-11-15T00:00:00\",\"2015-11-16T00:00:00\",\"2015-11-17T00:00:00\",\"2015-11-18T00:00:00\",\"2015-11-19T00:00:00\",\"2015-11-20T00:00:00\",\"2015-11-21T00:00:00\",\"2015-11-22T00:00:00\",\"2015-11-23T00:00:00\",\"2015-11-24T00:00:00\",\"2015-11-25T00:00:00\",\"2015-11-26T00:00:00\",\"2015-11-27T00:00:00\",\"2015-11-28T00:00:00\",\"2015-11-29T00:00:00\",\"2015-11-30T00:00:00\",\"2015-12-01T00:00:00\",\"2015-12-02T00:00:00\",\"2015-12-03T00:00:00\",\"2015-12-04T00:00:00\",\"2015-12-05T00:00:00\",\"2015-12-06T00:00:00\",\"2015-12-07T00:00:00\",\"2015-12-08T00:00:00\",\"2015-12-09T00:00:00\",\"2015-12-10T00:00:00\",\"2015-12-11T00:00:00\",\"2015-12-12T00:00:00\",\"2015-12-13T00:00:00\",\"2015-12-14T00:00:00\",\"2015-12-15T00:00:00\",\"2015-12-16T00:00:00\",\"2015-12-17T00:00:00\",\"2015-12-18T00:00:00\",\"2015-12-19T00:00:00\",\"2015-12-20T00:00:00\",\"2015-12-21T00:00:00\",\"2015-12-22T00:00:00\",\"2015-12-23T00:00:00\",\"2015-12-24T00:00:00\",\"2015-12-25T00:00:00\",\"2015-12-26T00:00:00\",\"2015-12-27T00:00:00\",\"2015-12-28T00:00:00\",\"2015-12-29T00:00:00\",\"2015-12-30T00:00:00\",\"2015-12-31T00:00:00\",\"2016-01-01T00:00:00\"],\"y\":[12.679058891562637,12.705652698973788,12.706036838847993,12.694468490904788,12.672136743772233,12.65879625031601,12.66826168728946,12.697363593284356,12.699274421316218,12.725503646750422,12.733440716194098,12.746028734847746,12.739332897437759,12.698909024019471,12.7185000149731,12.710519433255998,12.72190174790268,12.722558138107168,12.701727432698545,12.711869599547692,12.726247867621026,12.75197252247067,12.73283435965702,12.686801256682372,12.710869300657473,12.713700479028127,12.758836401166956,12.731295220944213,12.69937843091446,12.694596577558887,12.707186305946477,12.683536811764291,12.678571952062349,12.701382367855274,12.711921039383821,12.699081309247406,12.700128407959152,12.667185137929186,12.631875268272827,12.612259447896905,12.587352124349147,12.592066341165896,12.592102211367298,12.624148546539693,12.642678060161693,12.673167419727005,12.669965781918938,12.649981984585407,12.662560775229634,12.672686794553883,12.679910701178557,12.668000063415262,12.652057988687869,12.65854680563488,12.629591323347624,12.624662931046668,12.64838745326928,12.644102788680547,12.618460210619324,12.599581356586127,12.574363508694326,12.552188126903323,12.582321315611454,12.561010339904223,12.56909855213333,12.567079141448568,12.593904053707538,12.573140225893287,12.59209229354037,12.579519774988752,12.59977784737684,12.614527102887699,12.595126024937572,12.576609746831817,12.536305251953936,12.568494290308477,12.559341121969094,12.57184364345735,12.54783484921073,12.568405047892664,12.531148348147074,12.536274323097015,12.520524764368162,12.484963698539934,12.476113125071722,12.478242209922206,12.461515858716782,12.488945910146867,12.473080983953334,12.47740308335576,12.494273156123043,12.484728107074082,12.515202176729753,12.487108318709181,12.491511440093443,12.487688706994648,12.484488553691463,12.495377606345999,12.479487340548337,12.477648359799607,12.486027054443852,12.492114113605531,12.488951643423478,12.445458431705665,12.422940504579342,12.434974250128176,12.422417851304472,12.456484973035664,12.456376919534371,12.476758120332413,12.464893374076931,12.46160523113095,12.486754144229339,12.505912393754391,12.475675238120393,12.48910126568889,12.453887203370202,12.449176247451282,12.47551475988146,12.459480724935956,12.46341623727571,12.441858797375989,12.448396523415063,12.461499307269479,12.468614303217345,12.453183227908246,12.480179290030193,12.45675003383585,12.466812733698717,12.490219924780591,12.493586989208728,12.486524923065312,12.44298684337633,12.442492475886477,12.450870166691244,12.478028475011868,12.485186145898695,12.497814400715201,12.505589491164686,12.520635096561206,12.539447635054481,12.533991536496508,12.551161599173623,12.55444138242889,12.567328745421202,12.63023806989785,12.628446196036972,12.636025736164108,12.63286206607683,12.587608989848588,12.59542725829356,12.58168541083764,12.5861667578808,12.587323984625893,12.587284234803656,12.609544214995083,12.63448896156247,12.627050125714376,12.598378463763543,12.589670827639212,12.584711709698995,12.575227748004943,12.581511676540746,12.581690452626544,12.612767594542069,12.64344388077557,12.632410634861381,12.643307657510876,12.658974185281691,12.691527844569775,12.68411669877654,12.668765589151322,12.651740725753092,12.63909357333246,12.640020266325289,12.673447921331837,12.667738157646419,12.67034376022712,12.686419713275018,12.670318458808472,12.711046889818183,12.693768442927459,12.705228500685632,12.686868724910036,12.695480875652,12.724626573631895,12.709392487530776,12.72990958082915,12.726334440449614,12.708912251483996,12.718931982626533,12.748421026000528,12.740821498766538,12.78158478901266,12.783599502334837,12.8027269586938,12.777122022889811,12.75771136913896,12.742972666927493,12.757149578946278,12.777379967543096,12.782828478210483,12.773415784020798,12.770149672152922,12.788335672146353,12.789708866329908,12.833038445225561,12.829797554330133,12.837867669273958,12.832554292901255,12.826419319767261,12.845999036708514,12.845741663340549,12.868796106954283,12.856644745981061,12.863831842600215,12.85941586469213,12.848649746718111,12.820238854528798,12.784730440604227,12.75794465944381,12.73376985513361,12.727796643796566,12.732100046041182,12.754367150618863,12.746895490851198,12.727838197526829,12.732875400170723,12.71942318739573,12.710590465376473,12.665706701562739,12.665975210530881,12.677322941056971,12.659031611194292,12.654487895660429,12.635891590130464,12.638744411673903,12.635805353546498,12.619742744234491,12.602044511247941,12.586741564595767,12.612434556647386,12.643898305428356,12.66017341917209,12.670077740526537,12.644209543655275,12.641042505749565,12.633572288299511,12.642722636266804,12.672456257223411,12.659414050542955,12.631005135397064,12.606219262622204,12.61654276331608,12.593734020991043,12.566086819708179,12.55596921081462,12.53850453651917,12.533841284231771,12.511072363852294,12.475338343454256,12.452504882311024,12.472058412152885,12.444349404445347,12.408903837673241,12.453054742621642,12.473307863566552,12.516402380483447,12.54823010311238,12.572256515517662,12.55843300980355,12.603038720726921,12.607263780215657,12.62784150644534,12.59728443974092,12.613542454689716,12.609798053166742,12.596480618087009,12.599127289286388,12.608645619364873,12.607551182722386,12.589188024431934,12.581472929428944,12.560532035477303,12.517604596848626,12.496250814712326,12.501511443452996,12.495257611920934,12.51317512120293,12.499174501509781,12.532105219340398,12.539375960186758,12.536402595059476,12.575446941749142,12.603087839048625,12.584508765198306,12.590503482942626,12.579128486695517,12.597581683862,12.587056073120374,12.573647029497717,12.58090585040785,12.562724332183665,12.570511373567934,12.574628401813566,12.5500288103068,12.545842954106977,12.528751702334368,12.510404062580333,12.550726172958042,12.550071502417838,12.55927368928641,12.567165976423308,12.590284687366339,12.597498867064441,12.609537066819932,12.63595880409103,12.626894087790248,12.638061308802822,12.620314185675852,12.61498541716523,12.603241320188026,12.576676860150744,12.580134420570257,12.588279766575095,12.543801980063913,12.518654201017442,12.5253226384578,12.509961125291106,12.530659968864493,12.554718486022097,12.560141544486042,12.586813749101609,12.569193296700345,12.548963553433948,12.512202110693906,12.549052642143677,12.53721795839481,12.518136587898214,12.50719548368847,12.52579487088163,12.530511209550598,12.566759251910662,12.59306716779266,12.605031128919308,12.612127103625607,12.608235170512733,12.615546828220817,12.598065161309387,12.62314854569223,12.626856337347775,12.620364778901267,12.657647963911643,12.676694087491386,12.696112716626773,12.680918422520625,12.706041316072247,12.718987117220081,12.684004471716639,12.712497019022619,12.724548199574174,12.695722873078333,12.731159732026079,12.746875940863939,12.732399470311497,12.748608116215854,12.729668160250133,12.719649582082473,12.720786008301314,12.73569287908131,12.761778534248629,12.771726519360453,12.748415490991967,12.764842471034283,12.75266919576883,12.747515757360302,12.703802872294213,12.705253448315242,12.714710614789169,12.708487604811003,12.709245257887895,12.692519698050358,12.711062941764787,12.727327043373084,12.693884715935665,12.679899944272627,12.674890881160357,12.673432482205826,12.682405883896234,12.697372425922577,12.695438298632991,12.697197405599415,12.730937507445317,12.729607151466013,12.72445515351245,12.710588298410828,12.723764678173694,12.700956724888234,12.673716361413842,12.694856169005854,12.737807920259403,12.738778167671297,12.729570973088528,12.742118176253236,12.743545583719424,12.728509331765592,12.724584573281732,12.73994506655588,12.714162425646379,12.724734248380345,12.70249565035113,12.737334563691283,12.754062151951649,12.73616773645575,12.747033793937236,12.753189587590988,12.749786460100143,12.777433402488189,12.798003599241692,12.814804823444033,12.828414216339391,12.81049902799705,12.801000067922354,12.80305456420965,12.80506638828272,12.795664293783597,12.784874220087021,12.737895014955749,12.748432757555141,12.722864167677528,12.754694997057024,12.725333574977578,12.751086652254484,12.754174020690977,12.773880829382563,12.78093622812795,12.7693192530193,12.782386032032338,12.813218821772864,12.816880189927906,12.801373489236038,12.785505704350202,12.786590009962337,12.78461195646067,12.758421404247246,12.814706169452268,12.809770338914872,12.809864164850135,12.82393744136563,12.844288064323823,12.848201477715378,12.85126301798564,12.814643657086403,12.806819729394402,12.818832919937627,12.795680971040223,12.82114132534453,12.803826999402816,12.810142908846528,12.824316562531427,12.809321796737454,12.838626328766486,12.831396817106777,12.84981018538171,12.851406761925126,12.872058281493558,12.877059418402643,12.8681143049897,12.920332428270438,12.929940958043165,12.928140843578577,12.928786980153088,12.942739399177162,12.888748859347874,12.884595443490664,12.893598847197394,12.913652575206898,12.886668789469287,12.881760476400876,12.897974453893271,12.89030960610628,12.909288759970593,12.915851331511341,12.919634460060447,12.914012934699237,12.929548635970574,12.941122755184441,12.938130208347717,12.895219847110303,12.875846444277453,12.876406702597546,12.851212106555623,12.87781227308846,12.86176805964579,12.86660357215493,12.853809144133706,12.833906771163205,12.843182354001472,12.824180876569224,12.825062387487346,12.787015909633107,12.774933904700353,12.77124991633028,12.755207095255459,12.75794849299229,12.739213735679092,12.755924202615914,12.724355912398151,12.724159646379505,12.700654145825647,12.660257679379832,12.643153303015103,12.63120003386865,12.610378388442513,12.639151077630347,12.62005684395163,12.605000333330182,12.595044677062774,12.594367485611054,12.580783937965997,12.58080589691743,12.566070473870797,12.555153386464406,12.565197658403237,12.54416528381398,12.546170560970852,12.531374096871376,12.532826173026844,12.53190311530876,12.524254376573184,12.502404629665747,12.489286907736327,12.482454060597323,12.491328331710337,12.463597179175997,12.451271343947822,12.432260846244402,12.420105771253848,12.432868130493986,12.382280037079381,12.405903977912997,12.401533546638937,12.393094243698396,12.366898191578064,12.36247006959035,12.3509821756077,12.365227428588883,12.378931935371224,12.394685564980637,12.375487835530842,12.360236087280773,12.377705273892994,12.403882735413408,12.438640388387142,12.418057525329473,12.41316243481081,12.396319856512722,12.385292212537697,12.34920692862772,12.346534928924706,12.321464674182316,12.356259077287572,12.367898242887803,12.382009061810331,12.365190677691917,12.367640877757559,12.389962775577477,12.395272136656608,12.373701666782031,12.319076290795467,12.332203818384894,12.322180010804482,12.322213235132311,12.307525270896802,12.323524152932533,12.32310621277741,12.288043928066688,12.28486474122671,12.280100249651818,12.283739679917334,12.259383118338608,12.267691438549438,12.26747712301279,12.269042057233632,12.28823481761315,12.292559901058477,12.282304643752777,12.262666459290548,12.252994585571948,12.271882289115323,12.25540168469153,12.248667340926701,12.221291838154727,12.250199605457833,12.256015287707713,12.284958166812961,12.296117424358977,12.282993019506993,12.295707532536357,12.312869855317796,12.318856515472222,12.331672298850998,12.307157569941275,12.28912482423682,12.3097716216955,12.311758588841746,12.288312883216932,12.26892628448163,12.272872139464756,12.271107723205112,12.300242164868585,12.27526170072512,12.261899642208357,12.251275428217527,12.213417570929833,12.222438179858417,12.239761689151125,12.246776710669284,12.229721105084685,12.227948588540812,12.23149988429784,12.251374860924695,12.242063089676726,12.237132634908889,12.246470927565033,12.268590987415564,12.272277632256086,12.245260154126848,12.244355805695728,12.265474177655873,12.2515341679481,12.263882956760833,12.240169910415618,12.245919780934873,12.207750040694304,12.218018487065125,12.196217096356612,12.210434304363986,12.206287658299676,12.21664370613865,12.192479459632985,12.20046562424246,12.206664965321437,12.216256788854475,12.190174854799992,12.187115298096,12.240162841881752,12.251246813419971,12.266148530786118,12.284557175289537,12.298862117290616,12.313264829021044,12.295269005661337,12.31775840602383,12.349029830379036,12.32539977652776,12.287142340826286,12.287885649391857,12.25744024446998,12.264305553826441,12.289393329939658,12.282436775053927,12.298874605451037,12.32004166424161,12.294223468679894,12.31482102515166,12.300855592413699,12.344924412698129,12.343612387632009,12.339725919467881,12.362898811021852,12.380049465745138,12.379127974427933,12.414755191189172,12.376429358976004,12.381125256261091,12.401144011312912,12.39959971159684,12.376967302134654,12.37243333462179,12.371225783455996,12.356997920023955,12.359974228313575,12.386390257437979,12.386797381029591,12.38809978783558,12.37900953372427,12.411410147939968,12.418548293769035,12.38709709719794,12.392834178511233,12.40732594126111,12.410520210442488,12.40271937931298,12.393997239612643,12.38138250784996,12.394659512470625,12.360403769596518,12.357976598900326,12.39685410215005,12.397674812617039,12.337720016900615,12.350953682599439,12.361174716700916,12.338799141452638,12.330568734464658,12.345247461785016,12.313714282559495,12.275041526350295,12.259068990146133,12.285704791323912,12.295997022718561,12.271619555743893,12.24915367333299,12.26013651032373,12.243365909138689,12.284658989577087,12.23064582249519,12.236492617003542,12.226962561122917,12.239655701697709,12.220913526313794,12.200537447136295,12.218411189924977,12.190189014136196,12.16425391535635,12.195262323303568,12.182726764986601,12.178691761126306,12.193523786535573,12.184955767762089],\"type\":\"scatter\"},{\"marker\":{\"color\":\"red\",\"size\":8},\"mode\":\"markers\",\"name\":\"Anomalies\",\"x\":[\"2014-01-08T00:00:00\",\"2014-01-27T00:00:00\",\"2014-02-26T00:00:00\",\"2014-03-01T00:00:00\",\"2014-03-04T00:00:00\",\"2014-05-04T00:00:00\",\"2014-05-07T00:00:00\",\"2014-05-26T00:00:00\",\"2014-06-01T00:00:00\",\"2014-06-02T00:00:00\",\"2014-06-03T00:00:00\",\"2014-06-05T00:00:00\",\"2014-07-13T00:00:00\",\"2014-07-16T00:00:00\",\"2014-07-24T00:00:00\",\"2014-08-26T00:00:00\",\"2014-09-01T00:00:00\",\"2014-09-03T00:00:00\",\"2014-09-09T00:00:00\",\"2014-10-21T00:00:00\",\"2014-12-01T00:00:00\",\"2014-12-02T00:00:00\",\"2014-12-04T00:00:00\",\"2014-12-05T00:00:00\",\"2015-02-10T00:00:00\",\"2015-03-01T00:00:00\",\"2015-03-07T00:00:00\",\"2015-03-15T00:00:00\",\"2015-04-19T00:00:00\",\"2015-06-01T00:00:00\",\"2015-06-02T00:00:00\",\"2015-06-03T00:00:00\",\"2015-06-05T00:00:00\",\"2015-06-25T00:00:00\",\"2015-08-17T00:00:00\",\"2015-09-01T00:00:00\",\"2015-09-04T00:00:00\",\"2015-10-09T00:00:00\",\"2015-10-19T00:00:00\",\"2015-11-21T00:00:00\",\"2015-12-02T00:00:00\",\"2015-12-03T00:00:00\"],\"y\":[8.410390419017165,7.843452549023576,10.732519429328612,14.146238298575433,17.20638758965454,19.30772622554501,19.24884782675099,23.83094741178745,27.921910783481476,31.31873648792295,29.176201408447188,33.20825353652188,36.43255477030536,13.701033095168356,37.38215294284605,34.523541576111384,10.882227038435683,8.842661029564612,7.7098029887229504,27.01759026625208,-3.871283695048917,-2.493941875076594,-2.5981918525121186,-2.8916573762864877,-12.540843790721791,14.88055408524627,17.905273996105812,19.5355479652576,-4.6905547303285715,22.42628440665252,27.68492195031787,28.929026528570553,33.21626855379464,41.4632098202985,33.78115784869036,12.322464107277822,4.993944653746645,29.59019201886845,3.6281474487683134,5.672822081754003,-2.1943825546260616,-6.692503831601306],\"type\":\"scatter\"}],                        {\"template\":{\"data\":{\"histogram2dcontour\":[{\"type\":\"histogram2dcontour\",\"colorbar\":{\"outlinewidth\":0,\"ticks\":\"\"},\"colorscale\":[[0.0,\"#0d0887\"],[0.1111111111111111,\"#46039f\"],[0.2222222222222222,\"#7201a8\"],[0.3333333333333333,\"#9c179e\"],[0.4444444444444444,\"#bd3786\"],[0.5555555555555556,\"#d8576b\"],[0.6666666666666666,\"#ed7953\"],[0.7777777777777778,\"#fb9f3a\"],[0.8888888888888888,\"#fdca26\"],[1.0,\"#f0f921\"]]}],\"choropleth\":[{\"type\":\"choropleth\",\"colorbar\":{\"outlinewidth\":0,\"ticks\":\"\"}}],\"histogram2d\":[{\"type\":\"histogram2d\",\"colorbar\":{\"outlinewidth\":0,\"ticks\":\"\"},\"colorscale\":[[0.0,\"#0d0887\"],[0.1111111111111111,\"#46039f\"],[0.2222222222222222,\"#7201a8\"],[0.3333333333333333,\"#9c179e\"],[0.4444444444444444,\"#bd3786\"],[0.5555555555555556,\"#d8576b\"],[0.6666666666666666,\"#ed7953\"],[0.7777777777777778,\"#fb9f3a\"],[0.8888888888888888,\"#fdca26\"],[1.0,\"#f0f921\"]]}],\"heatmap\":[{\"type\":\"heatmap\",\"colorbar\":{\"outlinewidth\":0,\"ticks\":\"\"},\"colorscale\":[[0.0,\"#0d0887\"],[0.1111111111111111,\"#46039f\"],[0.2222222222222222,\"#7201a8\"],[0.3333333333333333,\"#9c179e\"],[0.4444444444444444,\"#bd3786\"],[0.5555555555555556,\"#d8576b\"],[0.6666666666666666,\"#ed7953\"],[0.7777777777777778,\"#fb9f3a\"],[0.8888888888888888,\"#fdca26\"],[1.0,\"#f0f921\"]]}],\"heatmapgl\":[{\"type\":\"heatmapgl\",\"colorbar\":{\"outlinewidth\":0,\"ticks\":\"\"},\"colorscale\":[[0.0,\"#0d0887\"],[0.1111111111111111,\"#46039f\"],[0.2222222222222222,\"#7201a8\"],[0.3333333333333333,\"#9c179e\"],[0.4444444444444444,\"#bd3786\"],[0.5555555555555556,\"#d8576b\"],[0.6666666666666666,\"#ed7953\"],[0.7777777777777778,\"#fb9f3a\"],[0.8888888888888888,\"#fdca26\"],[1.0,\"#f0f921\"]]}],\"contourcarpet\":[{\"type\":\"contourcarpet\",\"colorbar\":{\"outlinewidth\":0,\"ticks\":\"\"}}],\"contour\":[{\"type\":\"contour\",\"colorbar\":{\"outlinewidth\":0,\"ticks\":\"\"},\"colorscale\":[[0.0,\"#0d0887\"],[0.1111111111111111,\"#46039f\"],[0.2222222222222222,\"#7201a8\"],[0.3333333333333333,\"#9c179e\"],[0.4444444444444444,\"#bd3786\"],[0.5555555555555556,\"#d8576b\"],[0.6666666666666666,\"#ed7953\"],[0.7777777777777778,\"#fb9f3a\"],[0.8888888888888888,\"#fdca26\"],[1.0,\"#f0f921\"]]}],\"surface\":[{\"type\":\"surface\",\"colorbar\":{\"outlinewidth\":0,\"ticks\":\"\"},\"colorscale\":[[0.0,\"#0d0887\"],[0.1111111111111111,\"#46039f\"],[0.2222222222222222,\"#7201a8\"],[0.3333333333333333,\"#9c179e\"],[0.4444444444444444,\"#bd3786\"],[0.5555555555555556,\"#d8576b\"],[0.6666666666666666,\"#ed7953\"],[0.7777777777777778,\"#fb9f3a\"],[0.8888888888888888,\"#fdca26\"],[1.0,\"#f0f921\"]]}],\"mesh3d\":[{\"type\":\"mesh3d\",\"colorbar\":{\"outlinewidth\":0,\"ticks\":\"\"}}],\"scatter\":[{\"fillpattern\":{\"fillmode\":\"overlay\",\"size\":10,\"solidity\":0.2},\"type\":\"scatter\"}],\"parcoords\":[{\"type\":\"parcoords\",\"line\":{\"colorbar\":{\"outlinewidth\":0,\"ticks\":\"\"}}}],\"scatterpolargl\":[{\"type\":\"scatterpolargl\",\"marker\":{\"colorbar\":{\"outlinewidth\":0,\"ticks\":\"\"}}}],\"bar\":[{\"error_x\":{\"color\":\"#2a3f5f\"},\"error_y\":{\"color\":\"#2a3f5f\"},\"marker\":{\"line\":{\"color\":\"#E5ECF6\",\"width\":0.5},\"pattern\":{\"fillmode\":\"overlay\",\"size\":10,\"solidity\":0.2}},\"type\":\"bar\"}],\"scattergeo\":[{\"type\":\"scattergeo\",\"marker\":{\"colorbar\":{\"outlinewidth\":0,\"ticks\":\"\"}}}],\"scatterpolar\":[{\"type\":\"scatterpolar\",\"marker\":{\"colorbar\":{\"outlinewidth\":0,\"ticks\":\"\"}}}],\"histogram\":[{\"marker\":{\"pattern\":{\"fillmode\":\"overlay\",\"size\":10,\"solidity\":0.2}},\"type\":\"histogram\"}],\"scattergl\":[{\"type\":\"scattergl\",\"marker\":{\"colorbar\":{\"outlinewidth\":0,\"ticks\":\"\"}}}],\"scatter3d\":[{\"type\":\"scatter3d\",\"line\":{\"colorbar\":{\"outlinewidth\":0,\"ticks\":\"\"}},\"marker\":{\"colorbar\":{\"outlinewidth\":0,\"ticks\":\"\"}}}],\"scattermapbox\":[{\"type\":\"scattermapbox\",\"marker\":{\"colorbar\":{\"outlinewidth\":0,\"ticks\":\"\"}}}],\"scatterternary\":[{\"type\":\"scatterternary\",\"marker\":{\"colorbar\":{\"outlinewidth\":0,\"ticks\":\"\"}}}],\"scattercarpet\":[{\"type\":\"scattercarpet\",\"marker\":{\"colorbar\":{\"outlinewidth\":0,\"ticks\":\"\"}}}],\"carpet\":[{\"aaxis\":{\"endlinecolor\":\"#2a3f5f\",\"gridcolor\":\"white\",\"linecolor\":\"white\",\"minorgridcolor\":\"white\",\"startlinecolor\":\"#2a3f5f\"},\"baxis\":{\"endlinecolor\":\"#2a3f5f\",\"gridcolor\":\"white\",\"linecolor\":\"white\",\"minorgridcolor\":\"white\",\"startlinecolor\":\"#2a3f5f\"},\"type\":\"carpet\"}],\"table\":[{\"cells\":{\"fill\":{\"color\":\"#EBF0F8\"},\"line\":{\"color\":\"white\"}},\"header\":{\"fill\":{\"color\":\"#C8D4E3\"},\"line\":{\"color\":\"white\"}},\"type\":\"table\"}],\"barpolar\":[{\"marker\":{\"line\":{\"color\":\"#E5ECF6\",\"width\":0.5},\"pattern\":{\"fillmode\":\"overlay\",\"size\":10,\"solidity\":0.2}},\"type\":\"barpolar\"}],\"pie\":[{\"automargin\":true,\"type\":\"pie\"}]},\"layout\":{\"autotypenumbers\":\"strict\",\"colorway\":[\"#636efa\",\"#EF553B\",\"#00cc96\",\"#ab63fa\",\"#FFA15A\",\"#19d3f3\",\"#FF6692\",\"#B6E880\",\"#FF97FF\",\"#FECB52\"],\"font\":{\"color\":\"#2a3f5f\"},\"hovermode\":\"closest\",\"hoverlabel\":{\"align\":\"left\"},\"paper_bgcolor\":\"white\",\"plot_bgcolor\":\"#E5ECF6\",\"polar\":{\"bgcolor\":\"#E5ECF6\",\"angularaxis\":{\"gridcolor\":\"white\",\"linecolor\":\"white\",\"ticks\":\"\"},\"radialaxis\":{\"gridcolor\":\"white\",\"linecolor\":\"white\",\"ticks\":\"\"}},\"ternary\":{\"bgcolor\":\"#E5ECF6\",\"aaxis\":{\"gridcolor\":\"white\",\"linecolor\":\"white\",\"ticks\":\"\"},\"baxis\":{\"gridcolor\":\"white\",\"linecolor\":\"white\",\"ticks\":\"\"},\"caxis\":{\"gridcolor\":\"white\",\"linecolor\":\"white\",\"ticks\":\"\"}},\"coloraxis\":{\"colorbar\":{\"outlinewidth\":0,\"ticks\":\"\"}},\"colorscale\":{\"sequential\":[[0.0,\"#0d0887\"],[0.1111111111111111,\"#46039f\"],[0.2222222222222222,\"#7201a8\"],[0.3333333333333333,\"#9c179e\"],[0.4444444444444444,\"#bd3786\"],[0.5555555555555556,\"#d8576b\"],[0.6666666666666666,\"#ed7953\"],[0.7777777777777778,\"#fb9f3a\"],[0.8888888888888888,\"#fdca26\"],[1.0,\"#f0f921\"]],\"sequentialminus\":[[0.0,\"#0d0887\"],[0.1111111111111111,\"#46039f\"],[0.2222222222222222,\"#7201a8\"],[0.3333333333333333,\"#9c179e\"],[0.4444444444444444,\"#bd3786\"],[0.5555555555555556,\"#d8576b\"],[0.6666666666666666,\"#ed7953\"],[0.7777777777777778,\"#fb9f3a\"],[0.8888888888888888,\"#fdca26\"],[1.0,\"#f0f921\"]],\"diverging\":[[0,\"#8e0152\"],[0.1,\"#c51b7d\"],[0.2,\"#de77ae\"],[0.3,\"#f1b6da\"],[0.4,\"#fde0ef\"],[0.5,\"#f7f7f7\"],[0.6,\"#e6f5d0\"],[0.7,\"#b8e186\"],[0.8,\"#7fbc41\"],[0.9,\"#4d9221\"],[1,\"#276419\"]]},\"xaxis\":{\"gridcolor\":\"white\",\"linecolor\":\"white\",\"ticks\":\"\",\"title\":{\"standoff\":15},\"zerolinecolor\":\"white\",\"automargin\":true,\"zerolinewidth\":2},\"yaxis\":{\"gridcolor\":\"white\",\"linecolor\":\"white\",\"ticks\":\"\",\"title\":{\"standoff\":15},\"zerolinecolor\":\"white\",\"automargin\":true,\"zerolinewidth\":2},\"scene\":{\"xaxis\":{\"backgroundcolor\":\"#E5ECF6\",\"gridcolor\":\"white\",\"linecolor\":\"white\",\"showbackground\":true,\"ticks\":\"\",\"zerolinecolor\":\"white\",\"gridwidth\":2},\"yaxis\":{\"backgroundcolor\":\"#E5ECF6\",\"gridcolor\":\"white\",\"linecolor\":\"white\",\"showbackground\":true,\"ticks\":\"\",\"zerolinecolor\":\"white\",\"gridwidth\":2},\"zaxis\":{\"backgroundcolor\":\"#E5ECF6\",\"gridcolor\":\"white\",\"linecolor\":\"white\",\"showbackground\":true,\"ticks\":\"\",\"zerolinecolor\":\"white\",\"gridwidth\":2}},\"shapedefaults\":{\"line\":{\"color\":\"#2a3f5f\"}},\"annotationdefaults\":{\"arrowcolor\":\"#2a3f5f\",\"arrowhead\":0,\"arrowwidth\":1},\"geo\":{\"bgcolor\":\"white\",\"landcolor\":\"#E5ECF6\",\"subunitcolor\":\"white\",\"showland\":true,\"showlakes\":true,\"lakecolor\":\"white\"},\"title\":{\"x\":0.05},\"mapbox\":{\"style\":\"light\"}}},\"xaxis\":{\"title\":{\"text\":\"Date\"},\"tickformat\":\"%Y-%m-%d\"},\"title\":{\"text\":\"Temperature Trends and Anomalies in New York\"},\"yaxis\":{\"title\":{\"text\":\"Temperature\"}},\"showlegend\":true,\"hovermode\":\"x unified\"},                        {\"responsive\": true}                    ).then(function(){\n",
              "                            \n",
              "var gd = document.getElementById('9822039e-f898-4007-9bb2-c8dbf91efa98');\n",
              "var x = new MutationObserver(function (mutations, observer) {{\n",
              "        var display = window.getComputedStyle(gd).display;\n",
              "        if (!display || display === 'none') {{\n",
              "            console.log([gd, 'removed!']);\n",
              "            Plotly.purge(gd);\n",
              "            observer.disconnect();\n",
              "        }}\n",
              "}});\n",
              "\n",
              "// Listen for the removal of the full notebook cells\n",
              "var notebookContainer = gd.closest('#notebook-container');\n",
              "if (notebookContainer) {{\n",
              "    x.observe(notebookContainer, {childList: true});\n",
              "}}\n",
              "\n",
              "// Listen for the clearing of the current output cell\n",
              "var outputEl = gd.closest('.output');\n",
              "if (outputEl) {{\n",
              "    x.observe(outputEl, {childList: true});\n",
              "}}\n",
              "\n",
              "                        })                };                            </script>        </div>\n",
              "</body>\n",
              "</html>"
            ]
          },
          "metadata": {}
        }
      ]
    },
    {
      "cell_type": "markdown",
      "source": [
        "*Распараллелим проведение анализа и сравним результаты!*"
      ],
      "metadata": {
        "id": "K77uuXb_eBm1"
      }
    },
    {
      "cell_type": "code",
      "source": [
        "df = data.copy()"
      ],
      "metadata": {
        "id": "Cl3uP-F2k8p0"
      },
      "execution_count": 77,
      "outputs": []
    },
    {
      "cell_type": "code",
      "source": [
        "def compute_rolling_statistics(city_data):\n",
        "    city_data['rolling_mean_temperature'] = city_data['temperature'].rolling(window=30).mean()\n",
        "    city_data['rolling_std_temperature'] = city_data['temperature'].rolling(window=30).std()\n",
        "    return city_data"
      ],
      "metadata": {
        "id": "QvkH1XybnUOO"
      },
      "execution_count": 78,
      "outputs": []
    },
    {
      "cell_type": "code",
      "source": [
        "# время без распараллеливания\n",
        "start_time = time.time()\n",
        "\n",
        "df['rolling_mean_temperature'] = df.groupby('city')['temperature'].rolling(window=30).mean().reset_index(level=0, drop=True)\n",
        "df['rolling_std_temperature'] = df.groupby('city')['temperature'].rolling(window=30).std().reset_index(level=0, drop=True)\n",
        "\n",
        "df['anomaly'] = ((df['temperature'] > (df['rolling_mean_temperature'] + 2 * df['rolling_std_temperature'])) |\n",
        "                   (df['temperature'] < (df['rolling_mean_temperature'] - 2 * df['rolling_std_temperature'])))\n",
        "\n",
        "df['long_term_trend'] = df.groupby('city')['temperature'].rolling(window=365).mean().reset_index(level=0, drop=True)\n",
        "\n",
        "end_time = time.time()\n",
        "print(f\"Время выполнения без распараллеливания: {end_time - start_time:.2f} секунд\")\n",
        "\n",
        "# время с распараллеливанием\n",
        "start_time_parallel = time.time()\n",
        "\n",
        "city_groups = [group for _, group in df.groupby(level='city')]\n",
        "\n",
        "results = Parallel(n_jobs=-1)(delayed(compute_rolling_statistics)(city_data) for city_data in city_groups) # распараллеливаем вычисления\n",
        "\n",
        "df = pd.concat(results)\n",
        "\n",
        "df['anomaly'] = ((df['temperature'] > (df['rolling_mean_temperature'] + 2 * df['rolling_std_temperature'])) |\n",
        "                   (df['temperature'] < (df['rolling_mean_temperature'] - 2 * df['rolling_std_temperature'])))\n",
        "\n",
        "df['long_term_trend'] = df.groupby('city')['temperature'].rolling(window=365).mean().reset_index(level=0, drop=True)\n",
        "\n",
        "end_time_parallel = time.time()\n",
        "print(f\"Время выполнения с распараллеливанием: {end_time_parallel - start_time_parallel:.2f} секунд\")"
      ],
      "metadata": {
        "colab": {
          "base_uri": "https://localhost:8080/"
        },
        "id": "UW7pmNJgeFYZ",
        "outputId": "8cff691c-1227-4837-afeb-5af8893581b8"
      },
      "execution_count": 79,
      "outputs": [
        {
          "output_type": "stream",
          "name": "stdout",
          "text": [
            "Время выполнения без распараллеливания: 0.09 секунд\n",
            "Время выполнения с распараллеливанием: 2.76 секунд\n"
          ]
        }
      ]
    },
    {
      "cell_type": "markdown",
      "source": [
        "**Вывод:** с распараллеливанием дольше!"
      ],
      "metadata": {
        "id": "sfc57ApTvr1u"
      }
    },
    {
      "cell_type": "markdown",
      "source": [
        "***Мониторинг текущей температуры***"
      ],
      "metadata": {
        "id": "_UUrLY3e9B0c"
      }
    },
    {
      "cell_type": "code",
      "source": [
        "import requests\n",
        "\n",
        "def get_current_temperature(city: str, country_code: str, api_key: str):\n",
        "    url = f\"http://api.openweathermap.org/data/2.5/weather?q={city},{country_code}&APPID={api_key}&units=metric\"\n",
        "\n",
        "    response = requests.get(url)\n",
        "\n",
        "    if response.status_code == 200:\n",
        "        data = response.json()\n",
        "        temperature = data['main']['temp']  # температура в Кельвинах\n",
        "        return temperature\n",
        "    else:\n",
        "        print(f\"Ошибка: {response.status_code}\")\n",
        "        return None"
      ],
      "metadata": {
        "id": "c0vIgWMO9HdF"
      },
      "execution_count": 87,
      "outputs": []
    },
    {
      "cell_type": "markdown",
      "source": [
        "*Проверим нормальность температуры*"
      ],
      "metadata": {
        "id": "NOEONkhSdDyX"
      }
    },
    {
      "cell_type": "code",
      "source": [
        "def check_temperature_normality(data: pd.DataFrame, city: str, current_temperature: float) -> str:\n",
        "    city_data = data.xs(city, level='city')\n",
        "\n",
        "    # текущие сезонное среднее и стандартное отклонение\n",
        "    rolling_mean = city_data['rolling_mean_temperature'].iloc[-1]\n",
        "    rolling_std = city_data['rolling_std_temperature'].iloc[-1]\n",
        "\n",
        "    # границы для нормальной температуры\n",
        "    lower_bound = rolling_mean - 2 * rolling_std\n",
        "    upper_bound = rolling_mean + 2 * rolling_std\n",
        "\n",
        "    if current_temperature < lower_bound:\n",
        "        return \"Температура ниже нормы (аномалия)\"\n",
        "    elif current_temperature > upper_bound:\n",
        "        return \"Температура выше нормы (аномалия)\"\n",
        "    else:\n",
        "        return \"Температура в пределах нормы\""
      ],
      "metadata": {
        "id": "Ddrht9Inc6Ry"
      },
      "execution_count": 81,
      "outputs": []
    },
    {
      "cell_type": "code",
      "source": [
        "city = \"Moscow\"\n",
        "country_code = \"rus\"\n",
        "api_key = \"API_KEY\"\n",
        "\n",
        "# текущая температура\n",
        "current_temperature = get_current_temperature(city, country_code, api_key)\n",
        "\n",
        "if current_temperature is not None:\n",
        "    print(f\"Текущая температура в {city.title()} составляет {current_temperature}°C.\")\n",
        "\n",
        "    normality_status = check_temperature_normality(data, city, current_temperature)\n",
        "    print(normality_status)"
      ],
      "metadata": {
        "colab": {
          "base_uri": "https://localhost:8080/"
        },
        "id": "KLlkLbEuc9Yr",
        "outputId": "c5b6338d-82c0-4c02-fb3d-3ddf4e10aa91"
      },
      "execution_count": 82,
      "outputs": [
        {
          "output_type": "stream",
          "name": "stdout",
          "text": [
            "Текущая температура в Moscow составляет 2.41°C.\n",
            "Температура выше нормы (аномалия)\n"
          ]
        }
      ]
    },
    {
      "cell_type": "markdown",
      "source": [
        "*Решим асихронным методом*"
      ],
      "metadata": {
        "id": "-Qdj0UOwdiTr"
      }
    },
    {
      "cell_type": "code",
      "source": [
        "import aiohttp\n",
        "import asyncio\n",
        "import pandas as pd\n",
        "import time\n",
        "import nest_asyncio\n",
        "\n",
        "nest_asyncio.apply()\n",
        "\n",
        "async def get_current_temperature_async(city: str, country_code: str, api_key: str) -> float:\n",
        "    url = f\"http://api.openweathermap.org/data/2.5/weather?q={city},{country_code}&APPID={api_key}&units=metric\"\n",
        "\n",
        "    async with aiohttp.ClientSession() as session:\n",
        "        async with session.get(url) as response:\n",
        "            if response.status == 200:\n",
        "                data = await response.json()\n",
        "                temperature = data['main']['temp']\n",
        "                return temperature\n",
        "            else:\n",
        "                print(f\"Ошибка: {response.status}\")\n",
        "                return None\n",
        "\n",
        "async def check_temperature_async(data: pd.DataFrame, city: str, country_code: str, api_key: str):\n",
        "    current_temperature = await get_current_temperature_async(city, country_code, api_key)\n",
        "\n",
        "    if current_temperature is not None:\n",
        "        print(f\"Текущая температура в {city} составляет {current_temperature}°C.\")\n",
        "        city_data = data.xs(city, level='city')\n",
        "\n",
        "        rolling_mean = city_data['rolling_mean_temperature'].iloc[-1]\n",
        "        rolling_std = city_data['rolling_std_temperature'].iloc[-1]\n",
        "\n",
        "        lower_bound = rolling_mean - 2 * rolling_std\n",
        "        upper_bound = rolling_mean + 2 * rolling_std\n",
        "\n",
        "        if current_temperature < lower_bound:\n",
        "            print(\"Температура ниже нормы (аномалия)\")\n",
        "        elif current_temperature > upper_bound:\n",
        "            print(\"Температура выше нормы (аномалия)\")\n",
        "        else:\n",
        "            print(\"Температура в пределах нормы\")\n",
        "    else:\n",
        "        print(\"Не удалось получить текущую температуру.\")"
      ],
      "metadata": {
        "id": "3AjbVu6xdh9X"
      },
      "execution_count": 86,
      "outputs": []
    },
    {
      "cell_type": "code",
      "source": [
        "# проверим, что работает\n",
        "async def main():\n",
        "    city = \"London\"\n",
        "    country_code = \"uk\"\n",
        "    api_key = \"API_KEY\"\n",
        "\n",
        "    await check_temperature_async(data, city, country_code, api_key)\n",
        "\n",
        "loop = asyncio.get_event_loop()\n",
        "loop.run_until_complete(main())"
      ],
      "metadata": {
        "colab": {
          "base_uri": "https://localhost:8080/"
        },
        "id": "jccQYfXVuGCc",
        "outputId": "e9f78296-81e1-4962-d0b3-dd5730972f0d"
      },
      "execution_count": 84,
      "outputs": [
        {
          "output_type": "stream",
          "name": "stdout",
          "text": [
            "Текущая температура в London составляет -1.47°C.\n",
            "Температура в пределах нормы\n"
          ]
        }
      ]
    },
    {
      "cell_type": "markdown",
      "source": [
        "*Сравним методы*"
      ],
      "metadata": {
        "id": "hxxKMpYItCs4"
      }
    },
    {
      "cell_type": "code",
      "source": [
        "# синхронный метод\n",
        "start_time = time.time()\n",
        "for city in list(seasonal_temperatures.keys()):\n",
        "    get_current_temperature(city, \"usa\", \"API_KEY\")\n",
        "end_time = time.time()\n",
        "\n",
        "print(f\"Синхронный метод завершен за {end_time - start_time:.2f} секунд.\")\n",
        "\n",
        "# асинхронный метод\n",
        "async def fetch_temperatures_async():\n",
        "    cities = list(seasonal_temperatures.keys())\n",
        "    tasks = [\n",
        "        get_current_temperature_async(city, \"usa\", \"API_KEY\")\n",
        "        for city in cities\n",
        "    ]\n",
        "    await asyncio.gather(*tasks)\n",
        "\n",
        "start_time = time.time()\n",
        "asyncio.run(fetch_temperatures_async())\n",
        "end_time = time.time()\n",
        "\n",
        "print(f\"Асинхронный метод завершен за {end_time - start_time:.2f} секунд.\")"
      ],
      "metadata": {
        "colab": {
          "base_uri": "https://localhost:8080/"
        },
        "id": "HYjkfrvNtEDQ",
        "outputId": "2d492f58-4dc2-4a68-bff4-bbafe4b1fafe"
      },
      "execution_count": 85,
      "outputs": [
        {
          "output_type": "stream",
          "name": "stdout",
          "text": [
            "Синхронный метод завершен за 0.91 секунд.\n",
            "Асинхронный метод завершен за 0.32 секунд.\n"
          ]
        }
      ]
    },
    {
      "cell_type": "markdown",
      "source": [
        "**Вывод**: асинхронный метод быстрее!"
      ],
      "metadata": {
        "id": "2HJRcPZmviKU"
      }
    },
    {
      "cell_type": "markdown",
      "source": [
        "***Создание приложения на Streamlit***"
      ],
      "metadata": {
        "id": "E3Nr2uszwJ4Y"
      }
    },
    {
      "cell_type": "markdown",
      "source": [
        "*Смотри в отдельном файле!*"
      ],
      "metadata": {
        "id": "3CHHI6_PwU5e"
      }
    }
  ]
}